{
 "cells": [
  {
   "cell_type": "code",
   "execution_count": 1,
   "metadata": {},
   "outputs": [],
   "source": [
    "import pyexiv2\n",
    "from PIL import Image"
   ]
  },
  {
   "cell_type": "code",
   "execution_count": null,
   "metadata": {},
   "outputs": [],
   "source": [
    "test_im = Image.open(\"../square_cat_static.jpg\")\n",
    "test_im.save(\"./testexif.jpg\")"
   ]
  },
  {
   "cell_type": "code",
   "execution_count": 15,
   "metadata": {},
   "outputs": [],
   "source": [
    "with open(\"testexif.jpg\", 'rb+') as img_output_f:\n",
    "    with pyexiv2.ImageData(img_output_f.read()) as pyexif_img:\n",
    "        pyexif_img.modify_exif({\"Exif.Image.ImageDescription\": \"this is a cute cat\"})\n",
    "        # Empty the original file\n",
    "        img_output_f.seek(0)\n",
    "        img_output_f.truncate()\n",
    "        # Get the bytes data of the image and save it to the file\n",
    "        img_output_f.write(pyexif_img.get_bytes())"
   ]
  },
  {
   "cell_type": "code",
   "execution_count": 16,
   "metadata": {},
   "outputs": [
    {
     "name": "stdout",
     "output_type": "stream",
     "text": [
      "{270: 'this is a cute cat'}\n",
      "Tag 270 Value this is a cute cat\n"
     ]
    }
   ],
   "source": [
    "pil_img = Image.open(\"./testexif.jpg\")\n",
    "exif = pil_img.getexif()\n",
    "print(exif)\n",
    "for k, v in exif.items():\n",
    "    print(\"Tag\", k, \"Value\", v)"
   ]
  },
  {
   "cell_type": "code",
   "execution_count": 13,
   "metadata": {},
   "outputs": [],
   "source": [
    "pil_img = Image.open(\"./testexif.jpg\")\n",
    "exif = pil_img.getexif()\n",
    "\n",
    "exif[270] = \"This is a scared cat\"\n",
    "pil_img.save(\"./testexif.jpg\", 'JPEG', exif=exif)"
   ]
  }
 ],
 "metadata": {
  "kernelspec": {
   "display_name": "main",
   "language": "python",
   "name": "python3"
  },
  "language_info": {
   "codemirror_mode": {
    "name": "ipython",
    "version": 3
   },
   "file_extension": ".py",
   "mimetype": "text/x-python",
   "name": "python",
   "nbconvert_exporter": "python",
   "pygments_lexer": "ipython3",
   "version": "3.9.19"
  }
 },
 "nbformat": 4,
 "nbformat_minor": 2
}
