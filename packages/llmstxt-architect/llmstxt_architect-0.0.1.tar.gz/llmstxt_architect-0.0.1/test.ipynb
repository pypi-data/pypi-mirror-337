{
 "cells": [
  {
   "cell_type": "code",
   "execution_count": 2,
   "metadata": {},
   "outputs": [
    {
     "name": "stdout",
     "output_type": "stream",
     "text": [
      "Requirement already satisfied: llmstxt-architect in ./.venv/lib/python3.13/site-packages (0.4.0)\n",
      "Requirement already satisfied: beautifulsoup4>=4.13.3 in ./.venv/lib/python3.13/site-packages (from llmstxt-architect) (4.13.3)\n",
      "Requirement already satisfied: httpx>=0.28.1 in ./.venv/lib/python3.13/site-packages (from llmstxt-architect) (0.28.1)\n",
      "Requirement already satisfied: langchain-anthropic>=0.3.10 in ./.venv/lib/python3.13/site-packages (from llmstxt-architect) (0.3.10)\n",
      "Requirement already satisfied: langchain-community>=0.3.20 in ./.venv/lib/python3.13/site-packages (from llmstxt-architect) (0.3.20)\n",
      "Requirement already satisfied: langchain>=0.3.21 in ./.venv/lib/python3.13/site-packages (from llmstxt-architect) (0.3.21)\n",
      "Requirement already satisfied: lxml>=5.3.1 in ./.venv/lib/python3.13/site-packages (from llmstxt-architect) (5.3.1)\n",
      "Requirement already satisfied: markdownify>=1.1.0 in ./.venv/lib/python3.13/site-packages (from llmstxt-architect) (1.1.0)\n",
      "Requirement already satisfied: soupsieve>1.2 in ./.venv/lib/python3.13/site-packages (from beautifulsoup4>=4.13.3->llmstxt-architect) (2.6)\n",
      "Requirement already satisfied: typing-extensions>=4.0.0 in ./.venv/lib/python3.13/site-packages (from beautifulsoup4>=4.13.3->llmstxt-architect) (4.12.2)\n",
      "Requirement already satisfied: anyio in ./.venv/lib/python3.13/site-packages (from httpx>=0.28.1->llmstxt-architect) (4.9.0)\n",
      "Requirement already satisfied: certifi in ./.venv/lib/python3.13/site-packages (from httpx>=0.28.1->llmstxt-architect) (2025.1.31)\n",
      "Requirement already satisfied: httpcore==1.* in ./.venv/lib/python3.13/site-packages (from httpx>=0.28.1->llmstxt-architect) (1.0.7)\n",
      "Requirement already satisfied: idna in ./.venv/lib/python3.13/site-packages (from httpx>=0.28.1->llmstxt-architect) (3.10)\n",
      "Requirement already satisfied: h11<0.15,>=0.13 in ./.venv/lib/python3.13/site-packages (from httpcore==1.*->httpx>=0.28.1->llmstxt-architect) (0.14.0)\n",
      "Requirement already satisfied: langchain-core<1.0.0,>=0.3.45 in ./.venv/lib/python3.13/site-packages (from langchain>=0.3.21->llmstxt-architect) (0.3.47)\n",
      "Requirement already satisfied: langchain-text-splitters<1.0.0,>=0.3.7 in ./.venv/lib/python3.13/site-packages (from langchain>=0.3.21->llmstxt-architect) (0.3.7)\n",
      "Requirement already satisfied: langsmith<0.4,>=0.1.17 in ./.venv/lib/python3.13/site-packages (from langchain>=0.3.21->llmstxt-architect) (0.3.18)\n",
      "Requirement already satisfied: pydantic<3.0.0,>=2.7.4 in ./.venv/lib/python3.13/site-packages (from langchain>=0.3.21->llmstxt-architect) (2.10.6)\n",
      "Requirement already satisfied: SQLAlchemy<3,>=1.4 in ./.venv/lib/python3.13/site-packages (from langchain>=0.3.21->llmstxt-architect) (2.0.39)\n",
      "Requirement already satisfied: requests<3,>=2 in ./.venv/lib/python3.13/site-packages (from langchain>=0.3.21->llmstxt-architect) (2.32.3)\n",
      "Requirement already satisfied: PyYAML>=5.3 in ./.venv/lib/python3.13/site-packages (from langchain>=0.3.21->llmstxt-architect) (6.0.2)\n",
      "Requirement already satisfied: anthropic<1,>=0.49.0 in ./.venv/lib/python3.13/site-packages (from langchain-anthropic>=0.3.10->llmstxt-architect) (0.49.0)\n",
      "Requirement already satisfied: aiohttp<4.0.0,>=3.8.3 in ./.venv/lib/python3.13/site-packages (from langchain-community>=0.3.20->llmstxt-architect) (3.11.14)\n",
      "Requirement already satisfied: tenacity!=8.4.0,<10,>=8.1.0 in ./.venv/lib/python3.13/site-packages (from langchain-community>=0.3.20->llmstxt-architect) (9.0.0)\n",
      "Requirement already satisfied: dataclasses-json<0.7,>=0.5.7 in ./.venv/lib/python3.13/site-packages (from langchain-community>=0.3.20->llmstxt-architect) (0.6.7)\n",
      "Requirement already satisfied: pydantic-settings<3.0.0,>=2.4.0 in ./.venv/lib/python3.13/site-packages (from langchain-community>=0.3.20->llmstxt-architect) (2.8.1)\n",
      "Requirement already satisfied: httpx-sse<1.0.0,>=0.4.0 in ./.venv/lib/python3.13/site-packages (from langchain-community>=0.3.20->llmstxt-architect) (0.4.0)\n",
      "Requirement already satisfied: numpy<3,>=1.26.2 in ./.venv/lib/python3.13/site-packages (from langchain-community>=0.3.20->llmstxt-architect) (2.2.4)\n",
      "Requirement already satisfied: six<2,>=1.15 in ./.venv/lib/python3.13/site-packages (from markdownify>=1.1.0->llmstxt-architect) (1.17.0)\n",
      "Requirement already satisfied: aiohappyeyeballs>=2.3.0 in ./.venv/lib/python3.13/site-packages (from aiohttp<4.0.0,>=3.8.3->langchain-community>=0.3.20->llmstxt-architect) (2.6.1)\n",
      "Requirement already satisfied: aiosignal>=1.1.2 in ./.venv/lib/python3.13/site-packages (from aiohttp<4.0.0,>=3.8.3->langchain-community>=0.3.20->llmstxt-architect) (1.3.2)\n",
      "Requirement already satisfied: attrs>=17.3.0 in ./.venv/lib/python3.13/site-packages (from aiohttp<4.0.0,>=3.8.3->langchain-community>=0.3.20->llmstxt-architect) (25.3.0)\n",
      "Requirement already satisfied: frozenlist>=1.1.1 in ./.venv/lib/python3.13/site-packages (from aiohttp<4.0.0,>=3.8.3->langchain-community>=0.3.20->llmstxt-architect) (1.5.0)\n",
      "Requirement already satisfied: multidict<7.0,>=4.5 in ./.venv/lib/python3.13/site-packages (from aiohttp<4.0.0,>=3.8.3->langchain-community>=0.3.20->llmstxt-architect) (6.2.0)\n",
      "Requirement already satisfied: propcache>=0.2.0 in ./.venv/lib/python3.13/site-packages (from aiohttp<4.0.0,>=3.8.3->langchain-community>=0.3.20->llmstxt-architect) (0.3.0)\n",
      "Requirement already satisfied: yarl<2.0,>=1.17.0 in ./.venv/lib/python3.13/site-packages (from aiohttp<4.0.0,>=3.8.3->langchain-community>=0.3.20->llmstxt-architect) (1.18.3)\n",
      "Requirement already satisfied: distro<2,>=1.7.0 in ./.venv/lib/python3.13/site-packages (from anthropic<1,>=0.49.0->langchain-anthropic>=0.3.10->llmstxt-architect) (1.9.0)\n",
      "Requirement already satisfied: jiter<1,>=0.4.0 in ./.venv/lib/python3.13/site-packages (from anthropic<1,>=0.49.0->langchain-anthropic>=0.3.10->llmstxt-architect) (0.9.0)\n",
      "Requirement already satisfied: sniffio in ./.venv/lib/python3.13/site-packages (from anthropic<1,>=0.49.0->langchain-anthropic>=0.3.10->llmstxt-architect) (1.3.1)\n",
      "Requirement already satisfied: marshmallow<4.0.0,>=3.18.0 in ./.venv/lib/python3.13/site-packages (from dataclasses-json<0.7,>=0.5.7->langchain-community>=0.3.20->llmstxt-architect) (3.26.1)\n",
      "Requirement already satisfied: typing-inspect<1,>=0.4.0 in ./.venv/lib/python3.13/site-packages (from dataclasses-json<0.7,>=0.5.7->langchain-community>=0.3.20->llmstxt-architect) (0.9.0)\n",
      "Requirement already satisfied: jsonpatch<2.0,>=1.33 in ./.venv/lib/python3.13/site-packages (from langchain-core<1.0.0,>=0.3.45->langchain>=0.3.21->llmstxt-architect) (1.33)\n",
      "Requirement already satisfied: packaging<25,>=23.2 in ./.venv/lib/python3.13/site-packages (from langchain-core<1.0.0,>=0.3.45->langchain>=0.3.21->llmstxt-architect) (24.2)\n",
      "Requirement already satisfied: orjson<4.0.0,>=3.9.14 in ./.venv/lib/python3.13/site-packages (from langsmith<0.4,>=0.1.17->langchain>=0.3.21->llmstxt-architect) (3.10.15)\n",
      "Requirement already satisfied: requests-toolbelt<2.0.0,>=1.0.0 in ./.venv/lib/python3.13/site-packages (from langsmith<0.4,>=0.1.17->langchain>=0.3.21->llmstxt-architect) (1.0.0)\n",
      "Requirement already satisfied: zstandard<0.24.0,>=0.23.0 in ./.venv/lib/python3.13/site-packages (from langsmith<0.4,>=0.1.17->langchain>=0.3.21->llmstxt-architect) (0.23.0)\n",
      "Requirement already satisfied: annotated-types>=0.6.0 in ./.venv/lib/python3.13/site-packages (from pydantic<3.0.0,>=2.7.4->langchain>=0.3.21->llmstxt-architect) (0.7.0)\n",
      "Requirement already satisfied: pydantic-core==2.27.2 in ./.venv/lib/python3.13/site-packages (from pydantic<3.0.0,>=2.7.4->langchain>=0.3.21->llmstxt-architect) (2.27.2)\n",
      "Requirement already satisfied: python-dotenv>=0.21.0 in ./.venv/lib/python3.13/site-packages (from pydantic-settings<3.0.0,>=2.4.0->langchain-community>=0.3.20->llmstxt-architect) (1.0.1)\n",
      "Requirement already satisfied: charset-normalizer<4,>=2 in ./.venv/lib/python3.13/site-packages (from requests<3,>=2->langchain>=0.3.21->llmstxt-architect) (3.4.1)\n",
      "Requirement already satisfied: urllib3<3,>=1.21.1 in ./.venv/lib/python3.13/site-packages (from requests<3,>=2->langchain>=0.3.21->llmstxt-architect) (2.3.0)\n",
      "Requirement already satisfied: jsonpointer>=1.9 in ./.venv/lib/python3.13/site-packages (from jsonpatch<2.0,>=1.33->langchain-core<1.0.0,>=0.3.45->langchain>=0.3.21->llmstxt-architect) (3.0.0)\n",
      "Requirement already satisfied: mypy-extensions>=0.3.0 in ./.venv/lib/python3.13/site-packages (from typing-inspect<1,>=0.4.0->dataclasses-json<0.7,>=0.5.7->langchain-community>=0.3.20->llmstxt-architect) (1.0.0)\n",
      "\n",
      "\u001b[1m[\u001b[0m\u001b[34;49mnotice\u001b[0m\u001b[1;39;49m]\u001b[0m\u001b[39;49m A new release of pip is available: \u001b[0m\u001b[31;49m24.3.1\u001b[0m\u001b[39;49m -> \u001b[0m\u001b[32;49m25.0.1\u001b[0m\n",
      "\u001b[1m[\u001b[0m\u001b[34;49mnotice\u001b[0m\u001b[1;39;49m]\u001b[0m\u001b[39;49m To update, run: \u001b[0m\u001b[32;49mpip install --upgrade pip\u001b[0m\n"
     ]
    }
   ],
   "source": [
    "! pip install -U llmstxt-architect"
   ]
  },
  {
   "cell_type": "code",
   "execution_count": 3,
   "metadata": {},
   "outputs": [
    {
     "name": "stdout",
     "output_type": "stream",
     "text": [
      "Loaded 1 documents from URLs.\n",
      "\n",
      "Loaded URLs:\n",
      "1. https://langchain-ai.github.io/langgraph/concepts\n",
      "Summarizing: https://langchain-ai.github.io/langgraph/concepts\n",
      "Generating final llms.txt file from all available summaries...\n",
      "Generated test/llms.txt with 1 unique summaries sorted by URL.\n"
     ]
    }
   ],
   "source": [
    "import asyncio\n",
    "from llmstxt_architect.main import generate_llms_txt\n",
    "\n",
    "await generate_llms_txt(\n",
    "      urls=[\"https://langchain-ai.github.io/langgraph/concepts\"],\n",
    "      max_depth=1,\n",
    "      llm_name=\"claude-3-7-sonnet-latest\",\n",
    "      llm_provider=\"anthropic\",\n",
    "      project_dir=\"test\",\n",
    "  )"
   ]
  },
  {
   "cell_type": "code",
   "execution_count": null,
   "metadata": {},
   "outputs": [],
   "source": []
  }
 ],
 "metadata": {
  "kernelspec": {
   "display_name": ".venv",
   "language": "python",
   "name": "python3"
  },
  "language_info": {
   "codemirror_mode": {
    "name": "ipython",
    "version": 3
   },
   "file_extension": ".py",
   "mimetype": "text/x-python",
   "name": "python",
   "nbconvert_exporter": "python",
   "pygments_lexer": "ipython3",
   "version": "3.13.1"
  }
 },
 "nbformat": 4,
 "nbformat_minor": 2
}
