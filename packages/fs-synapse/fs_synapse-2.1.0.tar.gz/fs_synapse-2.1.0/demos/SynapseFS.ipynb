{
 "cells": [
  {
   "cell_type": "code",
   "execution_count": null,
   "id": "30682979-718a-44df-82b7-20d09d481565",
   "metadata": {},
   "outputs": [],
   "source": [
    "from pathlib import Path\n",
    "from pprint import pprint"
   ]
  },
  {
   "cell_type": "markdown",
   "id": "b086a8f8-a44d-4e1f-aa15-951b2fbe3022",
   "metadata": {},
   "source": [
    "## Setting up a Synapse FS object"
   ]
  },
  {
   "cell_type": "code",
   "execution_count": null,
   "id": "bade6df8-c6ea-4173-990a-09766eb6f7db",
   "metadata": {},
   "outputs": [],
   "source": [
    "from fs import open_fs\n",
    "from synapsefs import SynapseFS"
   ]
  },
  {
   "cell_type": "code",
   "execution_count": null,
   "id": "d90e7686-cd8c-41fa-a62e-c410f6c60095",
   "metadata": {},
   "outputs": [],
   "source": [
    "# Using the `SynapseFS` constructor\n",
    "fs = SynapseFS()\n",
    "\n",
    "# Using the generic `open_fs()` function\n",
    "fs = open_fs(\"syn://\")"
   ]
  },
  {
   "cell_type": "markdown",
   "id": "c546aed9-2a06-4fff-983f-8615bfdeb3aa",
   "metadata": {},
   "source": [
    "## Reading a file directly"
   ]
  },
  {
   "cell_type": "code",
   "execution_count": null,
   "id": "44f49694-fc30-4cf9-9d27-8a761a93b75c",
   "metadata": {},
   "outputs": [],
   "source": [
    "existing_file = \"syn50555279\"\n",
    "\n",
    "contents = fs.readtext(existing_file)\n",
    "\n",
    "print(contents)"
   ]
  },
  {
   "cell_type": "markdown",
   "id": "b1400bb6-2b23-4df5-92ea-a4922f346b33",
   "metadata": {},
   "source": [
    "## Reading a file using a context manager"
   ]
  },
  {
   "cell_type": "code",
   "execution_count": null,
   "id": "27d6924b-741c-4c9d-87b4-ed37feafff95",
   "metadata": {},
   "outputs": [],
   "source": [
    "with fs.open(existing_file) as infile:\n",
    "    for line in infile:\n",
    "        print(line)"
   ]
  },
  {
   "cell_type": "markdown",
   "id": "bfe3513e-b654-4f1d-9055-153d060135d4",
   "metadata": {},
   "source": [
    "## Create a new file directly"
   ]
  },
  {
   "cell_type": "code",
   "execution_count": null,
   "id": "88c7dc68-ac13-406a-85e0-3d65e4fa00a1",
   "metadata": {},
   "outputs": [],
   "source": [
    "# Confirm that the file doesn't exist in Synapse\n",
    "new_file = \"syn50696438/demo.txt\"\n",
    "\n",
    "fs.writetext(new_file, \"Writing directly\\n\")\n",
    "\n",
    "contents = fs.readtext(new_file)\n",
    "print(contents)"
   ]
  },
  {
   "cell_type": "markdown",
   "id": "30159aef-50d7-49cd-8fe6-cc9dade1baa1",
   "metadata": {},
   "source": [
    "## Appending to a file using a context manager"
   ]
  },
  {
   "cell_type": "code",
   "execution_count": null,
   "id": "6df97d84-59cc-499f-a4b2-868103172d98",
   "metadata": {},
   "outputs": [],
   "source": [
    "with fs.open(new_file, \"a\") as outfile:\n",
    "    outfile.write(\"Appending a new line\\n\")\n",
    "\n",
    "contents = fs.readtext(new_file)\n",
    "print(contents)"
   ]
  },
  {
   "cell_type": "markdown",
   "id": "1a892421-13f1-46bf-8ef6-5565c8508210",
   "metadata": {},
   "source": [
    "## Creating nested directories by name"
   ]
  },
  {
   "cell_type": "code",
   "execution_count": null,
   "id": "c9d169c7-1f44-471c-93de-4fc0799b0825",
   "metadata": {},
   "outputs": [],
   "source": [
    "nested_dir  = \"syn50696438/nested\"\n",
    "\n",
    "fs.makedirs(f\"{nested_dir}/lets/see/how/far/we/can/go\")"
   ]
  },
  {
   "cell_type": "markdown",
   "id": "e99ee524-4e39-4ad9-a861-f09f1fa0e9c5",
   "metadata": {},
   "source": [
    "## Printing a directory tree"
   ]
  },
  {
   "cell_type": "code",
   "execution_count": null,
   "id": "b309b0ee-e255-4e7e-a394-747071e03652",
   "metadata": {},
   "outputs": [],
   "source": [
    "fs.tree(path=\"syn50696438\")"
   ]
  },
  {
   "cell_type": "markdown",
   "id": "8aa9423e-f508-4a41-90e1-7f704b29b6f3",
   "metadata": {
    "tags": []
   },
   "source": [
    "## Iterating over a folder contents"
   ]
  },
  {
   "cell_type": "code",
   "execution_count": null,
   "id": "b24d2cc7-30e0-48d4-8619-2f4892ea17ea",
   "metadata": {
    "tags": []
   },
   "outputs": [],
   "source": [
    "for item in fs.listdir(\"syn50696438\"):\n",
    "    print(item)"
   ]
  },
  {
   "cell_type": "markdown",
   "id": "35be14f6-c148-4224-b1b2-2ec485083221",
   "metadata": {
    "tags": []
   },
   "source": [
    "## Retrieving Synapse metadata"
   ]
  },
  {
   "cell_type": "code",
   "execution_count": null,
   "id": "f37e57c3-b824-4c5f-abee-d1b16c0c30a6",
   "metadata": {},
   "outputs": [],
   "source": [
    "namespaces = (\"synapse\", \"annotations\")\n",
    "\n",
    "info = fs.getinfo(existing_file, namespaces)\n",
    "\n",
    "pprint(info.raw)"
   ]
  },
  {
   "cell_type": "markdown",
   "id": "97ff7b07-0481-4cd6-894e-f45df664cd25",
   "metadata": {},
   "source": [
    "## Clean up"
   ]
  },
  {
   "cell_type": "code",
   "execution_count": null,
   "id": "559cafa5-fd26-429e-9e4b-d8989e6a9575",
   "metadata": {},
   "outputs": [],
   "source": [
    "fs.remove(new_file)\n",
    "\n",
    "fs.removetree(nested_dir)"
   ]
  },
  {
   "cell_type": "code",
   "execution_count": null,
   "id": "6ba3a221-a21a-4eb9-8fe3-2c367c1abb02",
   "metadata": {},
   "outputs": [],
   "source": []
  }
 ],
 "metadata": {
  "kernelspec": {
   "display_name": "fs-synapse-M-_Ymbtp",
   "language": "python",
   "name": "python3"
  },
  "language_info": {
   "codemirror_mode": {
    "name": "ipython",
    "version": 3
   },
   "file_extension": ".py",
   "mimetype": "text/x-python",
   "name": "python",
   "nbconvert_exporter": "python",
   "pygments_lexer": "ipython3",
   "version": "3.11.1 (main, Jan 25 2023, 11:24:21) [Clang 13.1.6 (clang-1316.0.21.2.5)]"
  },
  "vscode": {
   "interpreter": {
    "hash": "8255ec51be6b5c8a74f7639e3611bd7db4ab8af9848d9023d77f879d865684d0"
   }
  }
 },
 "nbformat": 4,
 "nbformat_minor": 5
}
