{
 "cells": [
  {
   "cell_type": "markdown",
   "metadata": {},
   "source": [
    "# Finetune Hugging Face BERT with PyTorch Lightning"
   ]
  },
  {
   "cell_type": "code",
   "execution_count": 3,
   "metadata": {},
   "outputs": [
    {
     "name": "stdout",
     "output_type": "stream",
     "text": [
      "Not running in Google Colab. Using local environment.\n"
     ]
    }
   ],
   "source": [
    "import os\n",
    "import sys\n",
    "\n",
    "# Detect if running in Google Colab\n",
    "IN_COLAB = 'google.colab' in sys.modules\n",
    "\n",
    "if IN_COLAB:\n",
    "    print(\"Running in Google Colab. Setting up virtual environment from project repository...\")\n",
    "\n",
    "    # Install uv package manager if not already installed\n",
    "    !pip install uv\n",
    "\n",
    "    # Create a project directory and clone the repository\n",
    "    !git clone https://github.com/anitamaxvim/toxy-bot.git .\n",
    "\n",
    "    # Verify the files exist\n",
    "    if os.path.exists('pyproject.toml'):\n",
    "        print(\"Found pyproject.toml file.\")\n",
    "    else:\n",
    "        print(\"Warning: pyproject.toml not found. Virtual environment setup may be incomplete.\")\n",
    "\n",
    "    if os.path.exists('uv.lock'):\n",
    "        print(\"Found uv.lock file.\")\n",
    "    else:\n",
    "        print(\"Warning: uv.lock file not found. Will rely on pyproject.toml for dependencies.\")\n",
    "\n",
    "    # Create and activate virtual environment\n",
    "    !uv venv\n",
    "\n",
    "    # Install dependencies from pyproject.toml (and uv.lock if available)\n",
    "    !uv pip install -e .\n",
    "\n",
    "    # Check installation\n",
    "    !uv pip list\n",
    "\n",
    "    print(\"\\nVirtual environment setup complete. You can now import your project packages.\")\n",
    "else:\n",
    "    print(\"Not running in Google Colab. Using local environment.\")"
   ]
  },
  {
   "attachments": {},
   "cell_type": "markdown",
   "metadata": {},
   "source": [
    "Running the following cells will train the model using settings that are shown."
   ]
  },
  {
   "cell_type": "code",
   "execution_count": 4,
   "metadata": {},
   "outputs": [
    {
     "name": "stderr",
     "output_type": "stream",
     "text": [
      "\n",
      "A module that was compiled using NumPy 1.x cannot be run in\n",
      "NumPy 2.2.4 as it may crash. To support both 1.x and 2.x\n",
      "versions of NumPy, modules must be compiled with NumPy 2.0.\n",
      "Some module may need to rebuild instead e.g. with 'pybind11>=2.12'.\n",
      "\n",
      "If you are a user of the module, the easiest solution will be to\n",
      "downgrade to 'numpy<2' or try to upgrade the affected module.\n",
      "We expect that some modules will need time to support NumPy 2.\n",
      "\n",
      "Traceback (most recent call last):  File \"<frozen runpy>\", line 198, in _run_module_as_main\n",
      "  File \"<frozen runpy>\", line 88, in _run_code\n",
      "  File \"/Users/dbozbay/Dev/toxy-bot/.venv/lib/python3.11/site-packages/ipykernel_launcher.py\", line 18, in <module>\n",
      "    app.launch_new_instance()\n",
      "  File \"/Users/dbozbay/Dev/toxy-bot/.venv/lib/python3.11/site-packages/traitlets/config/application.py\", line 1075, in launch_instance\n",
      "    app.start()\n",
      "  File \"/Users/dbozbay/Dev/toxy-bot/.venv/lib/python3.11/site-packages/ipykernel/kernelapp.py\", line 739, in start\n",
      "    self.io_loop.start()\n",
      "  File \"/Users/dbozbay/Dev/toxy-bot/.venv/lib/python3.11/site-packages/tornado/platform/asyncio.py\", line 205, in start\n",
      "    self.asyncio_loop.run_forever()\n",
      "  File \"/Users/dbozbay/.local/share/uv/python/cpython-3.11.11-macos-x86_64-none/lib/python3.11/asyncio/base_events.py\", line 608, in run_forever\n",
      "    self._run_once()\n",
      "  File \"/Users/dbozbay/.local/share/uv/python/cpython-3.11.11-macos-x86_64-none/lib/python3.11/asyncio/base_events.py\", line 1936, in _run_once\n",
      "    handle._run()\n",
      "  File \"/Users/dbozbay/.local/share/uv/python/cpython-3.11.11-macos-x86_64-none/lib/python3.11/asyncio/events.py\", line 84, in _run\n",
      "    self._context.run(self._callback, *self._args)\n",
      "  File \"/Users/dbozbay/Dev/toxy-bot/.venv/lib/python3.11/site-packages/ipykernel/kernelbase.py\", line 545, in dispatch_queue\n",
      "    await self.process_one()\n",
      "  File \"/Users/dbozbay/Dev/toxy-bot/.venv/lib/python3.11/site-packages/ipykernel/kernelbase.py\", line 534, in process_one\n",
      "    await dispatch(*args)\n",
      "  File \"/Users/dbozbay/Dev/toxy-bot/.venv/lib/python3.11/site-packages/ipykernel/kernelbase.py\", line 437, in dispatch_shell\n",
      "    await result\n",
      "  File \"/Users/dbozbay/Dev/toxy-bot/.venv/lib/python3.11/site-packages/ipykernel/ipkernel.py\", line 362, in execute_request\n",
      "    await super().execute_request(stream, ident, parent)\n",
      "  File \"/Users/dbozbay/Dev/toxy-bot/.venv/lib/python3.11/site-packages/ipykernel/kernelbase.py\", line 778, in execute_request\n",
      "    reply_content = await reply_content\n",
      "  File \"/Users/dbozbay/Dev/toxy-bot/.venv/lib/python3.11/site-packages/ipykernel/ipkernel.py\", line 449, in do_execute\n",
      "    res = shell.run_cell(\n",
      "  File \"/Users/dbozbay/Dev/toxy-bot/.venv/lib/python3.11/site-packages/ipykernel/zmqshell.py\", line 549, in run_cell\n",
      "    return super().run_cell(*args, **kwargs)\n",
      "  File \"/Users/dbozbay/Dev/toxy-bot/.venv/lib/python3.11/site-packages/IPython/core/interactiveshell.py\", line 3047, in run_cell\n",
      "    result = self._run_cell(\n",
      "  File \"/Users/dbozbay/Dev/toxy-bot/.venv/lib/python3.11/site-packages/IPython/core/interactiveshell.py\", line 3102, in _run_cell\n",
      "    result = runner(coro)\n",
      "  File \"/Users/dbozbay/Dev/toxy-bot/.venv/lib/python3.11/site-packages/IPython/core/async_helpers.py\", line 128, in _pseudo_sync_runner\n",
      "    coro.send(None)\n",
      "  File \"/Users/dbozbay/Dev/toxy-bot/.venv/lib/python3.11/site-packages/IPython/core/interactiveshell.py\", line 3306, in run_cell_async\n",
      "    has_raised = await self.run_ast_nodes(code_ast.body, cell_name,\n",
      "  File \"/Users/dbozbay/Dev/toxy-bot/.venv/lib/python3.11/site-packages/IPython/core/interactiveshell.py\", line 3489, in run_ast_nodes\n",
      "    if await self.run_code(code, result, async_=asy):\n",
      "  File \"/Users/dbozbay/Dev/toxy-bot/.venv/lib/python3.11/site-packages/IPython/core/interactiveshell.py\", line 3549, in run_code\n",
      "    exec(code_obj, self.user_global_ns, self.user_ns)\n",
      "  File \"/var/folders/l0/2f13tssj455fvj24bntssyhc0000gn/T/ipykernel_38905/741853530.py\", line 1, in <module>\n",
      "    import torch\n",
      "  File \"/Users/dbozbay/Dev/toxy-bot/.venv/lib/python3.11/site-packages/torch/__init__.py\", line 1477, in <module>\n",
      "    from .functional import *  # noqa: F403\n",
      "  File \"/Users/dbozbay/Dev/toxy-bot/.venv/lib/python3.11/site-packages/torch/functional.py\", line 9, in <module>\n",
      "    import torch.nn.functional as F\n",
      "  File \"/Users/dbozbay/Dev/toxy-bot/.venv/lib/python3.11/site-packages/torch/nn/__init__.py\", line 1, in <module>\n",
      "    from .modules import *  # noqa: F403\n",
      "  File \"/Users/dbozbay/Dev/toxy-bot/.venv/lib/python3.11/site-packages/torch/nn/modules/__init__.py\", line 35, in <module>\n",
      "    from .transformer import TransformerEncoder, TransformerDecoder, \\\n",
      "  File \"/Users/dbozbay/Dev/toxy-bot/.venv/lib/python3.11/site-packages/torch/nn/modules/transformer.py\", line 20, in <module>\n",
      "    device: torch.device = torch.device(torch._C._get_default_device()),  # torch.device('cpu'),\n",
      "/Users/dbozbay/Dev/toxy-bot/.venv/lib/python3.11/site-packages/torch/nn/modules/transformer.py:20: UserWarning: Failed to initialize NumPy: _ARRAY_API not found (Triggered internally at /Users/runner/work/pytorch/pytorch/pytorch/torch/csrc/utils/tensor_numpy.cpp:84.)\n",
      "  device: torch.device = torch.device(torch._C._get_default_device()),  # torch.device('cpu'),\n",
      "/Users/dbozbay/Dev/toxy-bot/.venv/lib/python3.11/site-packages/tqdm/auto.py:21: TqdmWarning: IProgress not found. Please update jupyter and ipywidgets. See https://ipywidgets.readthedocs.io/en/stable/user_install.html\n",
      "  from .autonotebook import tqdm as notebook_tqdm\n"
     ]
    }
   ],
   "source": [
    "import torch\n",
    "\n",
    "from toxy_bot.ml.datamodule import AutoTokenizerDataModule\n",
    "from toxy_bot.ml.module import SequenceClassificationModule\n",
    "from toxy_bot.ml.utils import create_dirs\n",
    "from toxy_bot.ml.config import Config, DataModuleConfig, ModuleConfig, TrainerConfig\n",
    "\n",
    "from toxy_bot.ml.trainer import train"
   ]
  },
  {
   "attachments": {},
   "cell_type": "markdown",
   "metadata": {},
   "source": [
    "First, let's configure some basic settings"
   ]
  },
  {
   "cell_type": "code",
   "execution_count": 5,
   "metadata": {},
   "outputs": [
    {
     "name": "stdout",
     "output_type": "stream",
     "text": [
      "Model: google/bert_uncased_L-4_H-512_A-8\n",
      "Learning rate: 3e-05\n",
      "Dataset: anitamaxvim/jigsaw-toxic-comments\n",
      "Batch size: 16\n",
      "Cache dir: /Users/dbozbay/Dev/toxy-bot/data\n",
      "Log dir: /Users/dbozbay/Dev/toxy-bot/logs\n",
      "Checkpoints dir: /Users/dbozbay/Dev/toxy-bot/checkpoints\n",
      "Performance dir: /Users/dbozbay/Dev/toxy-bot/logs/perf\n"
     ]
    }
   ],
   "source": [
    "model_name = ModuleConfig.model_name\n",
    "lr = ModuleConfig.learning_rate\n",
    "dataset_name = DataModuleConfig.dataset_name\n",
    "batch_size = DataModuleConfig.batch_size\n",
    "\n",
    "print(f\"Model: {model_name}\")\n",
    "print(f\"Learning rate: {lr}\")\n",
    "print(f\"Dataset: {dataset_name}\")\n",
    "print(f\"Batch size: {batch_size}\")\n",
    "\n",
    "cache_dir = Config.cache_dir\n",
    "log_dir = Config.log_dir\n",
    "ckpt_dir = Config.ckpt_dir\n",
    "perf_dir = Config.perf_dir\n",
    "\n",
    "print(f\"Cache dir: {cache_dir}\")\n",
    "print(f\"Log dir: {log_dir}\")\n",
    "print(f\"Checkpoints dir: {ckpt_dir}\")\n",
    "print(f\"Performance dir: {perf_dir}\")\n",
    "\n",
    "torch.set_float32_matmul_precision(\"medium\")"
   ]
  },
  {
   "cell_type": "code",
   "execution_count": null,
   "metadata": {},
   "outputs": [
    {
     "name": "stderr",
     "output_type": "stream",
     "text": [
      "Some weights of BertForSequenceClassification were not initialized from the model checkpoint at google/bert_uncased_L-4_H-512_A-8 and are newly initialized: ['classifier.bias', 'classifier.weight']\n",
      "You should probably TRAIN this model on a down-stream task to be able to use it for predictions and inference.\n",
      "/Users/dbozbay/Dev/toxy-bot/.venv/lib/python3.11/site-packages/lightning/pytorch/trainer/connectors/accelerator_connector.py:513: You passed `Trainer(accelerator='cpu', precision='16-mixed')` but AMP with fp16 is not supported on CPU. Using `precision='bf16-mixed'` instead.\n",
      "Using bfloat16 Automatic Mixed Precision (AMP)\n",
      "GPU available: False, used: False\n",
      "TPU available: False, using: 0 TPU cores\n",
      "HPU available: False, using: 0 HPUs\n",
      "Seed set to 42\n",
      "[2025-03-27 16:28:36.163277] Data cache exists. Loading from cache.\n",
      "Parameter 'function'=<bound method AutoTokenizerDataModule.preprocess of <toxy_bot.ml.datamodule.AutoTokenizerDataModule object at 0x122b11ad0>> of the transform datasets.arrow_dataset.Dataset._map_single couldn't be hashed properly, a random hash was used instead. Make sure your transforms and parameters are serializable with pickle or dill for the dataset fingerprinting and caching to work. If you reuse this transform, the caching mechanism will consider it to be different from the previous calls and recompute everything. This warning is only showed once. Subsequent hashing failures won't be showed.\n",
      "Map: 100%|██████████| 135635/135635 [01:24<00:00, 1601.82 examples/s]\n",
      "Map: 100%|██████████| 23936/23936 [00:14<00:00, 1664.67 examples/s]\n",
      "\n",
      "  | Name      | Type                          | Params | Mode \n",
      "--------------------------------------------------------------------\n",
      "0 | model     | BertForSequenceClassification | 28.8 M | eval \n",
      "1 | accuracy  | MultilabelAccuracy            | 0      | train\n",
      "2 | f1_score  | MultilabelF1Score             | 0      | train\n",
      "3 | precision | MultilabelPrecision           | 0      | train\n",
      "4 | recall    | MultilabelRecall              | 0      | train\n",
      "--------------------------------------------------------------------\n",
      "28.8 M    Trainable params\n",
      "0         Non-trainable params\n",
      "28.8 M    Total params\n",
      "115.067   Total estimated model params size (MB)\n",
      "4         Modules in train mode\n",
      "87        Modules in eval mode\n"
     ]
    },
    {
     "name": "stdout",
     "output_type": "stream",
     "text": [
      "Sanity Checking DataLoader 0:   0%|          | 0/2 [00:00<?, ?it/s]"
     ]
    },
    {
     "name": "stderr",
     "output_type": "stream",
     "text": [
      "/Users/dbozbay/Dev/toxy-bot/.venv/lib/python3.11/site-packages/lightning/pytorch/trainer/connectors/data_connector.py:425: The 'val_dataloader' does not have many workers which may be a bottleneck. Consider increasing the value of the `num_workers` argument` to `num_workers=7` in the `DataLoader` to improve performance.\n"
     ]
    },
    {
     "name": "stdout",
     "output_type": "stream",
     "text": [
      "                                                                           "
     ]
    },
    {
     "name": "stderr",
     "output_type": "stream",
     "text": [
      "/Users/dbozbay/Dev/toxy-bot/.venv/lib/python3.11/site-packages/lightning/pytorch/trainer/connectors/data_connector.py:425: The 'train_dataloader' does not have many workers which may be a bottleneck. Consider increasing the value of the `num_workers` argument` to `num_workers=7` in the `DataLoader` to improve performance.\n"
     ]
    },
    {
     "name": "stdout",
     "output_type": "stream",
     "text": [
      "Epoch 0:   0%|          | 3/8478 [09:01<425:00:35,  0.01it/s, v_num=1, train_loss=0.678]"
     ]
    }
   ],
   "source": [
    "train(perf=True)"
   ]
  }
 ],
 "metadata": {
  "kernelspec": {
   "display_name": ".venv",
   "language": "python",
   "name": "python3"
  },
  "language_info": {
   "codemirror_mode": {
    "name": "ipython",
    "version": 3
   },
   "file_extension": ".py",
   "mimetype": "text/x-python",
   "name": "python",
   "nbconvert_exporter": "python",
   "pygments_lexer": "ipython3",
   "version": "3.11.11"
  },
  "orig_nbformat": 4
 },
 "nbformat": 4,
 "nbformat_minor": 2
}
