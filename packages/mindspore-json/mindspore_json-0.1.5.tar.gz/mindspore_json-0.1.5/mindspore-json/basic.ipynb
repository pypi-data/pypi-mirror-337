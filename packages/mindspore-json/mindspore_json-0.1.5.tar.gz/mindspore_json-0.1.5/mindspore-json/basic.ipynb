{
 "cells": [
  {
   "cell_type": "code",
   "execution_count": 1,
   "id": "c1ab5553-1fea-4716-b016-6698ba03d96e",
   "metadata": {},
   "outputs": [
    {
     "name": "stdout",
     "output_type": "stream",
     "text": [
      "Looking in indexes: http://repo.myhuaweicloud.com/repository/pypi/simple\n",
      "Collecting mindspore\n",
      "  Downloading http://repo.myhuaweicloud.com/repository/pypi/packages/50/f8/28d40344fe7edf482768d5a5eed7f02706894f9f50c1d4942419251d2dbf/mindspore-2.2.14-cp37-cp37m-manylinux1_x86_64.whl (742.8 MB)\n",
      "\u001b[K     |████████████████████████████████| 742.8 MB 86.3 MB/s eta 0:00:01    |███▉                            | 87.8 MB 79.6 MB/s eta 0:00:09     |████▎                           | 100.0 MB 79.6 MB/s eta 0:00:09��▋                           | 107.1 MB 79.6 MB/s eta 0:00:08     |████████████████                | 373.5 MB 82.4 MB/s eta 0:00:05     |███████████████████████▍        | 544.0 MB 65.6 MB/s eta 0:00:04�██████████▉        | 552.4 MB 65.6 MB/s eta 0:00:03     |████████████████████████▉       | 576.4 MB 85.6 MB/s eta 0:00:02     |██████████████████████████████▌ | 707.3 MB 77.8 MB/s eta 0:00:01\n",
      "\u001b[?25hCollecting scipy>=1.5.4\n",
      "  Downloading http://repo.myhuaweicloud.com/repository/pypi/packages/58/4f/11f34cfc57ead25752a7992b069c36f5d18421958ebd6466ecd849aeaf86/scipy-1.7.3-cp37-cp37m-manylinux_2_12_x86_64.manylinux2010_x86_64.whl (38.1 MB)\n",
      "\u001b[K     |████████████████████████████████| 38.1 MB 5.5 MB/s eta 0:00:01\n",
      "\u001b[?25hCollecting astunparse>=1.6.3\n",
      "  Downloading http://repo.myhuaweicloud.com/repository/pypi/packages/2b/03/13dde6512ad7b4557eb792fbcf0c653af6076b81e5941d36ec61f7ce6028/astunparse-1.6.3-py2.py3-none-any.whl (12 kB)\n",
      "Collecting asttokens>=2.0.4\n",
      "  Downloading http://repo.myhuaweicloud.com/repository/pypi/packages/45/86/4736ac618d82a20d87d2f92ae19441ebc7ac9e7a581d7e58bbe79233b24a/asttokens-2.4.1-py2.py3-none-any.whl (27 kB)\n",
      "Requirement already satisfied: psutil>=5.6.1 in /home/ma-user/anaconda3/envs/PyTorch-1.8/lib/python3.7/site-packages (from mindspore) (5.8.0)\n",
      "Requirement already satisfied: protobuf>=3.13.0 in /home/ma-user/anaconda3/envs/PyTorch-1.8/lib/python3.7/site-packages (from mindspore) (3.20.1)\n",
      "Requirement already satisfied: numpy>=1.17.0 in /home/ma-user/anaconda3/envs/PyTorch-1.8/lib/python3.7/site-packages (from mindspore) (1.19.5)\n",
      "Requirement already satisfied: pillow>=6.2.0 in /home/ma-user/anaconda3/envs/PyTorch-1.8/lib/python3.7/site-packages (from mindspore) (9.3.0)\n",
      "Requirement already satisfied: packaging>=20.0 in /home/ma-user/anaconda3/envs/PyTorch-1.8/lib/python3.7/site-packages (from mindspore) (21.3)\n",
      "Requirement already satisfied: six>=1.12.0 in /home/ma-user/anaconda3/envs/PyTorch-1.8/lib/python3.7/site-packages (from asttokens>=2.0.4->mindspore) (1.16.0)\n",
      "Requirement already satisfied: wheel<1.0,>=0.23.0 in /home/ma-user/anaconda3/envs/PyTorch-1.8/lib/python3.7/site-packages (from astunparse>=1.6.3->mindspore) (0.37.1)\n",
      "Requirement already satisfied: pyparsing!=3.0.5,>=2.0.2 in /home/ma-user/anaconda3/envs/PyTorch-1.8/lib/python3.7/site-packages (from packaging>=20.0->mindspore) (3.0.9)\n",
      "Installing collected packages: scipy, astunparse, asttokens, mindspore\n",
      "  Attempting uninstall: scipy\n",
      "    Found existing installation: scipy 1.5.2\n",
      "    Uninstalling scipy-1.5.2:\n",
      "      Successfully uninstalled scipy-1.5.2\n",
      "Successfully installed asttokens-2.4.1 astunparse-1.6.3 mindspore-2.2.14 scipy-1.7.3\n",
      "\u001b[33mWARNING: You are using pip version 21.0.1; however, version 24.0 is available.\n",
      "You should consider upgrading via the '/home/ma-user/anaconda3/envs/PyTorch-1.8/bin/python3.7 -m pip install --upgrade pip' command.\u001b[0m\n"
     ]
    }
   ],
   "source": [
    "!pip install mindspore"
   ]
  },
  {
   "cell_type": "code",
   "execution_count": null,
   "id": "bba887d8-5ea2-4242-8d02-8145216e5060",
   "metadata": {},
   "outputs": [],
   "source": [
    "\n",
    "# 导入MindSpore\n",
    "import mindspore\n",
    "# cell同时输出多行\n",
    "from IPython.core.interactiveshell import InteractiveShell\n",
    "InteractiveShell.ast_node_interactivity = \"all\"\n",
    "\n",
    "import numpy as np\n",
    "from mindspore import Tensor\n",
    "from mindspore import dtype\n",
    "# 用数组创建张量\n",
    "x = Tensor(np.array([[1, 2], [3, 4]]), dtype.int32)\n",
    "x   \n"
   ]
  },
  {
   "cell_type": "code",
   "execution_count": null,
   "id": "dfead20a-91af-47d4-99e6-67d2af91d556",
   "metadata": {},
   "outputs": [],
   "source": [
    "# 用数值创建张量\n",
    "y = Tensor(1.0, dtype.int32)\n",
    "z = Tensor(2, dtype.int32)\n",
    "y\n",
    "z\n"
   ]
  },
  {
   "cell_type": "code",
   "execution_count": null,
   "id": "e71015f8-10eb-454e-a66c-f2d705a44f2f",
   "metadata": {},
   "outputs": [],
   "source": [
    "# 用Bool创建张量\n",
    "m = Tensor(True, dtype.bool_)\n",
    "m\n"
   ]
  },
  {
   "cell_type": "code",
   "execution_count": null,
   "id": "6c986e86-669c-49bf-aadd-d40c9831c095",
   "metadata": {},
   "outputs": [],
   "source": [
    "# 用tuple创建张量\n",
    "n = Tensor((1, 2, 3), dtype.int16)\n",
    "n\n"
   ]
  },
  {
   "cell_type": "code",
   "execution_count": null,
   "id": "9fdbb18a-0f19-44e5-833b-3ae8eeaad956",
   "metadata": {},
   "outputs": [],
   "source": [
    "# 用list创建张量\n",
    "p = Tensor([4.0, 5.0, 6.0], dtype.float64)\n",
    "p\n"
   ]
  },
  {
   "cell_type": "code",
   "execution_count": null,
   "id": "a097ddbe-4b95-4633-8a46-b65427203d96",
   "metadata": {},
   "outputs": [],
   "source": [
    "from mindspore import ops\n",
    "oneslike = ops.OnesLike()\n",
    "x = Tensor(np.array([[0, 1], [2, 1]]).astype(np.int32))\n",
    "output = oneslike(x)\n",
    "output\n"
   ]
  },
  {
   "cell_type": "code",
   "execution_count": null,
   "id": "569028b3-f99e-4a12-9dda-5a5dd6aae411",
   "metadata": {},
   "outputs": [],
   "source": [
    "from mindspore.ops import operations as ops\n",
    "\n",
    "shape = (2, 2)\n",
    "ones = ops.Ones()\n",
    "output = ones(shape,dtype.float32)\n",
    "print(output)\n",
    "\n",
    "zeros = ops.Zeros()\n",
    "output = zeros(shape, dtype.float32)\n",
    "print(output)\n"
   ]
  },
  {
   "cell_type": "code",
   "execution_count": null,
   "id": "2a1e1082-4ee0-4436-b487-a8f0e9349365",
   "metadata": {},
   "outputs": [],
   "source": [
    "x = Tensor(np.array([[1, 2], [3, 4]]), dtype.int32)\n",
    "\n",
    "x.shape # 形状\n",
    "x.dtype # 数据类型\n",
    "x.ndim  # 维度\n",
    "x.size  # 大小\n"
   ]
  },
  {
   "cell_type": "code",
   "execution_count": null,
   "id": "884738b1-2c44-4571-8ee1-4b205ba2435b",
   "metadata": {},
   "outputs": [],
   "source": [
    "y = Tensor(np.array([[True, True], [False, False]]), dtype.bool_)\n",
    "\n",
    "# 将Tensor数据类型转换成NumPy\n",
    "y_array = y.asnumpy()\n",
    "\n",
    "y\n",
    "y_array \n"
   ]
  },
  {
   "cell_type": "code",
   "execution_count": null,
   "id": "db0b8073-438e-429b-9d0d-e6d855b66da0",
   "metadata": {},
   "outputs": [],
   "source": [
    "tensor = Tensor(np.array([[0, 1], [2, 3]]).astype(np.float32))\n",
    "print(\"First row: {}\".format(tensor[0]))\n",
    "print(\"First column: {}\".format(tensor[:, 0]))\n",
    "print(\"Last column: {}\".format(tensor[..., -1]))\n"
   ]
  },
  {
   "cell_type": "code",
   "execution_count": null,
   "id": "bb6b11f2-7ff5-4cd6-863e-8aa303da4ca0",
   "metadata": {},
   "outputs": [],
   "source": [
    "data1 = Tensor(np.array([[0, 1], [2, 3]]).astype(np.float32))\n",
    "data2 = Tensor(np.array([[4, 5], [6, 7]]).astype(np.float32))\n",
    "op = ops.Stack()\n",
    "output = op([data1, data2])\n",
    "print(output)\n"
   ]
  },
  {
   "cell_type": "code",
   "execution_count": null,
   "id": "110da895-360b-4f21-b44c-3a4862541241",
   "metadata": {},
   "outputs": [],
   "source": [
    "zeros = ops.Zeros()\n",
    "output = zeros((2,2), dtype.float32)\n",
    "print(\"output: {}\".format(type(output)))\n",
    "n_output = output.asnumpy()\n",
    "print(\"n_output: {}\".format(type(n_output)))\n"
   ]
  },
  {
   "cell_type": "code",
   "execution_count": null,
   "id": "60418f39-4b81-40e4-8686-0566b3d5909f",
   "metadata": {},
   "outputs": [],
   "source": [
    "!unzip MNIST_Data.zip"
   ]
  },
  {
   "cell_type": "code",
   "execution_count": null,
   "id": "ad8137d5-7ba6-4aa2-a3c7-6c53433c4f9f",
   "metadata": {},
   "outputs": [],
   "source": [
    "import os\n",
    "import mindspore.dataset as ds\n",
    "import matplotlib.pyplot as plt\n",
    "\n",
    "dataset_dir = \"./MNIST/train\"  # 数据集路径\n",
    "# 从mnist dataset读取3张图片\n",
    "mnist_dataset = ds.MnistDataset(dataset_dir=dataset_dir, num_samples=3)\n",
    "# 查看图像，设置图像大小\n",
    "plt.figure(figsize=(8,8))\n",
    "i = 1\n",
    "\n",
    "# 打印3张子图\n",
    "for dic in mnist_dataset.create_dict_iterator(output_numpy=True):\n",
    "    plt.subplot(3,3,i)\n",
    "    plt.imshow(dic['image'][:,:,0])\n",
    "    plt.axis('off')\n",
    "    i +=1\n",
    "plt.show() \n"
   ]
  },
  {
   "cell_type": "code",
   "execution_count": null,
   "id": "2040d7e2-a2c4-4a67-a25b-0ce487957245",
   "metadata": {},
   "outputs": [],
   "source": [
    "import numpy as np\n",
    "np.random.seed(58)\n",
    "\n",
    "class DatasetGenerator:\n",
    "#实例化数据集对象时，__init__函数被调用，用户可以在此进行数据初始化等操作。\n",
    "    def __init__(self):\n",
    "        self.data = np.random.sample((5, 2))\n",
    "        self.label = np.random.sample((5, 1))\n",
    "#定义数据集类的__getitem__函数，使其支持随机访问，能够根据给定的索引值index，获取数据集中的数据并返回。\n",
    "    def __getitem__(self, index):\n",
    "        return self.data[index], self.label[index]\n",
    "#定义数据集类的__len__函数，返回数据集的样本数量。\n",
    "    def __len__(self):\n",
    "        return len(self.data)\n",
    "#定义数据集类之后，就可以通过GeneratorDataset接口按照用户定义的方式加载并访问数据集样本。\n",
    "dataset_generator = DatasetGenerator()\n",
    "dataset = ds.GeneratorDataset(dataset_generator, [\"data\", \"label\"], shuffle=False)\n",
    "#通过create_dict_iterator方法获取数据\n",
    "for data in dataset.create_dict_iterator():\n",
    "    print('{}'.format(data[\"data\"]), '{}'.format(data[\"label\"]))\n"
   ]
  },
  {
   "cell_type": "code",
   "execution_count": null,
   "id": "0483b4be-4d14-45b8-8497-7466a5d055f8",
   "metadata": {},
   "outputs": [],
   "source": [
    "ds.config.set_seed(58)\n",
    "\n",
    "# 随机打乱数据顺序，buffer_size表示数据集中进行shuffle操作的缓存区的大小。\n",
    "dataset = dataset.shuffle(buffer_size=10)\n",
    "# 对数据集进行分批，batch_size表示每组包含的数据个数，现设置每组包含2个数据。\n",
    "dataset = dataset.batch(batch_size=2)\n",
    "\n",
    "for data in dataset.create_dict_iterator():\n",
    "    print(\"data: {}\".format(data[\"data\"]))\n",
    "    print(\"label: {}\".format(data[\"label\"]))\n"
   ]
  },
  {
   "cell_type": "code",
   "execution_count": null,
   "id": "c1eb416f-902d-4b1d-a24e-501cd1a17f44",
   "metadata": {},
   "outputs": [],
   "source": [
    "import matplotlib.pyplot as plt\n",
    "\n",
    "from mindspore.dataset.vision import Inter\n",
    "import mindspore.dataset.vision.c_transforms as c_vision\n",
    "\n",
    "DATA_DIR = './MNIST/train'\n",
    "#取出6个样本\n",
    "mnist_dataset = ds.MnistDataset(DATA_DIR, num_samples=6, shuffle=False)\n",
    "# 查看数据原图\n",
    "mnist_it = mnist_dataset.create_dict_iterator()\n",
    "data = next(mnist_it)\n",
    "plt.imshow(data['image'].asnumpy().squeeze(), cmap=plt.cm.gray)\n",
    "plt.title(data['label'].asnumpy(), fontsize=20)\n",
    "plt.show()\n"
   ]
  },
  {
   "cell_type": "code",
   "execution_count": null,
   "id": "e95ca09b-1493-4f2d-b208-d0562f60b85d",
   "metadata": {},
   "outputs": [],
   "source": [
    "resize_op = c_vision.Resize(size=(40,40), interpolation=Inter.LINEAR)\n",
    "crop_op = c_vision.RandomCrop(28)\n",
    "transforms_list = [resize_op, crop_op]\n",
    "mnist_dataset = mnist_dataset.map(operations=transforms_list, input_columns=[\"image\"])\n",
    "mnist_dataset = mnist_dataset.create_dict_iterator()\n",
    "data = next(mnist_dataset)\n",
    "plt.imshow(data['image'].asnumpy().squeeze(), cmap=plt.cm.gray)\n",
    "plt.title(data['label'].asnumpy(), fontsize=20)\n",
    "plt.show() \n"
   ]
  },
  {
   "cell_type": "code",
   "execution_count": null,
   "id": "4f66bf09-5903-4eee-bf35-8eae6aa9857a",
   "metadata": {},
   "outputs": [],
   "source": [
    "import mindspore as ms\n",
    "import mindspore.nn as nn\n",
    "from mindspore import Tensor\n",
    "import numpy as np\n",
    "\n",
    "# 构造输入张量\n",
    "input_a = Tensor(np.array([[1, 1, 1], [2, 2, 2]]), ms.float32)\n",
    "print(input_a)\n",
    "# 构造全连接网络，输入通道为3，输出通道为3\n",
    "net = nn.Dense(in_channels=3, out_channels=3, weight_init=1)\n",
    "output = net(input_a)\n",
    "print(output)\n"
   ]
  },
  {
   "cell_type": "code",
   "execution_count": null,
   "id": "7b03ea91-819b-476d-8843-97b3544ac05e",
   "metadata": {},
   "outputs": [],
   "source": [
    "conv2d = nn.Conv2d(1, 6, 5, has_bias=False, weight_init='normal', pad_mode='valid')\n",
    "input_x = Tensor(np.ones([1, 1, 32, 32]), ms.float32)\n",
    "\n",
    "print(conv2d(input_x).shape)\n"
   ]
  },
  {
   "cell_type": "code",
   "execution_count": null,
   "id": "90affeb0-650e-4d78-8e41-90744fa1f994",
   "metadata": {},
   "outputs": [],
   "source": [
    "relu = nn.ReLU()\n",
    "input_x = Tensor(np.array([-1, 2, -3, 2, -1]), ms.float16)\n",
    "output = relu(input_x)\n",
    "\n",
    "print(output)\n"
   ]
  },
  {
   "cell_type": "code",
   "execution_count": null,
   "id": "056a21d3-0134-4f96-a0f7-f805e5fad7f8",
   "metadata": {},
   "outputs": [],
   "source": [
    "max_pool2d = nn.MaxPool2d(kernel_size=2, stride=2)\n",
    "input_x = Tensor(np.ones([1, 6, 28, 28]), ms.float32)\n",
    "\n",
    "print(max_pool2d(input_x).shape)\n"
   ]
  },
  {
   "cell_type": "code",
   "execution_count": null,
   "id": "e4e3d564-f23e-483b-9da1-d506b739d49d",
   "metadata": {},
   "outputs": [],
   "source": [
    "flatten = nn.Flatten()\n",
    "input_x = Tensor(np.ones([1, 16, 5, 5]), ms.float32)\n",
    "output = flatten(input_x)\n",
    "\n",
    "print(output.shape)\n"
   ]
  },
  {
   "cell_type": "code",
   "execution_count": null,
   "id": "a897e7d3-f88b-4232-ac60-f2aca1402aaf",
   "metadata": {},
   "outputs": [],
   "source": [
    "class LeNet5(nn.Cell):\n",
    "    \"\"\"\n",
    "    Lenet网络结构\n",
    "    \"\"\"\n",
    "    def __init__(self, num_class=10, num_channel=1):\n",
    "        super(LeNet5, self).__init__()\n",
    "        # 定义所需要的运算\n",
    "        self.conv1 = nn.Conv2d(num_channel, 6, 5, pad_mode='valid')\n",
    "        self.conv2 = nn.Conv2d(6, 16, 5, pad_mode='valid')\n",
    "        self.fc1 = nn.Dense(16 * 4 * 4, 120)\n",
    "        self.fc2 = nn.Dense(120, 84)\n",
    "        self.fc3 = nn.Dense(84, num_class)\n",
    "        self.relu = nn.ReLU()\n",
    "        self.max_pool2d = nn.MaxPool2d(kernel_size=2, stride=2)\n",
    "        self.flatten = nn.Flatten()\n",
    "\n",
    "    def construct(self, x):\n",
    "        # 使用定义好的运算构建前向网络\n",
    "        x = self.conv1(x)\n",
    "        x = self.relu(x)\n",
    "        x = self.max_pool2d(x)\n",
    "        x = self.conv2(x)\n",
    "        x = self.relu(x)\n",
    "        x = self.max_pool2d(x)\n",
    "        x = self.flatten(x)\n",
    "        x = self.fc1(x)\n",
    "        x = self.relu(x)\n",
    "        x = self.fc2(x)\n",
    "        x = self.relu(x)\n",
    "        x = self.fc3(x)\n",
    "        return x\n",
    "#实例化模型，利用parameters_and_names方法查看模型的参数\n",
    "modelle = LeNet5()\n",
    "for m in modelle.parameters_and_names():\n",
    "    print(m)\n"
   ]
  },
  {
   "cell_type": "code",
   "execution_count": null,
   "id": "33a8715e-6dfe-4253-8c1b-5f34f3128bee",
   "metadata": {},
   "outputs": [],
   "source": [
    "import numpy as np\n",
    "import mindspore.nn as nn\n",
    "from mindspore import Tensor\n",
    "import mindspore.dataset as ds\n",
    "import mindspore as ms\n",
    "loss = nn.L1Loss()\n",
    "output_data = Tensor(np.array([[1, 2, 3], [2, 3, 4]]).astype(np.float32))\n",
    "target_data = Tensor(np.array([[0, 2, 5], [3, 1, 1]]).astype(np.float32))\n",
    "print(loss(output_data, target_data))\n"
   ]
  },
  {
   "cell_type": "code",
   "execution_count": null,
   "id": "0fc12086-2307-45d2-a313-14bfcf7547ed",
   "metadata": {},
   "outputs": [],
   "source": [
    "optim = nn.Momentum(params=modelle.trainable_params(), learning_rate=0.1, momentum=0.9, weight_decay=0.0)"
   ]
  },
  {
   "cell_type": "code",
   "execution_count": null,
   "id": "f9fbc134-93bb-4267-84b1-f0319590da43",
   "metadata": {},
   "outputs": [],
   "source": [
    "from mindspore import Model\n",
    "\n",
    "# 定义神经网络\n",
    "net = LeNet5()\n",
    "# 定义损失函数\n",
    "loss = nn.SoftmaxCrossEntropyWithLogits(sparse=True, reduction='mean')\n",
    "# 定义优化器\n",
    "optim = nn.Momentum(params=net.trainable_params(), learning_rate=0.1, momentum=0.9)\n",
    "# 模型编译\n",
    "model = Model(network = net, loss_fn=loss, optimizer=optim, metrics={'accuracy'})\n"
   ]
  },
  {
   "cell_type": "code",
   "execution_count": null,
   "id": "2e23c3af-dc8a-469d-9923-5a2105037241",
   "metadata": {},
   "outputs": [],
   "source": [
    "import mindspore.dataset.transforms.c_transforms as C\n",
    "import mindspore.dataset.vision.c_transforms as CV\n",
    "from mindspore.train.callback import  LossMonitor\n",
    "\n",
    "DATA_DIR = './MNIST/train'\n",
    "mnist_dataset = ds.MnistDataset(DATA_DIR)\n",
    "\n",
    "resize_op = CV.Resize((28,28))\n",
    "rescale_op = CV.Rescale(1/255,0)\n",
    "hwc2chw_op = CV.HWC2CHW()\n",
    "\n",
    "mnist_dataset  = mnist_dataset .map(input_columns=\"image\", operations=[rescale_op,resize_op, hwc2chw_op])\n",
    "mnist_dataset  = mnist_dataset .map(input_columns=\"label\", operations=C.TypeCast(ms.int32))\n",
    "mnist_dataset = mnist_dataset.batch(32)\n",
    "loss_cb = LossMonitor(per_print_times=1000)\n",
    "# dataset 是传入参数代表训练集，epoch是训练集迭代轮数\n",
    "model.train(epoch=1, train_dataset=mnist_dataset,callbacks=[loss_cb])    \n"
   ]
  },
  {
   "cell_type": "code",
   "execution_count": null,
   "id": "be39d30f-7dd0-446b-bfa0-a36654910f0c",
   "metadata": {},
   "outputs": [],
   "source": [
    "# 测试集\n",
    "DATA_DIR = './MNIST/test'\n",
    "dataset = ds.MnistDataset(DATA_DIR)\n",
    "\n",
    "resize_op = CV.Resize((28,28))\n",
    "rescale_op = CV.Rescale(1/255,0)\n",
    "hwc2chw_op = CV.HWC2CHW()\n",
    "\n",
    "dataset  = dataset .map(input_columns=\"image\", operations=[rescale_op,resize_op, hwc2chw_op])\n",
    "dataset  = dataset .map(input_columns=\"label\", operations=C.TypeCast(ms.int32))\n",
    "dataset = dataset.batch(32)\n",
    "model.eval(valid_dataset=dataset) \n"
   ]
  },
  {
   "cell_type": "code",
   "execution_count": null,
   "id": "e8b4e1a6-1fb2-4d50-a617-be34eb918c76",
   "metadata": {},
   "outputs": [],
   "source": [
    "import mindspore as ms\n",
    "\n",
    "# 定义的网络模型为net，一般在训练前或者训练后使用\n",
    "ms.save_checkpoint(net, \"./MyNet.ckpt\") # net为训练网络，\"./MyNet.ckpt\"为网络模型的保存路径。\n"
   ]
  },
  {
   "cell_type": "code",
   "execution_count": null,
   "id": "6e438f2e-f6f4-46b4-b0fd-bc6e4ae15c64",
   "metadata": {},
   "outputs": [],
   "source": [
    "from mindspore.train.callback import ModelCheckpoint, CheckpointConfig\n",
    "\n",
    "# 设置epoch_num数量\n",
    "epoch_num = 5\n",
    "\n",
    "# 设置模型保存参数\n",
    "config_ck = CheckpointConfig(save_checkpoint_steps=1875, keep_checkpoint_max=10)\n",
    "\n",
    "# 应用模型保存参数\n",
    "ckpoint = ModelCheckpoint(prefix=\"lenet\", directory=\"./lenet\", config=config_ck)\n",
    "model.train(epoch_num, mnist_dataset, callbacks=[ckpoint])\n"
   ]
  },
  {
   "cell_type": "code",
   "execution_count": null,
   "id": "0d5d5a0c-94e1-4e38-a559-ba95ffbda8f7",
   "metadata": {},
   "outputs": [],
   "source": [
    "import numpy as np\n",
    "import mindspore.nn as nn\n",
    "import mindspore.ops as ops\n",
    "from mindspore import Tensor\n",
    "from mindspore import ParameterTuple, Parameter\n",
    "from mindspore import dtype as mstype\n",
    "\n",
    "class Net(nn.Cell):\n",
    "    def __init__(self):\n",
    "        super(Net, self).__init__()\n",
    "        self.matmul = ops.MatMul()\n",
    "        self.z = Parameter(Tensor(np.array([1.0], np.float32)), name='z')\n",
    "\n",
    "    def construct(self, x, y):\n",
    "        x = x * self.z\n",
    "        out = self.matmul(x, y)\n",
    "        return out\n",
    "class GradNetWrtX(nn.Cell):\n",
    "    def __init__(self, net):\n",
    "        super(GradNetWrtX, self).__init__()\n",
    "        self.net = net\n",
    "        self.grad_op = ops.GradOperation()\n",
    "\n",
    "    def construct(self, x, y):\n",
    "        gradient_function = self.grad_op(self.net)\n",
    "        return gradient_function(x, y)\n",
    "x = Tensor([[0.8, 0.6, 0.2], [1.8, 1.3, 1.1]], dtype=mstype.float32)\n",
    "y = Tensor([[0.11, 3.3, 1.1], [1.1, 0.2, 1.4], [1.1, 2.2, 0.3]], dtype=mstype.float32)\n",
    "output = GradNetWrtX(Net())(x, y)\n",
    "print(output)\n"
   ]
  },
  {
   "cell_type": "code",
   "execution_count": null,
   "id": "1fa4bcdc-dc7e-4d1f-8238-c5e1649809a4",
   "metadata": {},
   "outputs": [],
   "source": [
    "t1 = Tensor(np.array([[1.2, 2.2], [3.2, 4.2]]), dtype.int32)\n",
    "t2 = Tensor(np.array([[1.2, 2.2], [3.2, 4.2]]), dtype.float32)\n",
    "t1\n",
    "t2"
   ]
  },
  {
   "cell_type": "code",
   "execution_count": null,
   "id": "070115fc-3f94-489f-bc9f-a650f47e4dcf",
   "metadata": {},
   "outputs": [],
   "source": []
  }
 ],
 "metadata": {
  "kernelspec": {
   "display_name": "PyTorch-1.8",
   "language": "python",
   "name": "pytorch-1.8"
  },
  "language_info": {
   "codemirror_mode": {
    "name": "ipython",
    "version": 3
   },
   "file_extension": ".py",
   "mimetype": "text/x-python",
   "name": "python",
   "nbconvert_exporter": "python",
   "pygments_lexer": "ipython3",
   "version": "3.7.10"
  }
 },
 "nbformat": 4,
 "nbformat_minor": 5
}
