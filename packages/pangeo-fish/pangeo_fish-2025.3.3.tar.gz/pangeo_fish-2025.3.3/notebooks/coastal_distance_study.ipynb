{
 "cells": [
  {
   "cell_type": "markdown",
   "id": "0",
   "metadata": {},
   "source": [
    "### This notebook shows how we are implementing the high variability to the coasts."
   ]
  },
  {
   "cell_type": "code",
   "execution_count": null,
   "id": "1",
   "metadata": {},
   "outputs": [],
   "source": [
    "import hvplot.xarray\n",
    "import numpy as np\n",
    "import xarray as xr"
   ]
  },
  {
   "cell_type": "code",
   "execution_count": null,
   "id": "2",
   "metadata": {},
   "outputs": [],
   "source": [
    "### Opening the dataset\n",
    "coastal_distance = xr.open_dataset(\n",
    "    \"s3://gfts-ifremer/tags/distance2coast.zarr\", engine=\"zarr\"\n",
    ")"
   ]
  },
  {
   "cell_type": "code",
   "execution_count": null,
   "id": "3",
   "metadata": {},
   "outputs": [],
   "source": [
    "### Reduciing to the bounding box\n",
    "coastal_distance = coastal_distance.sel(lat=slice(56, 40), lon=slice(-13, 5))"
   ]
  },
  {
   "cell_type": "code",
   "execution_count": null,
   "id": "4",
   "metadata": {},
   "outputs": [],
   "source": [
    "### Displays the data\n",
    "coastal_distance"
   ]
  },
  {
   "cell_type": "code",
   "execution_count": null,
   "id": "5",
   "metadata": {},
   "outputs": [],
   "source": [
    "# Data before transformation\n",
    "coastal_distance.dist.hvplot(\n",
    "    title=\"Carte des distances\", x=\"lon\", y=\"lat\", cmap=\"viridis\", coastline=\"10m\"\n",
    ")"
   ]
  },
  {
   "cell_type": "code",
   "execution_count": null,
   "id": "6",
   "metadata": {},
   "outputs": [],
   "source": [
    "# Applying the transformation\n",
    "data = 1 + np.exp(-(coastal_distance[\"dist\"] * coastal_distance[\"dist\"]) * 0.01)"
   ]
  },
  {
   "cell_type": "code",
   "execution_count": null,
   "id": "7",
   "metadata": {},
   "outputs": [],
   "source": [
    "# Data after transformation\n",
    "data.dist.hvplot(\n",
    "    title=\"Carte des distances transformée\",\n",
    "    x=\"lon\",\n",
    "    y=\"lat\",\n",
    "    cmap=\"viridis\",\n",
    "    coastline=\"10m\",\n",
    ")"
   ]
  },
  {
   "cell_type": "markdown",
   "id": "8",
   "metadata": {},
   "source": [
    "The map that as been obtained will divide the difference map. See the notebook at papermill/pangeo-fish_coastal_distance.ipynb to see how it's implemented in the algorithm.\n",
    "The parameter 0.01 is impacting the horizontal aperture of the curve, after some tries, it has been set to this value that was suiffcient.\n",
    "___\n",
    "Below, you will find the first three steps of the algorithm implementing this functionality."
   ]
  },
  {
   "cell_type": "code",
   "execution_count": null,
   "id": "9",
   "metadata": {
    "editable": true,
    "slideshow": {
     "slide_type": ""
    },
    "tags": []
   },
   "outputs": [],
   "source": [
    "# Import necessary libraries and modules.\n",
    "import hvplot.xarray\n",
    "import intake\n",
    "import pandas as pd\n",
    "import xarray as xr\n",
    "from pint_xarray import unit_registry as ureg\n",
    "\n",
    "from pangeo_fish.io import open_tag"
   ]
  },
  {
   "cell_type": "code",
   "execution_count": null,
   "id": "10",
   "metadata": {
    "editable": true,
    "slideshow": {
     "slide_type": ""
    },
    "tags": [
     "parameters"
    ]
   },
   "outputs": [],
   "source": [
    "#\n",
    "# Set up execution parameters for the analysis.\n",
    "#\n",
    "# Note: This cell is tagged as parameters, allowing automatic updates when configuring with papermil.\n",
    "\n",
    "# tag_name corresponds to the name of the biologging tag name (DST identification number),\n",
    "# which is also a path for storing all the information for the specific fish tagged with tag_name.\n",
    "\n",
    "tag_name = \"LT_A11338\"\n",
    "\n",
    "cloud_root = \"s3://gfts-ifremer/tags/bargip\"\n",
    "\n",
    "# tag_root specifies the root URL for tag data used for this computation.\n",
    "tag_root = f\"{cloud_root}/cleaned\"\n",
    "\n",
    "# catalog_url specifies the URL for the catalog for reference data used.\n",
    "catalog_url = \"s3://gfts-ifremer/copernicus_catalogs/master.yml\"\n",
    "\n",
    "# scratch_root specifies the root directory for storing output files.\n",
    "scratch_root = f\"{cloud_root}/tracks\"\n",
    "\n",
    "\n",
    "# storage_options specifies options for the filesystem storing output files.\n",
    "storage_options = {\n",
    "    \"anon\": False,\n",
    "    # 'profile' : \"gfts\",\n",
    "    \"client_kwargs\": {\n",
    "        \"endpoint_url\": \"https://s3.gra.perf.cloud.ovh.net\",\n",
    "        \"region_name\": \"gra\",\n",
    "    },\n",
    "}\n",
    "\n",
    "# if you are using local file system, activate following two lines\n",
    "folder_name = \"../toto\"\n",
    "storage_options = None\n",
    "scratch_root = f\"/home/jovyan/notebooks/papermill/{folder_name}\"\n",
    "\n",
    "# Default chunk value for time dimension.  This values depends on the configuration of your dask cluster.\n",
    "chunk_time = 24\n",
    "\n",
    "#\n",
    "# Parameters for step 2. **Compare Reference Model with DST Information:**\n",
    "#\n",
    "# bbox, bounding box, defines the latitude and longitude range for the analysis area.\n",
    "bbox = {\"latitude\": [40, 56], \"longitude\": [-13, 5]}\n",
    "\n",
    "# relative_depth_threshold defines the acceptable fish depth relative to the maximum tag depth.\n",
    "# It determines whether the fish can be considered to be in a certain location based on depth.\n",
    "relative_depth_threshold = 0.8\n",
    "\n",
    "#\n",
    "# Parameters for step 3. **Regrid the Grid from Reference Model Grid to Healpix Grid:**\n",
    "#\n",
    "# Distance filepath is the path to the coastal distance file.\n",
    "distance_filepath = \"s3://gfts-ifremer/tags/distance2coast.zarr\"\n",
    "\n",
    "# distance_scale_factor scales the squared distance in the exponential decay function.\n",
    "distance_scale_factor = 0.01\n",
    "\n",
    "# nside defines the resolution of the healpix grid used for regridding.\n",
    "nside = 4096  # *2\n",
    "\n",
    "# rot defines the rotation angles for the healpix grid.\n",
    "rot = {\"lat\": 0, \"lon\": 30}\n",
    "\n",
    "# min_vertices sets the minimum number of vertices for a valid transcription for regridding.\n",
    "min_vertices = 1"
   ]
  },
  {
   "cell_type": "code",
   "execution_count": null,
   "id": "11",
   "metadata": {},
   "outputs": [],
   "source": [
    "# Define target root directories for storing analysis results.\n",
    "target_root = f\"{scratch_root}/{tag_name}\""
   ]
  },
  {
   "cell_type": "code",
   "execution_count": null,
   "id": "12",
   "metadata": {},
   "outputs": [],
   "source": [
    "target_root"
   ]
  },
  {
   "cell_type": "code",
   "execution_count": null,
   "id": "13",
   "metadata": {
    "editable": true,
    "slideshow": {
     "slide_type": ""
    },
    "tags": []
   },
   "outputs": [],
   "source": [
    "tag_root"
   ]
  },
  {
   "cell_type": "code",
   "execution_count": null,
   "id": "14",
   "metadata": {
    "editable": true,
    "slideshow": {
     "slide_type": ""
    },
    "tags": []
   },
   "outputs": [],
   "source": [
    "# Set up a local cluster for distributed computing.\n",
    "from distributed import LocalCluster\n",
    "\n",
    "cluster = LocalCluster()\n",
    "client = cluster.get_client()\n",
    "client"
   ]
  },
  {
   "cell_type": "code",
   "execution_count": null,
   "id": "15",
   "metadata": {
    "editable": true,
    "slideshow": {
     "slide_type": ""
    },
    "tags": []
   },
   "outputs": [],
   "source": [
    "# Open and retrieve the tag data required for the analysis\n",
    "tag = open_tag(tag_root, tag_name)\n",
    "tag"
   ]
  },
  {
   "cell_type": "markdown",
   "id": "16",
   "metadata": {
    "editable": true,
    "slideshow": {
     "slide_type": ""
    },
    "tags": []
   },
   "source": [
    "## 2. **Compare Reference Model with DST Tag Information:** Analyze and compare data from the reference model with information from the biologging data of the species in question. \n",
    "\n",
    "In this step, we compare the reference model data with Data Storage Tag information.\n",
    "The process involves reading and cleaning the reference model, aligning time, converting depth units, subtracting tag data from the model, and saving the results."
   ]
  },
  {
   "cell_type": "code",
   "execution_count": null,
   "id": "17",
   "metadata": {
    "editable": true,
    "slideshow": {
     "slide_type": ""
    },
    "tags": []
   },
   "outputs": [],
   "source": [
    "# Import necessary libraries\n",
    "import intake\n",
    "\n",
    "from pangeo_fish.cf import bounds_to_bins\n",
    "from pangeo_fish.diff import diff_z\n",
    "from pangeo_fish.io import open_copernicus_catalog\n",
    "from pangeo_fish.tags import adapt_model_time, reshape_by_bins, to_time_slice\n",
    "\n",
    "# Drop data outside the reference interval\n",
    "time_slice = to_time_slice(tag[\"tagging_events/time\"])\n",
    "time = tag[\"dst\"].ds.time\n",
    "cond = (time <= time_slice.stop) & (time >= time_slice.start)\n",
    "\n",
    "tag_log = tag[\"dst\"].ds.where(cond, drop=True)\n",
    "\n",
    "min_ = tag_log.time[0]\n",
    "max_ = tag_log.time[-1]\n",
    "\n",
    "time_slice = slice(min_.data, max_.data)"
   ]
  },
  {
   "cell_type": "code",
   "execution_count": null,
   "id": "18",
   "metadata": {
    "editable": true,
    "slideshow": {
     "slide_type": ""
    },
    "tags": []
   },
   "outputs": [],
   "source": [
    "def get_copernicus_zarr(product_id=\"IBI_MULTIYEAR_PHY_005_002\"):\n",
    "    master_cat = intake.open_catalog(catalog_url)\n",
    "    if product_id == \"IBI_MULTIYEAR_PHY_005_002\":\n",
    "\n",
    "        # Open necessary datasets\n",
    "        sub_cat = master_cat[product_id]\n",
    "        thetao = sub_cat[\"cmems_mod_ibi_phy_my_0.083deg-3D_P1D-m\"](\n",
    "            chunk=\"time\"\n",
    "        ).to_dask()[[\"thetao\"]]\n",
    "        zos = (\n",
    "            sub_cat[\"cmems_mod_ibi_phy_my_0.083deg-3D_P1D-m\"](chunk=\"time\")\n",
    "            .to_dask()\n",
    "            .zos\n",
    "        )\n",
    "        deptho = sub_cat[\"cmems_mod_ibi_phy_my_0.083deg-3D_static\"].to_dask().deptho\n",
    "\n",
    "    # Assign latitude and longitude from thetao to deptho to shift in positions\n",
    "    deptho[\"latitude\"] = thetao[\"latitude\"]\n",
    "    deptho[\"longitude\"] = thetao[\"longitude\"]\n",
    "\n",
    "    # Create mask for deptho\n",
    "    mask = deptho.isnull()\n",
    "\n",
    "    # Merge datasets and assign relevant variables\n",
    "    ds = (\n",
    "        thetao.rename({\"thetao\": \"TEMP\"}).assign(\n",
    "            {\n",
    "                \"XE\": zos,\n",
    "                \"H0\": deptho,\n",
    "                \"mask\": mask,\n",
    "            }\n",
    "        )\n",
    "    ).rename({\"latitude\": \"lat\", \"longitude\": \"lon\", \"elevation\": \"depth\"})\n",
    "\n",
    "    # Ensure depth is positive\n",
    "    ds[\"depth\"] = abs(ds[\"depth\"])\n",
    "\n",
    "    # Rearrange depth coordinates and assign dynamic depth and bathymetry\n",
    "    ds = (\n",
    "        ds.isel(depth=slice(None, None, -1))\n",
    "        .assign(\n",
    "            {\n",
    "                \"dynamic_depth\": lambda ds: (ds[\"depth\"] + ds[\"XE\"]).assign_attrs(\n",
    "                    {\"units\": \"m\", \"positive\": \"down\"}\n",
    "                ),\n",
    "                \"dynamic_bathymetry\": lambda ds: (ds[\"H0\"] + ds[\"XE\"]).assign_attrs(\n",
    "                    {\"units\": \"m\", \"positive\": \"down\"}\n",
    "                ),\n",
    "            }\n",
    "        )\n",
    "        .pipe(broadcast_variables, {\"lat\": \"latitude\", \"lon\": \"longitude\"})\n",
    "    )\n",
    "    # print(uris_by_key)\n",
    "    return ds"
   ]
  },
  {
   "cell_type": "code",
   "execution_count": null,
   "id": "19",
   "metadata": {},
   "outputs": [],
   "source": [
    "# Verify the data\n",
    "import cmocean\n",
    "import hvplot.xarray\n",
    "\n",
    "from pangeo_fish.io import save_html_hvplot\n",
    "\n",
    "plot = (\n",
    "    (-tag[\"dst\"].pressure).hvplot(width=1000, height=500, color=\"blue\")\n",
    "    * (-tag_log).hvplot.scatter(\n",
    "        x=\"time\", y=\"pressure\", color=\"red\", size=5, width=1000, height=500\n",
    "    )\n",
    "    * (\n",
    "        (tag[\"dst\"].temperature).hvplot(width=1000, height=500, color=\"blue\")\n",
    "        * (tag_log).hvplot.scatter(\n",
    "            x=\"time\", y=\"temperature\", color=\"red\", size=5, width=1000, height=500\n",
    "        )\n",
    "    )\n",
    ")\n",
    "filepath = f\"{target_root}/tags.html\"\n",
    "\n",
    "save_html_hvplot(plot, filepath, storage_options)\n",
    "\n",
    "# plot"
   ]
  },
  {
   "cell_type": "code",
   "execution_count": null,
   "id": "20",
   "metadata": {
    "editable": true,
    "slideshow": {
     "slide_type": ""
    },
    "tags": []
   },
   "outputs": [],
   "source": [
    "from pangeo_fish.io import broadcast_variables"
   ]
  },
  {
   "cell_type": "code",
   "execution_count": null,
   "id": "21",
   "metadata": {
    "editable": true,
    "slideshow": {
     "slide_type": ""
    },
    "tags": []
   },
   "outputs": [],
   "source": [
    "model = get_copernicus_zarr()"
   ]
  },
  {
   "cell_type": "code",
   "execution_count": null,
   "id": "22",
   "metadata": {
    "editable": true,
    "slideshow": {
     "slide_type": ""
    },
    "tags": []
   },
   "outputs": [],
   "source": [
    "# Subset the reference_model by\n",
    "# - align model time with the time of tag_log, also\n",
    "# - drop data for depth later that are unlikely due to the observed pressure from tag_log\n",
    "# - defined latitude and longitude of bbox.\n",
    "#\n",
    "reference_model = (\n",
    "    model.sel(time=adapt_model_time(time_slice))\n",
    "    .sel(lat=slice(*bbox[\"latitude\"]), lon=slice(*bbox[\"longitude\"]))\n",
    "    .pipe(\n",
    "        lambda ds: ds.sel(\n",
    "            depth=slice(None, (tag_log[\"pressure\"].max() - ds[\"XE\"].min()).compute())\n",
    "        )\n",
    "    )\n",
    ")"
   ]
  },
  {
   "cell_type": "code",
   "execution_count": null,
   "id": "23",
   "metadata": {
    "editable": true,
    "slideshow": {
     "slide_type": ""
    },
    "tags": []
   },
   "outputs": [],
   "source": [
    "%%time\n",
    "# Reshape the tag log, so that it bins to the time step of reference_model\n",
    "reshaped_tag = reshape_by_bins(\n",
    "    tag_log,\n",
    "    dim=\"time\",\n",
    "    bins=(\n",
    "        reference_model.cf.add_bounds([\"time\"], output_dim=\"bounds\")\n",
    "        .pipe(bounds_to_bins, bounds_dim=\"bounds\")\n",
    "        .get(\"time_bins\")\n",
    "    ),\n",
    "    bin_dim=\"bincount\",\n",
    "    other_dim=\"obs\",\n",
    ").chunk({\"time\": chunk_time})"
   ]
  },
  {
   "cell_type": "code",
   "execution_count": null,
   "id": "24",
   "metadata": {
    "editable": true,
    "slideshow": {
     "slide_type": ""
    },
    "tags": []
   },
   "outputs": [],
   "source": [
    "# Subtract the time_bined tag_log from the reference_model.\n",
    "# Here, for each time_bin, each observed value are compared with the correspoindng depth of reference_model using diff_z function.\n",
    "#\n",
    "\n",
    "diff = (\n",
    "    diff_z(\n",
    "        reference_model.chunk(dict(depth=-1)),\n",
    "        reshaped_tag,\n",
    "        depth_threshold=relative_depth_threshold,\n",
    "    )\n",
    "    .assign_attrs({\"tag_id\": tag_name})\n",
    "    .assign(\n",
    "        {\n",
    "            \"H0\": reference_model[\"H0\"],\n",
    "            \"ocean_mask\": reference_model[\"H0\"].notnull(),\n",
    "        }\n",
    "    )\n",
    ")\n",
    "\n",
    "# Persist the diff data\n",
    "diff = diff.chunk(default_chunk).persist()\n",
    "# diff"
   ]
  },
  {
   "cell_type": "code",
   "execution_count": null,
   "id": "25",
   "metadata": {
    "editable": true,
    "slideshow": {
     "slide_type": ""
    },
    "tags": []
   },
   "outputs": [],
   "source": [
    "%%time\n",
    "# Verify the data\n",
    "# diff[\"diff\"].count([\"lat\",\"lon\"]).plot()"
   ]
  },
  {
   "cell_type": "code",
   "execution_count": null,
   "id": "26",
   "metadata": {},
   "outputs": [],
   "source": [
    "# Saving the lat and lon for interpolate the lat and lon with the distance dataset\n",
    "target_lat = diff[\"lat\"]\n",
    "target_lon = diff[\"lon\"]"
   ]
  },
  {
   "cell_type": "code",
   "execution_count": null,
   "id": "27",
   "metadata": {
    "editable": true,
    "slideshow": {
     "slide_type": ""
    },
    "tags": []
   },
   "outputs": [],
   "source": [
    "%%time\n",
    "# Save snapshot to disk\n",
    "diff.to_zarr(f\"{target_root}/diff.zarr\", mode=\"w\", storage_options=storage_options)\n",
    "\n",
    "# Cleanup\n",
    "del tag_log, model, reference_model, reshaped_tag, diff"
   ]
  },
  {
   "cell_type": "markdown",
   "id": "28",
   "metadata": {
    "editable": true,
    "slideshow": {
     "slide_type": ""
    },
    "tags": []
   },
   "source": [
    "## 3. **Regrid the Grid from Reference Model Grid to Healpix Grid:** Transform the grid from the reference model to the Healpix grid for further analysis.\n",
    "\n",
    "In this step, we regrid the data from the reference model grid to a Healpix grid. This process involves defining the Healpix grid, creating the target grid, computing interpolation weights, performing the regridding, and saving the regridded data.\n"
   ]
  },
  {
   "cell_type": "code",
   "execution_count": null,
   "id": "29",
   "metadata": {
    "editable": true,
    "slideshow": {
     "slide_type": ""
    },
    "tags": []
   },
   "outputs": [],
   "source": [
    "# Import necessary libraries\n",
    "import numpy as np\n",
    "import s3fs\n",
    "from xhealpixify import HealpyGridInfo, HealpyRegridder\n",
    "\n",
    "from pangeo_fish.grid import center_longitude"
   ]
  },
  {
   "cell_type": "code",
   "execution_count": null,
   "id": "30",
   "metadata": {
    "editable": true,
    "slideshow": {
     "slide_type": ""
    },
    "tags": []
   },
   "outputs": [],
   "source": [
    "%%time\n",
    "\n",
    "# Open the diff data and performs cleaning operations to prepare it for regridding.\n",
    "\n",
    "ds = (\n",
    "    xr.open_dataset(\n",
    "        f\"{target_root}/diff.zarr\",\n",
    "        engine=\"zarr\",\n",
    "        chunks={},\n",
    "        storage_options=storage_options,\n",
    "    )\n",
    "    .pipe(lambda ds: ds.merge(ds[[\"latitude\", \"longitude\"]].compute()))\n",
    "    .swap_dims({\"lat\": \"yi\", \"lon\": \"xi\"})\n",
    ")\n",
    "ds"
   ]
  },
  {
   "cell_type": "code",
   "execution_count": null,
   "id": "31",
   "metadata": {},
   "outputs": [],
   "source": [
    "s3 = s3fs.S3FileSystem(\n",
    "    anon=False,\n",
    "    client_kwargs={\n",
    "        \"endpoint_url\": \"https://s3.gra.perf.cloud.ovh.net\",\n",
    "    },\n",
    ")"
   ]
  },
  {
   "cell_type": "code",
   "execution_count": null,
   "id": "32",
   "metadata": {},
   "outputs": [],
   "source": [
    "# Opening the coastal dataset and sorting the lat in ascending\n",
    "coastal_distance = (\n",
    "    xr.open_zarr(distance_filepath)\n",
    "    .sel(lat=slice(56, 40), lon=slice(-13, 5))\n",
    "    .sortby(\"lat\")\n",
    ")"
   ]
  },
  {
   "cell_type": "code",
   "execution_count": null,
   "id": "33",
   "metadata": {},
   "outputs": [],
   "source": [
    "# Interpolate the data so its the same grid\n",
    "coastal_distance = coastal_distance.interp(\n",
    "    lat=target_lat, lon=target_lon, method=\"linear\"\n",
    ")"
   ]
  },
  {
   "cell_type": "code",
   "execution_count": null,
   "id": "34",
   "metadata": {},
   "outputs": [],
   "source": [
    "# Applying the transformation\n",
    "coastal_distance[\"dist\"] = 1 + np.exp(\n",
    "    -(coastal_distance.dist * coastal_distance.dist) * distance_scale_factor\n",
    ")"
   ]
  },
  {
   "cell_type": "code",
   "execution_count": null,
   "id": "35",
   "metadata": {},
   "outputs": [],
   "source": [
    "coastal_distance = coastal_distance.swap_dims({\"lat\": \"yi\", \"lon\": \"xi\"}).drop_vars(\n",
    "    [\"lat\", \"lon\"]\n",
    ")"
   ]
  },
  {
   "cell_type": "code",
   "execution_count": null,
   "id": "36",
   "metadata": {
    "editable": true,
    "slideshow": {
     "slide_type": ""
    },
    "tags": []
   },
   "outputs": [],
   "source": [
    "%%time\n",
    "# Define the target Healpix grid information\n",
    "grid = HealpyGridInfo(level=int(np.log2(nside)), rot=rot)\n",
    "target_grid = grid.target_grid(ds).pipe(center_longitude, 0)\n",
    "target_grid"
   ]
  },
  {
   "cell_type": "code",
   "execution_count": null,
   "id": "37",
   "metadata": {
    "editable": true,
    "slideshow": {
     "slide_type": ""
    },
    "tags": []
   },
   "outputs": [],
   "source": [
    "%%time\n",
    "# Compute the interpolation weights for regridding the diff data\n",
    "regridder = HealpyRegridder(\n",
    "    ds[[\"longitude\", \"latitude\", \"ocean_mask\"]],\n",
    "    target_grid,\n",
    "    method=\"bilinear\",\n",
    "    interpolation_kwargs={\"mask\": \"ocean_mask\", \"min_vertices\": min_vertices},\n",
    ")\n",
    "regridder"
   ]
  },
  {
   "cell_type": "code",
   "execution_count": null,
   "id": "38",
   "metadata": {
    "editable": true,
    "slideshow": {
     "slide_type": ""
    },
    "tags": []
   },
   "outputs": [],
   "source": [
    "%%time\n",
    "# Perform the regridding operation using the computed interpolation weights.\n",
    "regridded = regridder.regrid_ds(ds)\n",
    "regridded"
   ]
  },
  {
   "cell_type": "code",
   "execution_count": null,
   "id": "39",
   "metadata": {},
   "outputs": [],
   "source": [
    "regridded_coastal = regridder.regrid_ds(coastal_distance)"
   ]
  },
  {
   "cell_type": "code",
   "execution_count": null,
   "id": "40",
   "metadata": {
    "editable": true,
    "slideshow": {
     "slide_type": ""
    },
    "tags": []
   },
   "outputs": [],
   "source": [
    "%%time\n",
    "# Reshape the regridded data to 2D\n",
    "reshaped = grid.to_2d(regridded).pipe(center_longitude, 0)\n",
    "reshaped = reshaped.persist()\n",
    "reshaped"
   ]
  },
  {
   "cell_type": "code",
   "execution_count": null,
   "id": "41",
   "metadata": {},
   "outputs": [],
   "source": [
    "reshaped_coastal = grid.to_2d(regridded_coastal).pipe(center_longitude, 0)"
   ]
  },
  {
   "cell_type": "code",
   "execution_count": null,
   "id": "42",
   "metadata": {
    "editable": true,
    "slideshow": {
     "slide_type": ""
    },
    "tags": []
   },
   "outputs": [],
   "source": [
    "# This cell verifies the regridded data by plotting the count of non-NaN values.\n",
    "# reshaped[\"diff\"].count([\"x\", \"y\"]).plot()"
   ]
  },
  {
   "cell_type": "code",
   "execution_count": null,
   "id": "43",
   "metadata": {},
   "outputs": [],
   "source": [
    "coastal_chunk = {\"x\": default_chunk_xy[\"x\"], \"y\": default_chunk_xy[\"y\"]}"
   ]
  },
  {
   "cell_type": "code",
   "execution_count": null,
   "id": "44",
   "metadata": {},
   "outputs": [],
   "source": [
    "reshaped[\"diff\"].isel(time=0).hvplot.quadmesh(\n",
    "    title=\"Carte des différences avant l'ajout de l'incertitude\",\n",
    "    x=\"longitude\",\n",
    "    y=\"latitude\",\n",
    "    cmap=\"cool\",\n",
    "    coastline=\"10m\",\n",
    "    xlim=bbox[\"longitude\"],\n",
    "    ylim=bbox[\"latitude\"],\n",
    ")"
   ]
  },
  {
   "cell_type": "code",
   "execution_count": null,
   "id": "45",
   "metadata": {},
   "outputs": [],
   "source": [
    "# Dividing the diff to insert the incertitude measurement\n",
    "reshaped[\"diff\"] = reshaped[\"diff\"] / reshaped_coastal[\"dist\"]"
   ]
  },
  {
   "cell_type": "code",
   "execution_count": null,
   "id": "46",
   "metadata": {},
   "outputs": [],
   "source": [
    "reshaped[\"diff\"].isel(time=0).hvplot.quadmesh(\n",
    "    title=\"Carte des différences après l'ajout de l'incertitude\",\n",
    "    x=\"longitude\",\n",
    "    y=\"latitude\",\n",
    "    cmap=\"cool\",\n",
    "    coastline=\"10m\",\n",
    "    xlim=bbox[\"longitude\"],\n",
    "    ylim=bbox[\"latitude\"],\n",
    ")"
   ]
  }
 ],
 "metadata": {
  "language_info": {
   "codemirror_mode": {
    "name": "ipython",
    "version": 3
   },
   "file_extension": ".py",
   "mimetype": "text/x-python",
   "name": "python",
   "nbconvert_exporter": "python",
   "pygments_lexer": "ipython3"
  }
 },
 "nbformat": 4,
 "nbformat_minor": 5
}
