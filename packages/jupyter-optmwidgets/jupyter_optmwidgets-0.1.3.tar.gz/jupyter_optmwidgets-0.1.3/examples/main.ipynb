{
 "cells": [
  {
   "cell_type": "markdown",
   "metadata": {
    "user_expressions": []
   },
   "source": [
    "## DIVE Widgets"
   ]
  },
  {
   "cell_type": "markdown",
   "metadata": {
    "user_expressions": []
   },
   "source": [
    "[![Open In Colab](https://colab.research.google.com/assets/colab-badge.svg)](https://colab.research.google.com/github/dive4dec/divewidgets/blob/main/examples/main.ipynb)"
   ]
  },
  {
   "cell_type": "code",
   "execution_count": 1,
   "metadata": {
    "tags": []
   },
   "outputs": [
    {
     "name": "stdout",
     "output_type": "stream",
     "text": [
      "Requirement already satisfied: optmwidgets in /opt/homebrew/anaconda3/lib/python3.12/site-packages (0.1.5)\n",
      "Requirement already satisfied: ipywidgets>=7.0.0 in /opt/homebrew/anaconda3/lib/python3.12/site-packages (from optmwidgets) (7.8.1)\n",
      "Requirement already satisfied: comm>=0.1.3 in /opt/homebrew/anaconda3/lib/python3.12/site-packages (from ipywidgets>=7.0.0->optmwidgets) (0.2.1)\n",
      "Requirement already satisfied: ipython-genutils~=0.2.0 in /opt/homebrew/anaconda3/lib/python3.12/site-packages (from ipywidgets>=7.0.0->optmwidgets) (0.2.0)\n",
      "Requirement already satisfied: traitlets>=4.3.1 in /opt/homebrew/anaconda3/lib/python3.12/site-packages (from ipywidgets>=7.0.0->optmwidgets) (5.14.3)\n",
      "Requirement already satisfied: widgetsnbextension~=3.6.6 in /opt/homebrew/anaconda3/lib/python3.12/site-packages (from ipywidgets>=7.0.0->optmwidgets) (3.6.6)\n",
      "Requirement already satisfied: ipython>=4.0.0 in /opt/homebrew/anaconda3/lib/python3.12/site-packages (from ipywidgets>=7.0.0->optmwidgets) (8.27.0)\n",
      "Requirement already satisfied: jupyterlab-widgets<3,>=1.0.0 in /opt/homebrew/anaconda3/lib/python3.12/site-packages (from ipywidgets>=7.0.0->optmwidgets) (1.0.0)\n",
      "Requirement already satisfied: decorator in /opt/homebrew/anaconda3/lib/python3.12/site-packages (from ipython>=4.0.0->ipywidgets>=7.0.0->optmwidgets) (5.1.1)\n",
      "Requirement already satisfied: jedi>=0.16 in /opt/homebrew/anaconda3/lib/python3.12/site-packages (from ipython>=4.0.0->ipywidgets>=7.0.0->optmwidgets) (0.19.1)\n",
      "Requirement already satisfied: matplotlib-inline in /opt/homebrew/anaconda3/lib/python3.12/site-packages (from ipython>=4.0.0->ipywidgets>=7.0.0->optmwidgets) (0.1.6)\n",
      "Requirement already satisfied: prompt-toolkit<3.1.0,>=3.0.41 in /opt/homebrew/anaconda3/lib/python3.12/site-packages (from ipython>=4.0.0->ipywidgets>=7.0.0->optmwidgets) (3.0.43)\n",
      "Requirement already satisfied: pygments>=2.4.0 in /opt/homebrew/anaconda3/lib/python3.12/site-packages (from ipython>=4.0.0->ipywidgets>=7.0.0->optmwidgets) (2.15.1)\n",
      "Requirement already satisfied: stack-data in /opt/homebrew/anaconda3/lib/python3.12/site-packages (from ipython>=4.0.0->ipywidgets>=7.0.0->optmwidgets) (0.2.0)\n",
      "Requirement already satisfied: pexpect>4.3 in /opt/homebrew/anaconda3/lib/python3.12/site-packages (from ipython>=4.0.0->ipywidgets>=7.0.0->optmwidgets) (4.8.0)\n",
      "Requirement already satisfied: notebook>=4.4.1 in /opt/homebrew/anaconda3/lib/python3.12/site-packages (from widgetsnbextension~=3.6.6->ipywidgets>=7.0.0->optmwidgets) (7.2.2)\n",
      "Requirement already satisfied: parso<0.9.0,>=0.8.3 in /opt/homebrew/anaconda3/lib/python3.12/site-packages (from jedi>=0.16->ipython>=4.0.0->ipywidgets>=7.0.0->optmwidgets) (0.8.3)\n",
      "Requirement already satisfied: jupyter-server<3,>=2.4.0 in /opt/homebrew/anaconda3/lib/python3.12/site-packages (from notebook>=4.4.1->widgetsnbextension~=3.6.6->ipywidgets>=7.0.0->optmwidgets) (2.14.1)\n",
      "Requirement already satisfied: jupyterlab-server<3,>=2.27.1 in /opt/homebrew/anaconda3/lib/python3.12/site-packages (from notebook>=4.4.1->widgetsnbextension~=3.6.6->ipywidgets>=7.0.0->optmwidgets) (2.27.3)\n",
      "Requirement already satisfied: jupyterlab<4.3,>=4.2.0 in /opt/homebrew/anaconda3/lib/python3.12/site-packages (from notebook>=4.4.1->widgetsnbextension~=3.6.6->ipywidgets>=7.0.0->optmwidgets) (4.2.5)\n",
      "Requirement already satisfied: notebook-shim<0.3,>=0.2 in /opt/homebrew/anaconda3/lib/python3.12/site-packages (from notebook>=4.4.1->widgetsnbextension~=3.6.6->ipywidgets>=7.0.0->optmwidgets) (0.2.3)\n",
      "Requirement already satisfied: tornado>=6.2.0 in /opt/homebrew/anaconda3/lib/python3.12/site-packages (from notebook>=4.4.1->widgetsnbextension~=3.6.6->ipywidgets>=7.0.0->optmwidgets) (6.4.1)\n",
      "Requirement already satisfied: ptyprocess>=0.5 in /opt/homebrew/anaconda3/lib/python3.12/site-packages (from pexpect>4.3->ipython>=4.0.0->ipywidgets>=7.0.0->optmwidgets) (0.7.0)\n",
      "Requirement already satisfied: wcwidth in /opt/homebrew/anaconda3/lib/python3.12/site-packages (from prompt-toolkit<3.1.0,>=3.0.41->ipython>=4.0.0->ipywidgets>=7.0.0->optmwidgets) (0.2.5)\n",
      "Requirement already satisfied: executing in /opt/homebrew/anaconda3/lib/python3.12/site-packages (from stack-data->ipython>=4.0.0->ipywidgets>=7.0.0->optmwidgets) (0.8.3)\n",
      "Requirement already satisfied: asttokens in /opt/homebrew/anaconda3/lib/python3.12/site-packages (from stack-data->ipython>=4.0.0->ipywidgets>=7.0.0->optmwidgets) (2.0.5)\n",
      "Requirement already satisfied: pure-eval in /opt/homebrew/anaconda3/lib/python3.12/site-packages (from stack-data->ipython>=4.0.0->ipywidgets>=7.0.0->optmwidgets) (0.2.2)\n",
      "Requirement already satisfied: anyio>=3.1.0 in /opt/homebrew/anaconda3/lib/python3.12/site-packages (from jupyter-server<3,>=2.4.0->notebook>=4.4.1->widgetsnbextension~=3.6.6->ipywidgets>=7.0.0->optmwidgets) (4.2.0)\n",
      "Requirement already satisfied: argon2-cffi>=21.1 in /opt/homebrew/anaconda3/lib/python3.12/site-packages (from jupyter-server<3,>=2.4.0->notebook>=4.4.1->widgetsnbextension~=3.6.6->ipywidgets>=7.0.0->optmwidgets) (21.3.0)\n",
      "Requirement already satisfied: jinja2>=3.0.3 in /opt/homebrew/anaconda3/lib/python3.12/site-packages (from jupyter-server<3,>=2.4.0->notebook>=4.4.1->widgetsnbextension~=3.6.6->ipywidgets>=7.0.0->optmwidgets) (3.1.4)\n",
      "Requirement already satisfied: jupyter-client>=7.4.4 in /opt/homebrew/anaconda3/lib/python3.12/site-packages (from jupyter-server<3,>=2.4.0->notebook>=4.4.1->widgetsnbextension~=3.6.6->ipywidgets>=7.0.0->optmwidgets) (8.6.0)\n",
      "Requirement already satisfied: jupyter-core!=5.0.*,>=4.12 in /opt/homebrew/anaconda3/lib/python3.12/site-packages (from jupyter-server<3,>=2.4.0->notebook>=4.4.1->widgetsnbextension~=3.6.6->ipywidgets>=7.0.0->optmwidgets) (5.7.2)\n",
      "Requirement already satisfied: jupyter-events>=0.9.0 in /opt/homebrew/anaconda3/lib/python3.12/site-packages (from jupyter-server<3,>=2.4.0->notebook>=4.4.1->widgetsnbextension~=3.6.6->ipywidgets>=7.0.0->optmwidgets) (0.10.0)\n",
      "Requirement already satisfied: jupyter-server-terminals>=0.4.4 in /opt/homebrew/anaconda3/lib/python3.12/site-packages (from jupyter-server<3,>=2.4.0->notebook>=4.4.1->widgetsnbextension~=3.6.6->ipywidgets>=7.0.0->optmwidgets) (0.4.4)\n",
      "Requirement already satisfied: nbconvert>=6.4.4 in /opt/homebrew/anaconda3/lib/python3.12/site-packages (from jupyter-server<3,>=2.4.0->notebook>=4.4.1->widgetsnbextension~=3.6.6->ipywidgets>=7.0.0->optmwidgets) (7.16.4)\n",
      "Requirement already satisfied: nbformat>=5.3.0 in /opt/homebrew/anaconda3/lib/python3.12/site-packages (from jupyter-server<3,>=2.4.0->notebook>=4.4.1->widgetsnbextension~=3.6.6->ipywidgets>=7.0.0->optmwidgets) (5.10.4)\n",
      "Requirement already satisfied: overrides>=5.0 in /opt/homebrew/anaconda3/lib/python3.12/site-packages (from jupyter-server<3,>=2.4.0->notebook>=4.4.1->widgetsnbextension~=3.6.6->ipywidgets>=7.0.0->optmwidgets) (7.4.0)\n",
      "Requirement already satisfied: packaging>=22.0 in /opt/homebrew/anaconda3/lib/python3.12/site-packages (from jupyter-server<3,>=2.4.0->notebook>=4.4.1->widgetsnbextension~=3.6.6->ipywidgets>=7.0.0->optmwidgets) (24.1)\n",
      "Requirement already satisfied: prometheus-client>=0.9 in /opt/homebrew/anaconda3/lib/python3.12/site-packages (from jupyter-server<3,>=2.4.0->notebook>=4.4.1->widgetsnbextension~=3.6.6->ipywidgets>=7.0.0->optmwidgets) (0.14.1)\n",
      "Requirement already satisfied: pyzmq>=24 in /opt/homebrew/anaconda3/lib/python3.12/site-packages (from jupyter-server<3,>=2.4.0->notebook>=4.4.1->widgetsnbextension~=3.6.6->ipywidgets>=7.0.0->optmwidgets) (25.1.2)\n",
      "Requirement already satisfied: send2trash>=1.8.2 in /opt/homebrew/anaconda3/lib/python3.12/site-packages (from jupyter-server<3,>=2.4.0->notebook>=4.4.1->widgetsnbextension~=3.6.6->ipywidgets>=7.0.0->optmwidgets) (1.8.2)\n",
      "Requirement already satisfied: terminado>=0.8.3 in /opt/homebrew/anaconda3/lib/python3.12/site-packages (from jupyter-server<3,>=2.4.0->notebook>=4.4.1->widgetsnbextension~=3.6.6->ipywidgets>=7.0.0->optmwidgets) (0.17.1)\n",
      "Requirement already satisfied: websocket-client>=1.7 in /opt/homebrew/anaconda3/lib/python3.12/site-packages (from jupyter-server<3,>=2.4.0->notebook>=4.4.1->widgetsnbextension~=3.6.6->ipywidgets>=7.0.0->optmwidgets) (1.8.0)\n",
      "Requirement already satisfied: async-lru>=1.0.0 in /opt/homebrew/anaconda3/lib/python3.12/site-packages (from jupyterlab<4.3,>=4.2.0->notebook>=4.4.1->widgetsnbextension~=3.6.6->ipywidgets>=7.0.0->optmwidgets) (2.0.4)\n",
      "Requirement already satisfied: httpx>=0.25.0 in /opt/homebrew/anaconda3/lib/python3.12/site-packages (from jupyterlab<4.3,>=4.2.0->notebook>=4.4.1->widgetsnbextension~=3.6.6->ipywidgets>=7.0.0->optmwidgets) (0.27.0)\n",
      "Requirement already satisfied: ipykernel>=6.5.0 in /opt/homebrew/anaconda3/lib/python3.12/site-packages (from jupyterlab<4.3,>=4.2.0->notebook>=4.4.1->widgetsnbextension~=3.6.6->ipywidgets>=7.0.0->optmwidgets) (6.28.0)\n",
      "Requirement already satisfied: jupyter-lsp>=2.0.0 in /opt/homebrew/anaconda3/lib/python3.12/site-packages (from jupyterlab<4.3,>=4.2.0->notebook>=4.4.1->widgetsnbextension~=3.6.6->ipywidgets>=7.0.0->optmwidgets) (2.2.0)\n",
      "Requirement already satisfied: setuptools>=40.1.0 in /opt/homebrew/anaconda3/lib/python3.12/site-packages (from jupyterlab<4.3,>=4.2.0->notebook>=4.4.1->widgetsnbextension~=3.6.6->ipywidgets>=7.0.0->optmwidgets) (75.1.0)\n",
      "Requirement already satisfied: babel>=2.10 in /opt/homebrew/anaconda3/lib/python3.12/site-packages (from jupyterlab-server<3,>=2.27.1->notebook>=4.4.1->widgetsnbextension~=3.6.6->ipywidgets>=7.0.0->optmwidgets) (2.11.0)\n",
      "Requirement already satisfied: json5>=0.9.0 in /opt/homebrew/anaconda3/lib/python3.12/site-packages (from jupyterlab-server<3,>=2.27.1->notebook>=4.4.1->widgetsnbextension~=3.6.6->ipywidgets>=7.0.0->optmwidgets) (0.9.6)\n",
      "Requirement already satisfied: jsonschema>=4.18.0 in /opt/homebrew/anaconda3/lib/python3.12/site-packages (from jupyterlab-server<3,>=2.27.1->notebook>=4.4.1->widgetsnbextension~=3.6.6->ipywidgets>=7.0.0->optmwidgets) (4.23.0)\n",
      "Requirement already satisfied: requests>=2.31 in /opt/homebrew/anaconda3/lib/python3.12/site-packages (from jupyterlab-server<3,>=2.27.1->notebook>=4.4.1->widgetsnbextension~=3.6.6->ipywidgets>=7.0.0->optmwidgets) (2.32.3)\n",
      "Requirement already satisfied: six in /opt/homebrew/anaconda3/lib/python3.12/site-packages (from asttokens->stack-data->ipython>=4.0.0->ipywidgets>=7.0.0->optmwidgets) (1.16.0)\n",
      "Requirement already satisfied: idna>=2.8 in /opt/homebrew/anaconda3/lib/python3.12/site-packages (from anyio>=3.1.0->jupyter-server<3,>=2.4.0->notebook>=4.4.1->widgetsnbextension~=3.6.6->ipywidgets>=7.0.0->optmwidgets) (3.7)\n",
      "Requirement already satisfied: sniffio>=1.1 in /opt/homebrew/anaconda3/lib/python3.12/site-packages (from anyio>=3.1.0->jupyter-server<3,>=2.4.0->notebook>=4.4.1->widgetsnbextension~=3.6.6->ipywidgets>=7.0.0->optmwidgets) (1.3.0)\n",
      "Requirement already satisfied: argon2-cffi-bindings in /opt/homebrew/anaconda3/lib/python3.12/site-packages (from argon2-cffi>=21.1->jupyter-server<3,>=2.4.0->notebook>=4.4.1->widgetsnbextension~=3.6.6->ipywidgets>=7.0.0->optmwidgets) (21.2.0)\n",
      "Requirement already satisfied: pytz>=2015.7 in /opt/homebrew/anaconda3/lib/python3.12/site-packages (from babel>=2.10->jupyterlab-server<3,>=2.27.1->notebook>=4.4.1->widgetsnbextension~=3.6.6->ipywidgets>=7.0.0->optmwidgets) (2024.1)\n",
      "Requirement already satisfied: certifi in /opt/homebrew/anaconda3/lib/python3.12/site-packages (from httpx>=0.25.0->jupyterlab<4.3,>=4.2.0->notebook>=4.4.1->widgetsnbextension~=3.6.6->ipywidgets>=7.0.0->optmwidgets) (2025.1.31)\n",
      "Requirement already satisfied: httpcore==1.* in /opt/homebrew/anaconda3/lib/python3.12/site-packages (from httpx>=0.25.0->jupyterlab<4.3,>=4.2.0->notebook>=4.4.1->widgetsnbextension~=3.6.6->ipywidgets>=7.0.0->optmwidgets) (1.0.2)\n",
      "Requirement already satisfied: h11<0.15,>=0.13 in /opt/homebrew/anaconda3/lib/python3.12/site-packages (from httpcore==1.*->httpx>=0.25.0->jupyterlab<4.3,>=4.2.0->notebook>=4.4.1->widgetsnbextension~=3.6.6->ipywidgets>=7.0.0->optmwidgets) (0.14.0)\n",
      "Requirement already satisfied: appnope in /opt/homebrew/anaconda3/lib/python3.12/site-packages (from ipykernel>=6.5.0->jupyterlab<4.3,>=4.2.0->notebook>=4.4.1->widgetsnbextension~=3.6.6->ipywidgets>=7.0.0->optmwidgets) (0.1.3)\n",
      "Requirement already satisfied: debugpy>=1.6.5 in /opt/homebrew/anaconda3/lib/python3.12/site-packages (from ipykernel>=6.5.0->jupyterlab<4.3,>=4.2.0->notebook>=4.4.1->widgetsnbextension~=3.6.6->ipywidgets>=7.0.0->optmwidgets) (1.6.7)\n",
      "Requirement already satisfied: nest-asyncio in /opt/homebrew/anaconda3/lib/python3.12/site-packages (from ipykernel>=6.5.0->jupyterlab<4.3,>=4.2.0->notebook>=4.4.1->widgetsnbextension~=3.6.6->ipywidgets>=7.0.0->optmwidgets) (1.6.0)\n",
      "Requirement already satisfied: psutil in /opt/homebrew/anaconda3/lib/python3.12/site-packages (from ipykernel>=6.5.0->jupyterlab<4.3,>=4.2.0->notebook>=4.4.1->widgetsnbextension~=3.6.6->ipywidgets>=7.0.0->optmwidgets) (5.9.0)\n",
      "Requirement already satisfied: MarkupSafe>=2.0 in /opt/homebrew/anaconda3/lib/python3.12/site-packages (from jinja2>=3.0.3->jupyter-server<3,>=2.4.0->notebook>=4.4.1->widgetsnbextension~=3.6.6->ipywidgets>=7.0.0->optmwidgets) (2.1.3)\n",
      "Requirement already satisfied: attrs>=22.2.0 in /opt/homebrew/anaconda3/lib/python3.12/site-packages (from jsonschema>=4.18.0->jupyterlab-server<3,>=2.27.1->notebook>=4.4.1->widgetsnbextension~=3.6.6->ipywidgets>=7.0.0->optmwidgets) (23.1.0)\n",
      "Requirement already satisfied: jsonschema-specifications>=2023.03.6 in /opt/homebrew/anaconda3/lib/python3.12/site-packages (from jsonschema>=4.18.0->jupyterlab-server<3,>=2.27.1->notebook>=4.4.1->widgetsnbextension~=3.6.6->ipywidgets>=7.0.0->optmwidgets) (2023.7.1)\n",
      "Requirement already satisfied: referencing>=0.28.4 in /opt/homebrew/anaconda3/lib/python3.12/site-packages (from jsonschema>=4.18.0->jupyterlab-server<3,>=2.27.1->notebook>=4.4.1->widgetsnbextension~=3.6.6->ipywidgets>=7.0.0->optmwidgets) (0.30.2)\n",
      "Requirement already satisfied: rpds-py>=0.7.1 in /opt/homebrew/anaconda3/lib/python3.12/site-packages (from jsonschema>=4.18.0->jupyterlab-server<3,>=2.27.1->notebook>=4.4.1->widgetsnbextension~=3.6.6->ipywidgets>=7.0.0->optmwidgets) (0.10.6)\n",
      "Requirement already satisfied: python-dateutil>=2.8.2 in /opt/homebrew/anaconda3/lib/python3.12/site-packages (from jupyter-client>=7.4.4->jupyter-server<3,>=2.4.0->notebook>=4.4.1->widgetsnbextension~=3.6.6->ipywidgets>=7.0.0->optmwidgets) (2.9.0.post0)\n",
      "Requirement already satisfied: platformdirs>=2.5 in /opt/homebrew/anaconda3/lib/python3.12/site-packages (from jupyter-core!=5.0.*,>=4.12->jupyter-server<3,>=2.4.0->notebook>=4.4.1->widgetsnbextension~=3.6.6->ipywidgets>=7.0.0->optmwidgets) (3.10.0)\n",
      "Requirement already satisfied: python-json-logger>=2.0.4 in /opt/homebrew/anaconda3/lib/python3.12/site-packages (from jupyter-events>=0.9.0->jupyter-server<3,>=2.4.0->notebook>=4.4.1->widgetsnbextension~=3.6.6->ipywidgets>=7.0.0->optmwidgets) (2.0.7)\n",
      "Requirement already satisfied: pyyaml>=5.3 in /opt/homebrew/anaconda3/lib/python3.12/site-packages (from jupyter-events>=0.9.0->jupyter-server<3,>=2.4.0->notebook>=4.4.1->widgetsnbextension~=3.6.6->ipywidgets>=7.0.0->optmwidgets) (6.0.1)\n",
      "Requirement already satisfied: rfc3339-validator in /opt/homebrew/anaconda3/lib/python3.12/site-packages (from jupyter-events>=0.9.0->jupyter-server<3,>=2.4.0->notebook>=4.4.1->widgetsnbextension~=3.6.6->ipywidgets>=7.0.0->optmwidgets) (0.1.4)\n",
      "Requirement already satisfied: rfc3986-validator>=0.1.1 in /opt/homebrew/anaconda3/lib/python3.12/site-packages (from jupyter-events>=0.9.0->jupyter-server<3,>=2.4.0->notebook>=4.4.1->widgetsnbextension~=3.6.6->ipywidgets>=7.0.0->optmwidgets) (0.1.1)\n",
      "Requirement already satisfied: beautifulsoup4 in /opt/homebrew/anaconda3/lib/python3.12/site-packages (from nbconvert>=6.4.4->jupyter-server<3,>=2.4.0->notebook>=4.4.1->widgetsnbextension~=3.6.6->ipywidgets>=7.0.0->optmwidgets) (4.12.3)\n",
      "Requirement already satisfied: bleach!=5.0.0 in /opt/homebrew/anaconda3/lib/python3.12/site-packages (from nbconvert>=6.4.4->jupyter-server<3,>=2.4.0->notebook>=4.4.1->widgetsnbextension~=3.6.6->ipywidgets>=7.0.0->optmwidgets) (4.1.0)\n",
      "Requirement already satisfied: defusedxml in /opt/homebrew/anaconda3/lib/python3.12/site-packages (from nbconvert>=6.4.4->jupyter-server<3,>=2.4.0->notebook>=4.4.1->widgetsnbextension~=3.6.6->ipywidgets>=7.0.0->optmwidgets) (0.7.1)\n",
      "Requirement already satisfied: jupyterlab-pygments in /opt/homebrew/anaconda3/lib/python3.12/site-packages (from nbconvert>=6.4.4->jupyter-server<3,>=2.4.0->notebook>=4.4.1->widgetsnbextension~=3.6.6->ipywidgets>=7.0.0->optmwidgets) (0.1.2)\n",
      "Requirement already satisfied: mistune<4,>=2.0.3 in /opt/homebrew/anaconda3/lib/python3.12/site-packages (from nbconvert>=6.4.4->jupyter-server<3,>=2.4.0->notebook>=4.4.1->widgetsnbextension~=3.6.6->ipywidgets>=7.0.0->optmwidgets) (2.0.4)\n",
      "Requirement already satisfied: nbclient>=0.5.0 in /opt/homebrew/anaconda3/lib/python3.12/site-packages (from nbconvert>=6.4.4->jupyter-server<3,>=2.4.0->notebook>=4.4.1->widgetsnbextension~=3.6.6->ipywidgets>=7.0.0->optmwidgets) (0.8.0)\n",
      "Requirement already satisfied: pandocfilters>=1.4.1 in /opt/homebrew/anaconda3/lib/python3.12/site-packages (from nbconvert>=6.4.4->jupyter-server<3,>=2.4.0->notebook>=4.4.1->widgetsnbextension~=3.6.6->ipywidgets>=7.0.0->optmwidgets) (1.5.0)\n",
      "Requirement already satisfied: tinycss2 in /opt/homebrew/anaconda3/lib/python3.12/site-packages (from nbconvert>=6.4.4->jupyter-server<3,>=2.4.0->notebook>=4.4.1->widgetsnbextension~=3.6.6->ipywidgets>=7.0.0->optmwidgets) (1.2.1)\n",
      "Requirement already satisfied: fastjsonschema>=2.15 in /opt/homebrew/anaconda3/lib/python3.12/site-packages (from nbformat>=5.3.0->jupyter-server<3,>=2.4.0->notebook>=4.4.1->widgetsnbextension~=3.6.6->ipywidgets>=7.0.0->optmwidgets) (2.16.2)\n",
      "Requirement already satisfied: charset-normalizer<4,>=2 in /opt/homebrew/anaconda3/lib/python3.12/site-packages (from requests>=2.31->jupyterlab-server<3,>=2.27.1->notebook>=4.4.1->widgetsnbextension~=3.6.6->ipywidgets>=7.0.0->optmwidgets) (3.3.2)\n",
      "Requirement already satisfied: urllib3<3,>=1.21.1 in /opt/homebrew/anaconda3/lib/python3.12/site-packages (from requests>=2.31->jupyterlab-server<3,>=2.27.1->notebook>=4.4.1->widgetsnbextension~=3.6.6->ipywidgets>=7.0.0->optmwidgets) (2.2.3)\n",
      "Requirement already satisfied: webencodings in /opt/homebrew/anaconda3/lib/python3.12/site-packages (from bleach!=5.0.0->nbconvert>=6.4.4->jupyter-server<3,>=2.4.0->notebook>=4.4.1->widgetsnbextension~=3.6.6->ipywidgets>=7.0.0->optmwidgets) (0.5.1)\n",
      "Requirement already satisfied: fqdn in /opt/homebrew/anaconda3/lib/python3.12/site-packages (from jsonschema[format-nongpl]>=4.18.0->jupyter-events>=0.9.0->jupyter-server<3,>=2.4.0->notebook>=4.4.1->widgetsnbextension~=3.6.6->ipywidgets>=7.0.0->optmwidgets) (1.5.1)\n",
      "Requirement already satisfied: isoduration in /opt/homebrew/anaconda3/lib/python3.12/site-packages (from jsonschema[format-nongpl]>=4.18.0->jupyter-events>=0.9.0->jupyter-server<3,>=2.4.0->notebook>=4.4.1->widgetsnbextension~=3.6.6->ipywidgets>=7.0.0->optmwidgets) (20.11.0)\n",
      "Requirement already satisfied: jsonpointer>1.13 in /opt/homebrew/anaconda3/lib/python3.12/site-packages (from jsonschema[format-nongpl]>=4.18.0->jupyter-events>=0.9.0->jupyter-server<3,>=2.4.0->notebook>=4.4.1->widgetsnbextension~=3.6.6->ipywidgets>=7.0.0->optmwidgets) (2.1)\n",
      "Requirement already satisfied: uri-template in /opt/homebrew/anaconda3/lib/python3.12/site-packages (from jsonschema[format-nongpl]>=4.18.0->jupyter-events>=0.9.0->jupyter-server<3,>=2.4.0->notebook>=4.4.1->widgetsnbextension~=3.6.6->ipywidgets>=7.0.0->optmwidgets) (1.3.0)\n",
      "Requirement already satisfied: webcolors>=24.6.0 in /opt/homebrew/anaconda3/lib/python3.12/site-packages (from jsonschema[format-nongpl]>=4.18.0->jupyter-events>=0.9.0->jupyter-server<3,>=2.4.0->notebook>=4.4.1->widgetsnbextension~=3.6.6->ipywidgets>=7.0.0->optmwidgets) (24.11.1)\n",
      "Requirement already satisfied: cffi>=1.0.1 in /opt/homebrew/anaconda3/lib/python3.12/site-packages (from argon2-cffi-bindings->argon2-cffi>=21.1->jupyter-server<3,>=2.4.0->notebook>=4.4.1->widgetsnbextension~=3.6.6->ipywidgets>=7.0.0->optmwidgets) (1.17.1)\n",
      "Requirement already satisfied: soupsieve>1.2 in /opt/homebrew/anaconda3/lib/python3.12/site-packages (from beautifulsoup4->nbconvert>=6.4.4->jupyter-server<3,>=2.4.0->notebook>=4.4.1->widgetsnbextension~=3.6.6->ipywidgets>=7.0.0->optmwidgets) (2.5)\n",
      "Requirement already satisfied: pycparser in /opt/homebrew/anaconda3/lib/python3.12/site-packages (from cffi>=1.0.1->argon2-cffi-bindings->argon2-cffi>=21.1->jupyter-server<3,>=2.4.0->notebook>=4.4.1->widgetsnbextension~=3.6.6->ipywidgets>=7.0.0->optmwidgets) (2.21)\n",
      "Requirement already satisfied: arrow>=0.15.0 in /opt/homebrew/anaconda3/lib/python3.12/site-packages (from isoduration->jsonschema[format-nongpl]>=4.18.0->jupyter-events>=0.9.0->jupyter-server<3,>=2.4.0->notebook>=4.4.1->widgetsnbextension~=3.6.6->ipywidgets>=7.0.0->optmwidgets) (1.2.3)\n",
      "Note: you may need to restart the kernel to use updated packages.\n"
     ]
    }
   ],
   "source": [
    "# # Run this setup script first\n",
    "# try: # to work in colab\n",
    "#     import google.colab\n",
    "#     google.colab.output.enable_custom_widget_manager()\n",
    "#     %pip install optmwidgets &> /dev/null\n",
    "# except ModuleNotFoundError:\n",
    "#     pass # okay not to be in colab\n",
    "%pip install optmwidgets\n",
    "%reload_ext optmwidgets"
   ]
  },
  {
   "cell_type": "markdown",
   "metadata": {
    "user_expressions": []
   },
   "source": [
    "### JSXGraph"
   ]
  },
  {
   "cell_type": "markdown",
   "metadata": {
    "user_expressions": []
   },
   "source": [
    "[JSXGraph](https://jsxgraph.org/) can be rendered using the following magic:"
   ]
  },
  {
   "cell_type": "code",
   "execution_count": 2,
   "metadata": {
    "ExecuteTime": {
     "end_time": "2022-07-27T05:15:40.986821Z",
     "start_time": "2022-07-27T05:15:40.971531Z"
    }
   },
   "outputs": [
    {
     "data": {
      "text/plain": [
       "\u001b[0;31mDocstring:\u001b[0m\n",
       "::\n",
       "\n",
       "  %jsxgraph [-w WIDTH] [-i ID] [-h HEIGHT] [-m MATHJAX_URL]\n",
       "\n",
       "Run the cell block of JSXGraph Code.\n",
       "\n",
       "options:\n",
       "  -w WIDTH, --width WIDTH\n",
       "                        The width of the output frame (default: 600).\n",
       "  -i ID, --id ID        id of a <div> element for embeding the board.\n",
       "  -h HEIGHT, --height HEIGHT\n",
       "                        The height of the output frame (default: 600).\n",
       "  -m MATHJAX_URL, --mathjax_url MATHJAX_URL\n",
       "                        Absolute/relative url of the javascript file in\n",
       "                        loading mathjax.\n",
       "\u001b[0;31mFile:\u001b[0m      /opt/homebrew/anaconda3/lib/python3.12/site-packages/optmwidgets/magic.py"
      ]
     },
     "metadata": {},
     "output_type": "display_data"
    }
   ],
   "source": [
    "%%jsxgraph?"
   ]
  },
  {
   "cell_type": "code",
   "execution_count": 3,
   "metadata": {
    "ExecuteTime": {
     "end_time": "2022-07-27T05:15:45.266330Z",
     "start_time": "2022-07-27T05:15:41.926643Z"
    },
    "tags": []
   },
   "outputs": [
    {
     "data": {
      "application/vnd.jupyter.widget-view+json": {
       "model_id": "edb3a75df9834ad5bbf13202fc44843a",
       "version_major": 2,
       "version_minor": 0
      },
      "text/plain": [
       "JSWidget(value=None, height=600, html='<!DOCTYPE html>\\n<html>\\n    <head>\\n    <style>\\n    html, body {\\n   …"
      ]
     },
     "metadata": {},
     "output_type": "display_data"
    }
   ],
   "source": [
    "%%jsxgraph\n",
    "JXG.Options.text.useMathJax = true;\n",
    "var brd = JXG.JSXGraph.initBoard('box', {\n",
    "    boundingbox: [-8, 8, 8, -4],\n",
    "    axis: true,\n",
    "    showCopyright: false\n",
    "});\n",
    "var a = brd.create('slider', [\n",
    "    [3, 3],\n",
    "    [6, 3],\n",
    "    [-3, 1, 3]\n",
    "], {\n",
    "    name: 'a',\n",
    "    snapWidth: 0.1\n",
    "});\n",
    "var b = brd.create('slider', [\n",
    "    [3, 2],\n",
    "    [6, 2],\n",
    "    [-3, 0, 3]\n",
    "], {\n",
    "    name: 'b',\n",
    "    snapWidth: 0.1\n",
    "});\n",
    "var c = brd.create('slider', [\n",
    "    [3, 1],\n",
    "    [6, 1],\n",
    "    [-3, 0, 3]\n",
    "], {\n",
    "    name: 'c',\n",
    "    snapWidth: 0.1\n",
    "});\n",
    "brd.create('functiongraph', [function(x) {\n",
    "    return a.Value() * x * x + b.Value() * x + c.Value();\n",
    "}, -10, 10]);\n",
    "brd.create('text',\n",
    "    [-2, 0,\n",
    "        function() {\n",
    "            return String.raw`\n",
    "              \\begin{align*} \n",
    "              y&=ax^2+bx+c\\\\ \n",
    "               &= ${a.Value().toFixed(2)}x^2 \n",
    "                + ${b.Value().toFixed(2)}x \n",
    "                + ${c.Value().toFixed(2)}\n",
    "              \\end{align*}`;\n",
    "        }\n",
    "    ], {\n",
    "        anchorX: 'right',\n",
    "        anchorY: 'bottom'\n",
    "    });"
   ]
  },
  {
   "cell_type": "markdown",
   "metadata": {
    "user_expressions": []
   },
   "source": [
    "The rendering can be customized with additional arguments:"
   ]
  },
  {
   "cell_type": "code",
   "execution_count": 4,
   "metadata": {},
   "outputs": [
    {
     "data": {
      "application/vnd.jupyter.widget-view+json": {
       "model_id": "2e9dbe22a46f40609a190f5f4f9e3639",
       "version_major": 2,
       "version_minor": 0
      },
      "text/plain": [
       "JSWidget(value=None, height=200, html='<!DOCTYPE html>\\n<html>\\n    <head>\\n    <style>\\n    html, body {\\n   …"
      ]
     },
     "metadata": {},
     "output_type": "display_data"
    }
   ],
   "source": [
    "%%jsxgraph -i jxgbox -h 200 --width=600 -m https://www.cs.cityu.edu.hk/~ccha23/js/load-mathjax.js\n",
    "JXG.Options.text.useMathJax = true;\n",
    "const brd = JXG.JSXGraph.initBoard('jxgbox', {\n",
    "    boundingbox: [-8, 8, 8, -4],\n",
    "    axis: true,\n",
    "    showCopyright: false\n",
    "});\n",
    "const a = brd.create('slider', [\n",
    "    [3, 3],\n",
    "    [6, 3],\n",
    "    [-3, 1, 3]\n",
    "], {\n",
    "    name: 'a',\n",
    "    snapWidth: 0.1\n",
    "});\n",
    "const b = brd.create('slider', [\n",
    "    [3, 2],\n",
    "    [6, 2],\n",
    "    [-3, 0, 3]\n",
    "], {\n",
    "    name: 'b',\n",
    "    snapWidth: 0.1\n",
    "});\n",
    "const c = brd.create('slider', [\n",
    "    [3, 1],\n",
    "    [6, 1],\n",
    "    [-3, 0, 3]\n",
    "], {\n",
    "    name: 'c',\n",
    "    snapWidth: 0.1\n",
    "});\n",
    "brd.create('functiongraph', [function(x) {\n",
    "    return a.Value() * x * x + b.Value() * x + c.Value();\n",
    "}, -10, 10]);\n",
    "brd.create('text',\n",
    "    [-1, -1,\n",
    "        function() {\n",
    "            return String.raw`\n",
    "              \\begin{empheq}[left={\\text{Parabola} \\empheqlbrace}]{align}\n",
    "              y&=ax^2+bx+c\\tag{1}\\\\ \n",
    "               &= ${a.Value().toFixed(2)}x^2 \n",
    "                + ${b.Value().toFixed(2)}x \n",
    "                + ${c.Value().toFixed(2)} \\tag{2}\n",
    "              \\end{empheq}`;\n",
    "        }\n",
    "    ], {\n",
    "        anchorX: 'right',\n",
    "        anchorY: 'top'\n",
    "    });"
   ]
  },
  {
   "cell_type": "markdown",
   "metadata": {
    "user_expressions": []
   },
   "source": [
    "The above typesets the label using [a custom configuration of mathjax3](https://www.cs.cityu.edu.hk/~ccha23/js/load-mathjax.js)."
   ]
  },
  {
   "cell_type": "markdown",
   "metadata": {
    "user_expressions": []
   },
   "source": [
    "Try the following:\n",
    "- Click `show code` to show the javascript and html code used to generate the JSXGraph. \n",
    "- Modify the javascript code under the `JS` panel or the html code uner the `HTML` panel. \n",
    "- Click `run code` or `Ctrl-R` while the cursor remains in the editor. You can see the JSXGraph refreshed according to your change.\n",
    "- Execute the following to save the result into `dw`."
   ]
  },
  {
   "cell_type": "code",
   "execution_count": 5,
   "metadata": {},
   "outputs": [],
   "source": [
    "dw = _"
   ]
  },
  {
   "cell_type": "markdown",
   "metadata": {
    "user_expressions": []
   },
   "source": [
    "The JSXGraph is implemented as a `ipywidget` called `JSWidget`, so the code can be stored as model attributes."
   ]
  },
  {
   "cell_type": "code",
   "execution_count": 6,
   "metadata": {},
   "outputs": [
    {
     "data": {
      "text/plain": [
       "\u001b[0;31mType:\u001b[0m        str\n",
       "\u001b[0;31mString form:\u001b[0m []\n",
       "\u001b[0;31mLength:\u001b[0m      2\n",
       "\u001b[0;31mDocstring:\u001b[0m  \n",
       "str(object='') -> str\n",
       "str(bytes_or_buffer[, encoding[, errors]]) -> str\n",
       "\n",
       "Create a new string object from the given object. If encoding or\n",
       "errors is specified, then the object must expose a data buffer\n",
       "that will be decoded using the given encoding and error handler.\n",
       "Otherwise, returns the result of object.__str__() (if defined)\n",
       "or repr(object).\n",
       "encoding defaults to sys.getdefaultencoding().\n",
       "errors defaults to 'strict'."
      ]
     },
     "metadata": {},
     "output_type": "display_data"
    }
   ],
   "source": [
    "dw?"
   ]
  },
  {
   "cell_type": "markdown",
   "metadata": {
    "user_expressions": []
   },
   "source": [
    "To have your modifications persist after the notebook closes, you can save the notebook after choosing `Save Widget State Automatically` under `Settings`. Alternatively, copy the `javascript` and `html` attributes from the `DIVEWidget`."
   ]
  },
  {
   "cell_type": "code",
   "execution_count": 7,
   "metadata": {},
   "outputs": [
    {
     "ename": "AttributeError",
     "evalue": "'str' object has no attribute 'js'",
     "output_type": "error",
     "traceback": [
      "\u001b[0;31m---------------------------------------------------------------------------\u001b[0m",
      "\u001b[0;31mAttributeError\u001b[0m                            Traceback (most recent call last)",
      "Cell \u001b[0;32mIn[7], line 1\u001b[0m\n\u001b[0;32m----> 1\u001b[0m \u001b[38;5;28mprint\u001b[39m(dw\u001b[38;5;241m.\u001b[39mjs)\n",
      "\u001b[0;31mAttributeError\u001b[0m: 'str' object has no attribute 'js'"
     ]
    }
   ],
   "source": [
    "print(dw.js)"
   ]
  },
  {
   "cell_type": "code",
   "execution_count": 8,
   "metadata": {},
   "outputs": [
    {
     "ename": "AttributeError",
     "evalue": "'str' object has no attribute 'html'",
     "output_type": "error",
     "traceback": [
      "\u001b[0;31m---------------------------------------------------------------------------\u001b[0m",
      "\u001b[0;31mAttributeError\u001b[0m                            Traceback (most recent call last)",
      "Cell \u001b[0;32mIn[8], line 1\u001b[0m\n\u001b[0;32m----> 1\u001b[0m \u001b[38;5;28mprint\u001b[39m(dw\u001b[38;5;241m.\u001b[39mhtml)\n",
      "\u001b[0;31mAttributeError\u001b[0m: 'str' object has no attribute 'html'"
     ]
    }
   ],
   "source": [
    "print(dw.html)"
   ]
  },
  {
   "cell_type": "markdown",
   "metadata": {
    "user_expressions": []
   },
   "source": [
    "## Other JS rendered graphs"
   ]
  },
  {
   "cell_type": "markdown",
   "metadata": {
    "user_expressions": []
   },
   "source": [
    "### Mermaid"
   ]
  },
  {
   "cell_type": "code",
   "execution_count": 28,
   "metadata": {},
   "outputs": [
    {
     "data": {
      "text/plain": [
       "\u001b[0;31mDocstring:\u001b[0m\n",
       "Run the cell block of MermaidJS code.\n",
       "        \n",
       "\u001b[0;31mFile:\u001b[0m      /opt/homebrew/anaconda3/lib/python3.12/site-packages/optmwidgets/magic.py"
      ]
     },
     "metadata": {},
     "output_type": "display_data"
    }
   ],
   "source": [
    "%%mermaid?"
   ]
  },
  {
   "cell_type": "code",
   "execution_count": 29,
   "metadata": {},
   "outputs": [
    {
     "data": {
      "application/vnd.jupyter.widget-view+json": {
       "model_id": "c4f93eac383840998f8793b55fea5e57",
       "version_major": 2,
       "version_minor": 0
      },
      "text/plain": [
       "JSWidget(value=None, html='<!DOCTYPE html>\\n<html>\\n<head>\\n  <script src=\"https://cdn.jsdelivr.net/npm/mermai…"
      ]
     },
     "metadata": {},
     "output_type": "display_data"
    }
   ],
   "source": [
    "%%mermaid\n",
    "graph TD \n",
    "A[a] --> B[b] \n",
    "B --> C[c] \n",
    "B --> D[d]"
   ]
  },
  {
   "cell_type": "markdown",
   "metadata": {
    "user_expressions": []
   },
   "source": [
    "### Flow"
   ]
  },
  {
   "cell_type": "code",
   "execution_count": 30,
   "metadata": {},
   "outputs": [
    {
     "data": {
      "text/plain": [
       "\u001b[0;31mDocstring:\u001b[0m\n",
       "Run the cell block of FlowchartJS code.\n",
       "        \n",
       "\u001b[0;31mFile:\u001b[0m      /opt/homebrew/anaconda3/lib/python3.12/site-packages/optmwidgets/magic.py"
      ]
     },
     "metadata": {},
     "output_type": "display_data"
    }
   ],
   "source": [
    "%%flowchart?"
   ]
  },
  {
   "cell_type": "code",
   "execution_count": 31,
   "metadata": {},
   "outputs": [
    {
     "data": {
      "application/vnd.jupyter.widget-view+json": {
       "model_id": "64bd538c7dd4404c92766ae676b15863",
       "version_major": 2,
       "version_minor": 0
      },
      "text/plain": [
       "JSWidget(value=None, html='<!DOCTYPE html>\\n<html>\\n<head>\\n  <script src=\"https://cdnjs.cloudflare.com/ajax/l…"
      ]
     },
     "metadata": {},
     "output_type": "display_data"
    }
   ],
   "source": [
    "%%flowchart\n",
    "cond3=>condition: if (not input(1))\n",
    "cond8=>condition: if input(2)\n",
    "sub12=>subroutine: input(3)\n",
    "\n",
    "cond3(yes)->cond8\n",
    "cond8(yes)->sub12"
   ]
  },
  {
   "cell_type": "markdown",
   "metadata": {},
   "source": [
    "## Python Programming Visualization"
   ]
  },
  {
   "cell_type": "markdown",
   "metadata": {},
   "source": [
    "We can visualize step-by-step execution using the following magic."
   ]
  },
  {
   "cell_type": "code",
   "execution_count": 9,
   "metadata": {},
   "outputs": [
    {
     "data": {
      "text/plain": [
       "\u001b[0;31mDocstring:\u001b[0m\n",
       "::\n",
       "\n",
       "  %optm [-w WIDTH] [-r] [-l] [-h HEIGHT]\n",
       "\n",
       "Visualize the cell block of Python code with the serverless OPT Mentor.\n",
       "\n",
       "options:\n",
       "  -w WIDTH, --width WIDTH\n",
       "                        The width of the output frame (default: 1100).\n",
       "  -r, --run             Run cell in IPython.\n",
       "  -l, --live            Live edit mode.\n",
       "  -h HEIGHT, --height HEIGHT\n",
       "                        The height of the output frame (default: 700).\n",
       "\u001b[0;31mFile:\u001b[0m      /opt/homebrew/anaconda3/lib/python3.12/site-packages/optmwidgets/magic.py"
      ]
     },
     "metadata": {},
     "output_type": "display_data"
    }
   ],
   "source": [
    "%%optm?"
   ]
  },
  {
   "cell_type": "code",
   "execution_count": 12,
   "metadata": {},
   "outputs": [
    {
     "data": {
      "application/vnd.jupyter.widget-view+json": {
       "model_id": "15d34d0d48d5496f9acd5a85f30e3715",
       "version_major": 2,
       "version_minor": 0
      },
      "text/plain": [
       "OPTMWidget(value=None, script=\"msg = 'Hello, World!'\\nprint(msg)\\n\", srcprefix='https://dive4dec.github.io/opt…"
      ]
     },
     "metadata": {},
     "output_type": "display_data"
    }
   ],
   "source": [
    "%%optm -l\n",
    "msg = 'Hello, World!'\n",
    "print(msg)"
   ]
  },
  {
   "cell_type": "markdown",
   "metadata": {},
   "source": [
    "Note that the python script is not run by the jupyter kernel. Instead, it is run by the browser with [OPTLite (Online Python Tutor Lite)](https://github.com/dive4dec/optlite)."
   ]
  },
  {
   "cell_type": "code",
   "execution_count": 10,
   "metadata": {},
   "outputs": [
    {
     "data": {
      "application/vnd.jupyter.widget-view+json": {
       "model_id": "770663f898e24562a7a925b12e1f14cf",
       "version_major": 2,
       "version_minor": 0
      },
      "text/plain": [
       "OPTMWidget(value=None, script=\"msg = 'Hello, World!'\\nprint(msg)\\n\", srcprefix='https://dive4dec.github.io/opt…"
      ]
     },
     "metadata": {},
     "output_type": "display_data"
    }
   ],
   "source": [
    "%%optm -l\n",
    "msg = 'Hello, World!'\n",
    "print(msg)"
   ]
  },
  {
   "cell_type": "markdown",
   "metadata": {},
   "source": [
    "There are additional options to run the cell in IPython enable, and enable the live edit mode."
   ]
  },
  {
   "cell_type": "code",
   "execution_count": 19,
   "metadata": {},
   "outputs": [
    {
     "data": {
      "text/plain": [
       "6"
      ]
     },
     "execution_count": 19,
     "metadata": {},
     "output_type": "execute_result"
    },
    {
     "data": {
      "application/vnd.jupyter.widget-view+json": {
       "model_id": "4c9945f950194f43b7c7298561557823",
       "version_major": 2,
       "version_minor": 0
      },
      "text/plain": [
       "OPTMWidget(value=None, height=400, script='def f(n):\\n    return n*f(n-1) if n>1 else 1\\n\\nf(3)\\n', srcprefix=…"
      ]
     },
     "metadata": {},
     "output_type": "display_data"
    }
   ],
   "source": [
    "%%optm -rl -h 400\n",
    "def f(n):\n",
    "    return n*f(n-1) if n>1 else 1\n",
    "\n",
    "f(3)"
   ]
  },
  {
   "cell_type": "code",
   "execution_count": 1,
   "metadata": {},
   "outputs": [
    {
     "name": "stdout",
     "output_type": "stream",
     "text": [
      "Requirement already satisfied: jupyter-optmwidgets in /opt/homebrew/anaconda3/envs/divewidgets-dev/lib/python3.13/site-packages (0.1.1)\n",
      "Requirement already satisfied: jupyterlab<4,>=3 in /opt/homebrew/anaconda3/envs/divewidgets-dev/lib/python3.13/site-packages (from jupyter-optmwidgets) (3.6.8)\n",
      "Requirement already satisfied: ipython in /opt/homebrew/anaconda3/envs/divewidgets-dev/lib/python3.13/site-packages (from jupyterlab<4,>=3->jupyter-optmwidgets) (8.32.0)\n",
      "Requirement already satisfied: packaging in /opt/homebrew/anaconda3/envs/divewidgets-dev/lib/python3.13/site-packages (from jupyterlab<4,>=3->jupyter-optmwidgets) (24.2)\n",
      "Requirement already satisfied: tornado>=6.1.0 in /opt/homebrew/anaconda3/envs/divewidgets-dev/lib/python3.13/site-packages (from jupyterlab<4,>=3->jupyter-optmwidgets) (6.4.2)\n",
      "Requirement already satisfied: jupyter-core in /opt/homebrew/anaconda3/envs/divewidgets-dev/lib/python3.13/site-packages (from jupyterlab<4,>=3->jupyter-optmwidgets) (5.7.2)\n",
      "Requirement already satisfied: jupyterlab-server~=2.19 in /opt/homebrew/anaconda3/envs/divewidgets-dev/lib/python3.13/site-packages (from jupyterlab<4,>=3->jupyter-optmwidgets) (2.27.3)\n",
      "Requirement already satisfied: jupyter-server<3,>=1.16.0 in /opt/homebrew/anaconda3/envs/divewidgets-dev/lib/python3.13/site-packages (from jupyterlab<4,>=3->jupyter-optmwidgets) (2.15.0)\n",
      "Requirement already satisfied: jupyter-ydoc~=0.2.4 in /opt/homebrew/anaconda3/envs/divewidgets-dev/lib/python3.13/site-packages (from jupyterlab<4,>=3->jupyter-optmwidgets) (0.2.5)\n",
      "Requirement already satisfied: jupyter-server-ydoc~=0.8.0 in /opt/homebrew/anaconda3/envs/divewidgets-dev/lib/python3.13/site-packages (from jupyterlab<4,>=3->jupyter-optmwidgets) (0.8.0)\n",
      "Requirement already satisfied: nbclassic in /opt/homebrew/anaconda3/envs/divewidgets-dev/lib/python3.13/site-packages (from jupyterlab<4,>=3->jupyter-optmwidgets) (1.2.0)\n",
      "Requirement already satisfied: notebook<7 in /opt/homebrew/anaconda3/envs/divewidgets-dev/lib/python3.13/site-packages (from jupyterlab<4,>=3->jupyter-optmwidgets) (6.5.7)\n",
      "Requirement already satisfied: jinja2>=2.1 in /opt/homebrew/anaconda3/envs/divewidgets-dev/lib/python3.13/site-packages (from jupyterlab<4,>=3->jupyter-optmwidgets) (3.1.5)\n",
      "Requirement already satisfied: MarkupSafe>=2.0 in /opt/homebrew/anaconda3/envs/divewidgets-dev/lib/python3.13/site-packages (from jinja2>=2.1->jupyterlab<4,>=3->jupyter-optmwidgets) (3.0.2)\n",
      "Requirement already satisfied: anyio>=3.1.0 in /opt/homebrew/anaconda3/envs/divewidgets-dev/lib/python3.13/site-packages (from jupyter-server<3,>=1.16.0->jupyterlab<4,>=3->jupyter-optmwidgets) (4.8.0)\n",
      "Requirement already satisfied: argon2-cffi>=21.1 in /opt/homebrew/anaconda3/envs/divewidgets-dev/lib/python3.13/site-packages (from jupyter-server<3,>=1.16.0->jupyterlab<4,>=3->jupyter-optmwidgets) (23.1.0)\n",
      "Requirement already satisfied: jupyter-client>=7.4.4 in /opt/homebrew/anaconda3/envs/divewidgets-dev/lib/python3.13/site-packages (from jupyter-server<3,>=1.16.0->jupyterlab<4,>=3->jupyter-optmwidgets) (7.4.9)\n",
      "Requirement already satisfied: jupyter-events>=0.11.0 in /opt/homebrew/anaconda3/envs/divewidgets-dev/lib/python3.13/site-packages (from jupyter-server<3,>=1.16.0->jupyterlab<4,>=3->jupyter-optmwidgets) (0.11.0)\n",
      "Requirement already satisfied: jupyter-server-terminals>=0.4.4 in /opt/homebrew/anaconda3/envs/divewidgets-dev/lib/python3.13/site-packages (from jupyter-server<3,>=1.16.0->jupyterlab<4,>=3->jupyter-optmwidgets) (0.5.3)\n",
      "Requirement already satisfied: nbconvert>=6.4.4 in /opt/homebrew/anaconda3/envs/divewidgets-dev/lib/python3.13/site-packages (from jupyter-server<3,>=1.16.0->jupyterlab<4,>=3->jupyter-optmwidgets) (7.16.6)\n",
      "Requirement already satisfied: nbformat>=5.3.0 in /opt/homebrew/anaconda3/envs/divewidgets-dev/lib/python3.13/site-packages (from jupyter-server<3,>=1.16.0->jupyterlab<4,>=3->jupyter-optmwidgets) (5.10.4)\n",
      "Requirement already satisfied: overrides>=5.0 in /opt/homebrew/anaconda3/envs/divewidgets-dev/lib/python3.13/site-packages (from jupyter-server<3,>=1.16.0->jupyterlab<4,>=3->jupyter-optmwidgets) (7.7.0)\n",
      "Requirement already satisfied: prometheus-client>=0.9 in /opt/homebrew/anaconda3/envs/divewidgets-dev/lib/python3.13/site-packages (from jupyter-server<3,>=1.16.0->jupyterlab<4,>=3->jupyter-optmwidgets) (0.21.1)\n",
      "Requirement already satisfied: pyzmq>=24 in /opt/homebrew/anaconda3/envs/divewidgets-dev/lib/python3.13/site-packages (from jupyter-server<3,>=1.16.0->jupyterlab<4,>=3->jupyter-optmwidgets) (26.2.1)\n",
      "Requirement already satisfied: send2trash>=1.8.2 in /opt/homebrew/anaconda3/envs/divewidgets-dev/lib/python3.13/site-packages (from jupyter-server<3,>=1.16.0->jupyterlab<4,>=3->jupyter-optmwidgets) (1.8.3)\n",
      "Requirement already satisfied: terminado>=0.8.3 in /opt/homebrew/anaconda3/envs/divewidgets-dev/lib/python3.13/site-packages (from jupyter-server<3,>=1.16.0->jupyterlab<4,>=3->jupyter-optmwidgets) (0.18.1)\n",
      "Requirement already satisfied: traitlets>=5.6.0 in /opt/homebrew/anaconda3/envs/divewidgets-dev/lib/python3.13/site-packages (from jupyter-server<3,>=1.16.0->jupyterlab<4,>=3->jupyter-optmwidgets) (5.14.3)\n",
      "Requirement already satisfied: websocket-client>=1.7 in /opt/homebrew/anaconda3/envs/divewidgets-dev/lib/python3.13/site-packages (from jupyter-server<3,>=1.16.0->jupyterlab<4,>=3->jupyter-optmwidgets) (1.8.0)\n",
      "Requirement already satisfied: platformdirs>=2.5 in /opt/homebrew/anaconda3/envs/divewidgets-dev/lib/python3.13/site-packages (from jupyter-core->jupyterlab<4,>=3->jupyter-optmwidgets) (4.3.6)\n",
      "Requirement already satisfied: jupyter-server-fileid<1,>=0.6.0 in /opt/homebrew/anaconda3/envs/divewidgets-dev/lib/python3.13/site-packages (from jupyter-server-ydoc~=0.8.0->jupyterlab<4,>=3->jupyter-optmwidgets) (0.9.3)\n",
      "Requirement already satisfied: ypy-websocket<0.9.0,>=0.8.2 in /opt/homebrew/anaconda3/envs/divewidgets-dev/lib/python3.13/site-packages (from jupyter-server-ydoc~=0.8.0->jupyterlab<4,>=3->jupyter-optmwidgets) (0.8.4)\n",
      "Requirement already satisfied: y-py<0.7.0,>=0.6.0 in /opt/homebrew/anaconda3/envs/divewidgets-dev/lib/python3.13/site-packages (from jupyter-ydoc~=0.2.4->jupyterlab<4,>=3->jupyter-optmwidgets) (0.6.2)\n",
      "Requirement already satisfied: babel>=2.10 in /opt/homebrew/anaconda3/envs/divewidgets-dev/lib/python3.13/site-packages (from jupyterlab-server~=2.19->jupyterlab<4,>=3->jupyter-optmwidgets) (2.17.0)\n",
      "Requirement already satisfied: json5>=0.9.0 in /opt/homebrew/anaconda3/envs/divewidgets-dev/lib/python3.13/site-packages (from jupyterlab-server~=2.19->jupyterlab<4,>=3->jupyter-optmwidgets) (0.10.0)\n",
      "Requirement already satisfied: jsonschema>=4.18.0 in /opt/homebrew/anaconda3/envs/divewidgets-dev/lib/python3.13/site-packages (from jupyterlab-server~=2.19->jupyterlab<4,>=3->jupyter-optmwidgets) (4.23.0)\n",
      "Requirement already satisfied: requests>=2.31 in /opt/homebrew/anaconda3/envs/divewidgets-dev/lib/python3.13/site-packages (from jupyterlab-server~=2.19->jupyterlab<4,>=3->jupyter-optmwidgets) (2.32.3)\n",
      "Requirement already satisfied: ipython-genutils in /opt/homebrew/anaconda3/envs/divewidgets-dev/lib/python3.13/site-packages (from notebook<7->jupyterlab<4,>=3->jupyter-optmwidgets) (0.2.0)\n",
      "Requirement already satisfied: nest-asyncio>=1.5 in /opt/homebrew/anaconda3/envs/divewidgets-dev/lib/python3.13/site-packages (from notebook<7->jupyterlab<4,>=3->jupyter-optmwidgets) (1.6.0)\n",
      "Requirement already satisfied: ipykernel in /opt/homebrew/anaconda3/envs/divewidgets-dev/lib/python3.13/site-packages (from notebook<7->jupyterlab<4,>=3->jupyter-optmwidgets) (6.29.5)\n",
      "Requirement already satisfied: notebook_shim>=0.2.3 in /opt/homebrew/anaconda3/envs/divewidgets-dev/lib/python3.13/site-packages (from nbclassic->jupyterlab<4,>=3->jupyter-optmwidgets) (0.2.4)\n",
      "Requirement already satisfied: decorator in /opt/homebrew/anaconda3/envs/divewidgets-dev/lib/python3.13/site-packages (from ipython->jupyterlab<4,>=3->jupyter-optmwidgets) (5.1.1)\n",
      "Requirement already satisfied: jedi>=0.16 in /opt/homebrew/anaconda3/envs/divewidgets-dev/lib/python3.13/site-packages (from ipython->jupyterlab<4,>=3->jupyter-optmwidgets) (0.19.2)\n",
      "Requirement already satisfied: matplotlib-inline in /opt/homebrew/anaconda3/envs/divewidgets-dev/lib/python3.13/site-packages (from ipython->jupyterlab<4,>=3->jupyter-optmwidgets) (0.1.7)\n",
      "Requirement already satisfied: pexpect>4.3 in /opt/homebrew/anaconda3/envs/divewidgets-dev/lib/python3.13/site-packages (from ipython->jupyterlab<4,>=3->jupyter-optmwidgets) (4.9.0)\n",
      "Requirement already satisfied: prompt_toolkit<3.1.0,>=3.0.41 in /opt/homebrew/anaconda3/envs/divewidgets-dev/lib/python3.13/site-packages (from ipython->jupyterlab<4,>=3->jupyter-optmwidgets) (3.0.50)\n",
      "Requirement already satisfied: pygments>=2.4.0 in /opt/homebrew/anaconda3/envs/divewidgets-dev/lib/python3.13/site-packages (from ipython->jupyterlab<4,>=3->jupyter-optmwidgets) (2.19.1)\n",
      "Requirement already satisfied: stack_data in /opt/homebrew/anaconda3/envs/divewidgets-dev/lib/python3.13/site-packages (from ipython->jupyterlab<4,>=3->jupyter-optmwidgets) (0.6.3)\n",
      "Requirement already satisfied: idna>=2.8 in /opt/homebrew/anaconda3/envs/divewidgets-dev/lib/python3.13/site-packages (from anyio>=3.1.0->jupyter-server<3,>=1.16.0->jupyterlab<4,>=3->jupyter-optmwidgets) (3.10)\n",
      "Requirement already satisfied: sniffio>=1.1 in /opt/homebrew/anaconda3/envs/divewidgets-dev/lib/python3.13/site-packages (from anyio>=3.1.0->jupyter-server<3,>=1.16.0->jupyterlab<4,>=3->jupyter-optmwidgets) (1.3.1)\n",
      "Requirement already satisfied: argon2-cffi-bindings in /opt/homebrew/anaconda3/envs/divewidgets-dev/lib/python3.13/site-packages (from argon2-cffi>=21.1->jupyter-server<3,>=1.16.0->jupyterlab<4,>=3->jupyter-optmwidgets) (21.2.0)\n",
      "Requirement already satisfied: parso<0.9.0,>=0.8.4 in /opt/homebrew/anaconda3/envs/divewidgets-dev/lib/python3.13/site-packages (from jedi>=0.16->ipython->jupyterlab<4,>=3->jupyter-optmwidgets) (0.8.4)\n",
      "Requirement already satisfied: attrs>=22.2.0 in /opt/homebrew/anaconda3/envs/divewidgets-dev/lib/python3.13/site-packages (from jsonschema>=4.18.0->jupyterlab-server~=2.19->jupyterlab<4,>=3->jupyter-optmwidgets) (25.1.0)\n",
      "Requirement already satisfied: jsonschema-specifications>=2023.03.6 in /opt/homebrew/anaconda3/envs/divewidgets-dev/lib/python3.13/site-packages (from jsonschema>=4.18.0->jupyterlab-server~=2.19->jupyterlab<4,>=3->jupyter-optmwidgets) (2024.10.1)\n",
      "Requirement already satisfied: referencing>=0.28.4 in /opt/homebrew/anaconda3/envs/divewidgets-dev/lib/python3.13/site-packages (from jsonschema>=4.18.0->jupyterlab-server~=2.19->jupyterlab<4,>=3->jupyter-optmwidgets) (0.36.2)\n",
      "Requirement already satisfied: rpds-py>=0.7.1 in /opt/homebrew/anaconda3/envs/divewidgets-dev/lib/python3.13/site-packages (from jsonschema>=4.18.0->jupyterlab-server~=2.19->jupyterlab<4,>=3->jupyter-optmwidgets) (0.22.3)\n",
      "Requirement already satisfied: entrypoints in /opt/homebrew/anaconda3/envs/divewidgets-dev/lib/python3.13/site-packages (from jupyter-client>=7.4.4->jupyter-server<3,>=1.16.0->jupyterlab<4,>=3->jupyter-optmwidgets) (0.4)\n",
      "Requirement already satisfied: python-dateutil>=2.8.2 in /opt/homebrew/anaconda3/envs/divewidgets-dev/lib/python3.13/site-packages (from jupyter-client>=7.4.4->jupyter-server<3,>=1.16.0->jupyterlab<4,>=3->jupyter-optmwidgets) (2.9.0.post0)\n",
      "Requirement already satisfied: python-json-logger>=2.0.4 in /opt/homebrew/anaconda3/envs/divewidgets-dev/lib/python3.13/site-packages (from jupyter-events>=0.11.0->jupyter-server<3,>=1.16.0->jupyterlab<4,>=3->jupyter-optmwidgets) (2.0.7)\n",
      "Requirement already satisfied: pyyaml>=5.3 in /opt/homebrew/anaconda3/envs/divewidgets-dev/lib/python3.13/site-packages (from jupyter-events>=0.11.0->jupyter-server<3,>=1.16.0->jupyterlab<4,>=3->jupyter-optmwidgets) (6.0.2)\n",
      "Requirement already satisfied: rfc3339-validator in /opt/homebrew/anaconda3/envs/divewidgets-dev/lib/python3.13/site-packages (from jupyter-events>=0.11.0->jupyter-server<3,>=1.16.0->jupyterlab<4,>=3->jupyter-optmwidgets) (0.1.4)\n",
      "Requirement already satisfied: rfc3986-validator>=0.1.1 in /opt/homebrew/anaconda3/envs/divewidgets-dev/lib/python3.13/site-packages (from jupyter-events>=0.11.0->jupyter-server<3,>=1.16.0->jupyterlab<4,>=3->jupyter-optmwidgets) (0.1.1)\n",
      "Requirement already satisfied: beautifulsoup4 in /opt/homebrew/anaconda3/envs/divewidgets-dev/lib/python3.13/site-packages (from nbconvert>=6.4.4->jupyter-server<3,>=1.16.0->jupyterlab<4,>=3->jupyter-optmwidgets) (4.13.2)\n",
      "Requirement already satisfied: bleach!=5.0.0 in /opt/homebrew/anaconda3/envs/divewidgets-dev/lib/python3.13/site-packages (from bleach[css]!=5.0.0->nbconvert>=6.4.4->jupyter-server<3,>=1.16.0->jupyterlab<4,>=3->jupyter-optmwidgets) (6.2.0)\n",
      "Requirement already satisfied: defusedxml in /opt/homebrew/anaconda3/envs/divewidgets-dev/lib/python3.13/site-packages (from nbconvert>=6.4.4->jupyter-server<3,>=1.16.0->jupyterlab<4,>=3->jupyter-optmwidgets) (0.7.1)\n",
      "Requirement already satisfied: jupyterlab-pygments in /opt/homebrew/anaconda3/envs/divewidgets-dev/lib/python3.13/site-packages (from nbconvert>=6.4.4->jupyter-server<3,>=1.16.0->jupyterlab<4,>=3->jupyter-optmwidgets) (0.3.0)\n",
      "Requirement already satisfied: mistune<4,>=2.0.3 in /opt/homebrew/anaconda3/envs/divewidgets-dev/lib/python3.13/site-packages (from nbconvert>=6.4.4->jupyter-server<3,>=1.16.0->jupyterlab<4,>=3->jupyter-optmwidgets) (3.1.1)\n",
      "Requirement already satisfied: nbclient>=0.5.0 in /opt/homebrew/anaconda3/envs/divewidgets-dev/lib/python3.13/site-packages (from nbconvert>=6.4.4->jupyter-server<3,>=1.16.0->jupyterlab<4,>=3->jupyter-optmwidgets) (0.10.2)\n",
      "Requirement already satisfied: pandocfilters>=1.4.1 in /opt/homebrew/anaconda3/envs/divewidgets-dev/lib/python3.13/site-packages (from nbconvert>=6.4.4->jupyter-server<3,>=1.16.0->jupyterlab<4,>=3->jupyter-optmwidgets) (1.5.0)\n",
      "Requirement already satisfied: fastjsonschema>=2.15 in /opt/homebrew/anaconda3/envs/divewidgets-dev/lib/python3.13/site-packages (from nbformat>=5.3.0->jupyter-server<3,>=1.16.0->jupyterlab<4,>=3->jupyter-optmwidgets) (2.21.1)\n",
      "Requirement already satisfied: ptyprocess>=0.5 in /opt/homebrew/anaconda3/envs/divewidgets-dev/lib/python3.13/site-packages (from pexpect>4.3->ipython->jupyterlab<4,>=3->jupyter-optmwidgets) (0.7.0)\n",
      "Requirement already satisfied: wcwidth in /opt/homebrew/anaconda3/envs/divewidgets-dev/lib/python3.13/site-packages (from prompt_toolkit<3.1.0,>=3.0.41->ipython->jupyterlab<4,>=3->jupyter-optmwidgets) (0.2.13)\n",
      "Requirement already satisfied: charset_normalizer<4,>=2 in /opt/homebrew/anaconda3/envs/divewidgets-dev/lib/python3.13/site-packages (from requests>=2.31->jupyterlab-server~=2.19->jupyterlab<4,>=3->jupyter-optmwidgets) (3.4.1)\n",
      "Requirement already satisfied: urllib3<3,>=1.21.1 in /opt/homebrew/anaconda3/envs/divewidgets-dev/lib/python3.13/site-packages (from requests>=2.31->jupyterlab-server~=2.19->jupyterlab<4,>=3->jupyter-optmwidgets) (2.3.0)\n",
      "Requirement already satisfied: certifi>=2017.4.17 in /opt/homebrew/anaconda3/envs/divewidgets-dev/lib/python3.13/site-packages (from requests>=2.31->jupyterlab-server~=2.19->jupyterlab<4,>=3->jupyter-optmwidgets) (2024.12.14)\n",
      "Requirement already satisfied: aiofiles<23,>=22.1.0 in /opt/homebrew/anaconda3/envs/divewidgets-dev/lib/python3.13/site-packages (from ypy-websocket<0.9.0,>=0.8.2->jupyter-server-ydoc~=0.8.0->jupyterlab<4,>=3->jupyter-optmwidgets) (22.1.0)\n",
      "Requirement already satisfied: aiosqlite<1,>=0.17.0 in /opt/homebrew/anaconda3/envs/divewidgets-dev/lib/python3.13/site-packages (from ypy-websocket<0.9.0,>=0.8.2->jupyter-server-ydoc~=0.8.0->jupyterlab<4,>=3->jupyter-optmwidgets) (0.21.0)\n",
      "Requirement already satisfied: appnope in /opt/homebrew/anaconda3/envs/divewidgets-dev/lib/python3.13/site-packages (from ipykernel->notebook<7->jupyterlab<4,>=3->jupyter-optmwidgets) (0.1.4)\n",
      "Requirement already satisfied: comm>=0.1.1 in /opt/homebrew/anaconda3/envs/divewidgets-dev/lib/python3.13/site-packages (from ipykernel->notebook<7->jupyterlab<4,>=3->jupyter-optmwidgets) (0.2.2)\n",
      "Requirement already satisfied: debugpy>=1.6.5 in /opt/homebrew/anaconda3/envs/divewidgets-dev/lib/python3.13/site-packages (from ipykernel->notebook<7->jupyterlab<4,>=3->jupyter-optmwidgets) (1.8.12)\n",
      "Requirement already satisfied: psutil in /opt/homebrew/anaconda3/envs/divewidgets-dev/lib/python3.13/site-packages (from ipykernel->notebook<7->jupyterlab<4,>=3->jupyter-optmwidgets) (6.1.1)\n",
      "Requirement already satisfied: executing>=1.2.0 in /opt/homebrew/anaconda3/envs/divewidgets-dev/lib/python3.13/site-packages (from stack_data->ipython->jupyterlab<4,>=3->jupyter-optmwidgets) (2.1.0)\n",
      "Requirement already satisfied: asttokens>=2.1.0 in /opt/homebrew/anaconda3/envs/divewidgets-dev/lib/python3.13/site-packages (from stack_data->ipython->jupyterlab<4,>=3->jupyter-optmwidgets) (3.0.0)\n",
      "Requirement already satisfied: pure_eval in /opt/homebrew/anaconda3/envs/divewidgets-dev/lib/python3.13/site-packages (from stack_data->ipython->jupyterlab<4,>=3->jupyter-optmwidgets) (0.2.3)\n",
      "Requirement already satisfied: typing_extensions>=4.0 in /opt/homebrew/anaconda3/envs/divewidgets-dev/lib/python3.13/site-packages (from aiosqlite<1,>=0.17.0->ypy-websocket<0.9.0,>=0.8.2->jupyter-server-ydoc~=0.8.0->jupyterlab<4,>=3->jupyter-optmwidgets) (4.12.2)\n",
      "Requirement already satisfied: webencodings in /opt/homebrew/anaconda3/envs/divewidgets-dev/lib/python3.13/site-packages (from bleach!=5.0.0->bleach[css]!=5.0.0->nbconvert>=6.4.4->jupyter-server<3,>=1.16.0->jupyterlab<4,>=3->jupyter-optmwidgets) (0.5.1)\n",
      "Requirement already satisfied: tinycss2<1.5,>=1.1.0 in /opt/homebrew/anaconda3/envs/divewidgets-dev/lib/python3.13/site-packages (from bleach[css]!=5.0.0->nbconvert>=6.4.4->jupyter-server<3,>=1.16.0->jupyterlab<4,>=3->jupyter-optmwidgets) (1.4.0)\n",
      "Requirement already satisfied: fqdn in /opt/homebrew/anaconda3/envs/divewidgets-dev/lib/python3.13/site-packages (from jsonschema[format-nongpl]>=4.18.0->jupyter-events>=0.11.0->jupyter-server<3,>=1.16.0->jupyterlab<4,>=3->jupyter-optmwidgets) (1.5.1)\n",
      "Requirement already satisfied: isoduration in /opt/homebrew/anaconda3/envs/divewidgets-dev/lib/python3.13/site-packages (from jsonschema[format-nongpl]>=4.18.0->jupyter-events>=0.11.0->jupyter-server<3,>=1.16.0->jupyterlab<4,>=3->jupyter-optmwidgets) (20.11.0)\n",
      "Requirement already satisfied: jsonpointer>1.13 in /opt/homebrew/anaconda3/envs/divewidgets-dev/lib/python3.13/site-packages (from jsonschema[format-nongpl]>=4.18.0->jupyter-events>=0.11.0->jupyter-server<3,>=1.16.0->jupyterlab<4,>=3->jupyter-optmwidgets) (3.0.0)\n",
      "Requirement already satisfied: uri-template in /opt/homebrew/anaconda3/envs/divewidgets-dev/lib/python3.13/site-packages (from jsonschema[format-nongpl]>=4.18.0->jupyter-events>=0.11.0->jupyter-server<3,>=1.16.0->jupyterlab<4,>=3->jupyter-optmwidgets) (1.3.0)\n",
      "Requirement already satisfied: webcolors>=24.6.0 in /opt/homebrew/anaconda3/envs/divewidgets-dev/lib/python3.13/site-packages (from jsonschema[format-nongpl]>=4.18.0->jupyter-events>=0.11.0->jupyter-server<3,>=1.16.0->jupyterlab<4,>=3->jupyter-optmwidgets) (24.11.1)\n",
      "Requirement already satisfied: six>=1.5 in /opt/homebrew/anaconda3/envs/divewidgets-dev/lib/python3.13/site-packages (from python-dateutil>=2.8.2->jupyter-client>=7.4.4->jupyter-server<3,>=1.16.0->jupyterlab<4,>=3->jupyter-optmwidgets) (1.17.0)\n",
      "Requirement already satisfied: cffi>=1.0.1 in /opt/homebrew/anaconda3/envs/divewidgets-dev/lib/python3.13/site-packages (from argon2-cffi-bindings->argon2-cffi>=21.1->jupyter-server<3,>=1.16.0->jupyterlab<4,>=3->jupyter-optmwidgets) (1.17.1)\n",
      "Requirement already satisfied: soupsieve>1.2 in /opt/homebrew/anaconda3/envs/divewidgets-dev/lib/python3.13/site-packages (from beautifulsoup4->nbconvert>=6.4.4->jupyter-server<3,>=1.16.0->jupyterlab<4,>=3->jupyter-optmwidgets) (2.5)\n",
      "Requirement already satisfied: pycparser in /opt/homebrew/anaconda3/envs/divewidgets-dev/lib/python3.13/site-packages (from cffi>=1.0.1->argon2-cffi-bindings->argon2-cffi>=21.1->jupyter-server<3,>=1.16.0->jupyterlab<4,>=3->jupyter-optmwidgets) (2.22)\n",
      "Requirement already satisfied: arrow>=0.15.0 in /opt/homebrew/anaconda3/envs/divewidgets-dev/lib/python3.13/site-packages (from isoduration->jsonschema[format-nongpl]>=4.18.0->jupyter-events>=0.11.0->jupyter-server<3,>=1.16.0->jupyterlab<4,>=3->jupyter-optmwidgets) (1.3.0)\n",
      "Requirement already satisfied: types-python-dateutil>=2.8.10 in /opt/homebrew/anaconda3/envs/divewidgets-dev/lib/python3.13/site-packages (from arrow>=0.15.0->isoduration->jsonschema[format-nongpl]>=4.18.0->jupyter-events>=0.11.0->jupyter-server<3,>=1.16.0->jupyterlab<4,>=3->jupyter-optmwidgets) (2.9.0.20241206)\n",
      "Note: you may need to restart the kernel to use updated packages.\n"
     ]
    }
   ],
   "source": [
    "%pip install jupyter-optmwidgets\n",
    "%reload_ext jupyter-optmwidgets"
   ]
  },
  {
   "cell_type": "code",
   "execution_count": 2,
   "metadata": {},
   "outputs": [
    {
     "name": "stdout",
     "output_type": "stream",
     "text": [
      "Hello from OPT_Mentor!\n"
     ]
    },
    {
     "name": "stdout",
     "output_type": "stream",
     "text": [
      "\u001b[0;31mDocstring:\u001b[0m\n",
      "::\n",
      "\n",
      "  %optm [-w WIDTH] [-r] [-l] [-h HEIGHT]\n",
      "\n",
      "Visualize the cell block of Python code with the serverless OPT Mentor.\n",
      "\n",
      "options:\n",
      "  -w WIDTH, --width WIDTH\n",
      "                        The width of the output frame (default: 1100).\n",
      "  -r, --run             Run cell in IPython.\n",
      "  -l, --live            Live edit mode.\n",
      "  -h HEIGHT, --height HEIGHT\n",
      "                        The height of the output frame (default: 700).\n",
      "\u001b[0;31mFile:\u001b[0m      /opt/homebrew/anaconda3/envs/divewidgets-dev/lib/python3.13/site-packages/jupyter-optmwidgets/magic.py"
     ]
    }
   ],
   "source": [
    "# Use the magic command with options\n",
    "%%optm?\n",
    "print('Hello from OPT_Mentor!')"
   ]
  },
  {
   "cell_type": "code",
   "execution_count": 3,
   "metadata": {},
   "outputs": [
    {
     "name": "stderr",
     "output_type": "stream",
     "text": [
      "UsageError: Line magic function `%%optm` not found.\n"
     ]
    }
   ],
   "source": [
    "# Example with run option\n",
    "%%optm -r\n",
    "x = 10\n",
    "y = 20\n",
    "print(f'Sum is: {x + y}')"
   ]
  },
  {
   "cell_type": "code",
   "execution_count": 4,
   "metadata": {},
   "outputs": [
    {
     "name": "stderr",
     "output_type": "stream",
     "text": [
      "UsageError: Line magic function `%%optm` not found.\n"
     ]
    }
   ],
   "source": [
    " # Use the magic command with options\n",
    "%%optm -w 1100 -h 700\n",
    "print('Hello from OPT_Mentor!')"
   ]
  },
  {
   "cell_type": "code",
   "execution_count": 5,
   "metadata": {},
   "outputs": [
    {
     "data": {
      "application/vnd.jupyter.widget-view+json": {
       "model_id": "98a171edcc364c63ab377c8ba8d6832a",
       "version_major": 2,
       "version_minor": 0
      },
      "text/plain": [
       "OPTMWidget(value=None, script='x = 10\\ny = 20\\n')"
      ]
     },
     "execution_count": 5,
     "metadata": {},
     "output_type": "execute_result"
    }
   ],
   "source": [
    "%%optm -r\n",
    "x = 10\n",
    "y = 20"
   ]
  },
  {
   "cell_type": "code",
   "execution_count": null,
   "metadata": {},
   "outputs": [],
   "source": []
  }
 ],
 "metadata": {
  "kernelspec": {
   "display_name": "divewidgets-dev",
   "language": "python",
   "name": "python3"
  },
  "language_info": {
   "codemirror_mode": {
    "name": "ipython",
    "version": 3
   },
   "file_extension": ".py",
   "mimetype": "text/x-python",
   "name": "python",
   "nbconvert_exporter": "python",
   "pygments_lexer": "ipython3",
   "version": "3.13.1"
  },
  "toc": {
   "base_numbering": 1,
   "nav_menu": {},
   "number_sections": true,
   "sideBar": true,
   "skip_h1_title": false,
   "title_cell": "Table of Contents",
   "title_sidebar": "Contents",
   "toc_cell": false,
   "toc_position": {},
   "toc_section_display": true,
   "toc_window_display": false
  },
  "widgets": {
   "application/vnd.jupyter.widget-state+json": {
    "state": {
     "02c06e44161742c6ab4f914eb6a998b6": {
      "model_module": "jupyter-divewidgets",
      "model_module_version": "^0.1.5",
      "model_name": "OPTWidgetModel",
      "state": {
       "_model_module_version": "^0.1.5",
       "_model_name": "OPTWidgetModel",
       "_view_module_version": "^0.1.5",
       "_view_name": "OPTWidgetView",
       "height": 300,
       "layout": "IPY_MODEL_a0b6e62912f0449f8939e8bbfdd8acbd",
       "script": "print('Hello, World!')\n",
       "srcprefix": "https://dive4dec.github.io/optlite/#mode=display&code=",
       "width": 1100
      }
     },
     "0fab2b68762a4f13a42603433b189460": {
      "model_module": "jupyter-divewidgets",
      "model_module_version": "^0.1.5",
      "model_name": "OPTWidgetModel",
      "state": {
       "_model_module_version": "^0.1.5",
       "_model_name": "OPTWidgetModel",
       "_view_module_version": "^0.1.5",
       "_view_name": "OPTWidgetView",
       "height": 700,
       "layout": "IPY_MODEL_b9b2ab31aaf84dd8b0b375d17d1c1456",
       "script": "print('Hello, World!')\n1\n2\n3\n4\n5\n6\n6\n7\n8\n9\n8\n8\n88\n",
       "srcprefix": "https://dive4dec.github.io/optlite/live.html#code=",
       "width": 1100
      }
     },
     "114952cb07fb4b3aa6b898afe768b317": {
      "model_module": "@jupyter-widgets/base",
      "model_module_version": "1.2.0",
      "model_name": "LayoutModel",
      "state": {}
     },
     "18bb091462c6435da92d89ae6f80eb72": {
      "model_module": "@jupyter-widgets/base",
      "model_module_version": "1.2.0",
      "model_name": "LayoutModel",
      "state": {}
     },
     "2925dd1bfca2496780efe6982f9ab934": {
      "model_module": "jupyter-divewidgets",
      "model_module_version": "^0.1.5",
      "model_name": "OPTWidgetModel",
      "state": {
       "_model_module_version": "^0.1.5",
       "_model_name": "OPTWidgetModel",
       "_view_module_version": "^0.1.5",
       "_view_name": "OPTWidgetView",
       "height": 400,
       "layout": "IPY_MODEL_3d4d2fe89ea6453cb162476deb1f82cc",
       "script": "print('Hello, World!')\n",
       "srcprefix": "https://dive4dec.github.io/optlite/live.html#code=",
       "width": 1100
      }
     },
     "2e805a056d404a1e85ea40389ba8af25": {
      "model_module": "jupyter-divewidgets",
      "model_module_version": "^0.1.5",
      "model_name": "OPTWidgetModel",
      "state": {
       "_model_module_version": "^0.1.5",
       "_model_name": "OPTWidgetModel",
       "_view_module_version": "^0.1.5",
       "_view_name": "OPTWidgetView",
       "height": 400,
       "layout": "IPY_MODEL_114952cb07fb4b3aa6b898afe768b317",
       "script": "def f(n):\n    return n*f(n-1) if n>1 else 1\n\nf(3)\n",
       "srcprefix": "https://dive4dec.github.io/optlite/live.html#code=",
       "width": 1100
      }
     },
     "30d3051fce6b4752a000d4043b6f833a": {
      "model_module": "@jupyter-widgets/base",
      "model_module_version": "1.2.0",
      "model_name": "LayoutModel",
      "state": {}
     },
     "33f298b7362148d2beb5e32b14103a4c": {
      "model_module": "@jupyter-widgets/base",
      "model_module_version": "1.2.0",
      "model_name": "LayoutModel",
      "state": {}
     },
     "3cc9fb63f1c941f19cdb19b613f4c25a": {
      "model_module": "jupyter-divewidgets",
      "model_module_version": "^0.1.5",
      "model_name": "JSWidgetModel",
      "state": {
       "_model_module_version": "^0.1.5",
       "_view_module_version": "^0.1.5",
       "height": -1,
       "html": "<!DOCTYPE html>\n<html>\n<head>\n  <script src=\"https://cdn.jsdelivr.net/npm/mermaid/dist/mermaid.min.js\"></script>\n    <style>\n        body {\n            padding: 0;\n            margin: 0;\n        }        \n        .mermaid > svg {\n          max-width:100%;\n          height: auto;\n        }\n    </style>\n</head>\n<body>\n    <div class=\"mermaid\">\n    </div>\n    <script>mermaid.initialize({startOnLoad:false});\n    var render = (function () {\n      var element = document.querySelector('.mermaid');\n      var insertSvg = function(svgCode, bindFunctions) {\n        element.innerHTML = svgCode;\n      };\n      return (code) => {\n        mermaid.mermaidAPI.render('rendered-mermaid',code,insertSvg);\n      };    \n    })()\n    </script>\n</body>\n</html>",
       "js": "render(`\ngraph TD \nA[a] --> B[b] \nB --> C[c] \nB --> D[d]\n`);",
       "layout": "IPY_MODEL_33f298b7362148d2beb5e32b14103a4c",
       "width": -1
      }
     },
     "3d4d2fe89ea6453cb162476deb1f82cc": {
      "model_module": "@jupyter-widgets/base",
      "model_module_version": "1.2.0",
      "model_name": "LayoutModel",
      "state": {}
     },
     "45014fc867a540f6b936d10f3a1fe5fe": {
      "model_module": "jupyter-divewidgets",
      "model_module_version": "^0.1.5",
      "model_name": "JSWidgetModel",
      "state": {
       "_model_module_version": "^0.1.5",
       "_view_module_version": "^0.1.5",
       "html": "<!DOCTYPE html>\n<html>\n    <head>\n    <style>\n    html, body {\n        height: 100%;\n    }\n    body {\n        width: 100%;\n        display: flex;\n        padding: 0;\n        margin: 0;\n    }\n    .jxgbox {\n        width:100%; \n        flex-grow: 1;\n    }\n    </style>\n    <link rel=\"stylesheet\" type=\"text/css\" href=\"https://jsxgraph.org/distrib/jsxgraph.css\" />\n    <script type=\"text/javascript\" src=\"https://cdn.jsdelivr.net/npm/jsxgraph/distrib/jsxgraphcore.js\"></script>\n    <script type=\"text/javascript\" src=\"https://cdn.jsdelivr.net/npm/mathjax@3/es5/tex-chtml.js\"></script>\n    </head>\n<body>\n<div id=\"box\" class=\"jxgbox\"></div>\n</body>\n</html>",
       "js": "JXG.Options.text.useMathJax = true;\nvar brd = JXG.JSXGraph.initBoard('box', {\n    boundingbox: [-8, 8, 8, -4],\n    axis: true,\n    showCopyright: false\n});\nvar a = brd.create('slider', [\n    [3, 3],\n    [6, 3],\n    [-3, 1, 3]\n], {\n    name: 'a',\n    snapWidth: 0.1\n});\nvar b = brd.create('slider', [\n    [3, 2],\n    [6, 2],\n    [-3, 0, 3]\n], {\n    name: 'b',\n    snapWidth: 0.1\n});\nvar c = brd.create('slider', [\n    [3, 1],\n    [6, 1],\n    [-3, 0, 3]\n], {\n    name: 'c',\n    snapWidth: 0.1\n});\nbrd.create('functiongraph', [function(x) {\n    return a.Value() * x * x + b.Value() * x + c.Value();\n}, -10, 10]);\nbrd.create('text',\n    [-2, 0,\n        function() {\n            return String.raw`\n              \\begin{align*} \n              y&=ax^2+bx+c\\\\ \n               &= ${a.Value().toFixed(2)}x^2 \n                + ${b.Value().toFixed(2)}x \n                + ${c.Value().toFixed(2)}\n              \\end{align*}`;\n        }\n    ], {\n        anchorX: 'right',\n        anchorY: 'bottom'\n    });",
       "layout": "IPY_MODEL_889ebc56fc4044359ec1c3bae145e481"
      }
     },
     "4c3dd3ce730040c5abfbcba2d291a15d": {
      "model_module": "@jupyter-widgets/base",
      "model_module_version": "1.2.0",
      "model_name": "LayoutModel",
      "state": {}
     },
     "4dd4fe31d18049ee9d9180595be42dbf": {
      "model_module": "@jupyter-widgets/base",
      "model_module_version": "1.2.0",
      "model_name": "LayoutModel",
      "state": {}
     },
     "58c5b844bb6a4e1c8f16fc807c4f368e": {
      "model_module": "@jupyter-widgets/base",
      "model_module_version": "1.2.0",
      "model_name": "LayoutModel",
      "state": {}
     },
     "668922d98fa546b4b9ff92711ad38cf4": {
      "model_module": "@jupyter-widgets/base",
      "model_module_version": "1.2.0",
      "model_name": "LayoutModel",
      "state": {}
     },
     "688d5c03c76d4e2aafc3ac6c4ea19d8f": {
      "model_module": "@jupyter-widgets/base",
      "model_module_version": "1.2.0",
      "model_name": "LayoutModel",
      "state": {}
     },
     "6da63360a6b74f5491924f1d55f9bc0c": {
      "model_module": "jupyter-divewidgets",
      "model_module_version": "^0.1.5",
      "model_name": "OPTWidgetModel",
      "state": {
       "_model_module_version": "^0.1.5",
       "_model_name": "OPTWidgetModel",
       "_view_module_version": "^0.1.5",
       "_view_name": "OPTWidgetView",
       "height": 300,
       "layout": "IPY_MODEL_7d4155a288484b47b3496bd66da69b28",
       "script": "msg = 'Hello, World!'\nprint(msg)\n",
       "srcprefix": "https://dive4dec.github.io/optlite/#mode=display&code=",
       "width": 1100
      }
     },
     "6f88131c4359499f9a74f76678b7bbf5": {
      "model_module": "jupyter-divewidgets",
      "model_module_version": "^0.1.5",
      "model_name": "OPTWidgetModel",
      "state": {
       "_model_module_version": "^0.1.5",
       "_model_name": "OPTWidgetModel",
       "_view_module_version": "^0.1.5",
       "_view_name": "OPTWidgetView",
       "height": 200,
       "layout": "IPY_MODEL_8d69eb27f90f448ca743ae660baee61b",
       "script": "print('Hello, World!')\n",
       "srcprefix": "https://dive4dec.github.io/optlite/#mode=display&code=",
       "width": 1100
      }
     },
     "75db6d625cfc40ffb87dbd7ca78dfa77": {
      "model_module": "jupyter-divewidgets",
      "model_module_version": "^0.1.5",
      "model_name": "OPTWidgetModel",
      "state": {
       "_model_module_version": "^0.1.5",
       "_model_name": "OPTWidgetModel",
       "_view_module_version": "^0.1.5",
       "_view_name": "OPTWidgetView",
       "height": 100,
       "layout": "IPY_MODEL_82c828379c614db49583f282c5cadcc8",
       "script": "print('Hello, World!')\n",
       "srcprefix": "https://dive4dec.github.io/optlite/live.html#code=",
       "width": 1100
      }
     },
     "778f05f3face4f70916332c9d74d476c": {
      "model_module": "jupyter-divewidgets",
      "model_module_version": "^0.1.5",
      "model_name": "JSWidgetModel",
      "state": {
       "_model_module_version": "^0.1.5",
       "_view_module_version": "^0.1.5",
       "height": -1,
       "html": "<!DOCTYPE html>\n<html>\n<head>\n  <script src=\"https://cdnjs.cloudflare.com/ajax/libs/raphael/2.3.0/raphael.min.js\"></script>\n  <script src=\"https://cdnjs.cloudflare.com/ajax/libs/flowchart/1.17.1/flowchart.min.js\"></script>\n    <style>\n        body {\n            padding: 0;\n            margin: 0;\n        }\n        #diagram > svg {\n          max-width:100%;\n          height: auto;\n        }\n    </style>\n</head>\n<body>\n    <div id=\"diagram\">\n    </div>\n    <script>\n    var render = (function () {\n      return (code) => {\n        document.getElementById('diagram').innerHTML = '';\n        flowchart.parse(code).drawSVG('diagram');\n      };    \n    })()\n    </script>\n</body>\n</html>",
       "js": "render(`\ncond3=>condition: if (not input(1))\ncond8=>condition: if input(2)\nsub12=>subroutine: input(3)\n\ncond3(yes)->cond8\ncond8(yes)->sub12\n`);",
       "layout": "IPY_MODEL_4c3dd3ce730040c5abfbcba2d291a15d",
       "width": -1
      }
     },
     "7c283f73027043b9803b2cd9a759fb38": {
      "model_module": "@jupyter-widgets/base",
      "model_module_version": "1.2.0",
      "model_name": "LayoutModel",
      "state": {}
     },
     "7d4155a288484b47b3496bd66da69b28": {
      "model_module": "@jupyter-widgets/base",
      "model_module_version": "1.2.0",
      "model_name": "LayoutModel",
      "state": {}
     },
     "82c828379c614db49583f282c5cadcc8": {
      "model_module": "@jupyter-widgets/base",
      "model_module_version": "1.2.0",
      "model_name": "LayoutModel",
      "state": {}
     },
     "8816b93a0de64bb284a9c9d76d4ebd54": {
      "model_module": "jupyter-divewidgets",
      "model_module_version": "^0.1.5",
      "model_name": "JSWidgetModel",
      "state": {
       "_model_module_version": "^0.1.5",
       "_view_module_version": "^0.1.5",
       "height": 200,
       "html": "<!DOCTYPE html>\n<html>\n    <head>\n    <style>\n    html, body {\n        height: 100%;\n    }\n    body {\n        width: 100%;\n        display: flex;\n        padding: 0;\n        margin: 0;\n    }\n    .jxgbox {\n        width:100%; \n        flex-grow: 1;\n    }\n    </style>\n    <link rel=\"stylesheet\" type=\"text/css\" href=\"https://jsxgraph.org/distrib/jsxgraph.css\" />\n    <script type=\"text/javascript\" src=\"https://cdn.jsdelivr.net/npm/jsxgraph/distrib/jsxgraphcore.js\"></script>\n    <script type=\"text/javascript\" src=\"https://www.cs.cityu.edu.hk/~ccha23/js/load-mathjax.js\"></script>\n    </head>\n<body>\n<div id=\"jxgbox\" class=\"jxgbox\"></div>\n</body>\n</html>",
       "js": "JXG.Options.text.useMathJax = true;\nconst brd = JXG.JSXGraph.initBoard('jxgbox', {\n    boundingbox: [-8, 8, 8, -4],\n    axis: true,\n    showCopyright: false\n});\nconst a = brd.create('slider', [\n    [3, 3],\n    [6, 3],\n    [-3, 1, 3]\n], {\n    name: 'a',\n    snapWidth: 0.1\n});\nconst b = brd.create('slider', [\n    [3, 2],\n    [6, 2],\n    [-3, 0, 3]\n], {\n    name: 'b',\n    snapWidth: 0.1\n});\nconst c = brd.create('slider', [\n    [3, 1],\n    [6, 1],\n    [-3, 0, 3]\n], {\n    name: 'c',\n    snapWidth: 0.1\n});\nbrd.create('functiongraph', [function(x) {\n    return a.Value() * x * x + b.Value() * x + c.Value();\n}, -10, 10]);\nbrd.create('text',\n    [-1, -1,\n        function() {\n            return String.raw`\n              \\begin{empheq}[left={\\text{Parabola} \\empheqlbrace}]{align}\n              y&=ax^2+bx+c\\tag{1}\\\\ \n               &= ${a.Value().toFixed(2)}x^2 \n                + ${b.Value().toFixed(2)}x \n                + ${c.Value().toFixed(2)} \\tag{2}\n              \\end{empheq}`;\n        }\n    ], {\n        anchorX: 'right',\n        anchorY: 'top'\n    });",
       "layout": "IPY_MODEL_58c5b844bb6a4e1c8f16fc807c4f368e"
      }
     },
     "889ebc56fc4044359ec1c3bae145e481": {
      "model_module": "@jupyter-widgets/base",
      "model_module_version": "1.2.0",
      "model_name": "LayoutModel",
      "state": {}
     },
     "8d69eb27f90f448ca743ae660baee61b": {
      "model_module": "@jupyter-widgets/base",
      "model_module_version": "1.2.0",
      "model_name": "LayoutModel",
      "state": {}
     },
     "8da23602bc5a490fb48bcd36e5747e87": {
      "model_module": "@jupyter-widgets/base",
      "model_module_version": "1.2.0",
      "model_name": "LayoutModel",
      "state": {}
     },
     "90b16f247cb4429798a16e9326f1b6b5": {
      "model_module": "jupyter-divewidgets",
      "model_module_version": "^0.1.5",
      "model_name": "OPTWidgetModel",
      "state": {
       "_model_module_version": "^0.1.5",
       "_model_name": "OPTWidgetModel",
       "_view_module_version": "^0.1.5",
       "_view_name": "OPTWidgetView",
       "height": 700,
       "layout": "IPY_MODEL_668922d98fa546b4b9ff92711ad38cf4",
       "script": "print('Hello, World!')\n",
       "srcprefix": "https://dive4dec.github.io/optlite/live.html#code=",
       "width": 1100
      }
     },
     "a04a013a6fb14b359cce7c222575e896": {
      "model_module": "jupyter-divewidgets",
      "model_module_version": "^0.1.5",
      "model_name": "OPTWidgetModel",
      "state": {
       "_model_module_version": "^0.1.5",
       "_model_name": "OPTWidgetModel",
       "_view_module_version": "^0.1.5",
       "_view_name": "OPTWidgetView",
       "height": 100,
       "layout": "IPY_MODEL_18bb091462c6435da92d89ae6f80eb72",
       "script": "print('Hello, World!')\n",
       "srcprefix": "https://dive4dec.github.io/optlite/#mode=display&code=",
       "width": 1100
      }
     },
     "a0b6e62912f0449f8939e8bbfdd8acbd": {
      "model_module": "@jupyter-widgets/base",
      "model_module_version": "1.2.0",
      "model_name": "LayoutModel",
      "state": {}
     },
     "ad944328519745cb928e971ac8ff17bf": {
      "model_module": "jupyter-divewidgets",
      "model_module_version": "^0.1.5",
      "model_name": "OPTWidgetModel",
      "state": {
       "_model_module_version": "^0.1.5",
       "_model_name": "OPTWidgetModel",
       "_view_module_version": "^0.1.5",
       "_view_name": "OPTWidgetView",
       "height": 300,
       "layout": "IPY_MODEL_4dd4fe31d18049ee9d9180595be42dbf",
       "script": "print('Hello, World!')\n",
       "srcprefix": "https://dive4dec.github.io/optlite/#mode=display&code=",
       "width": 1100
      }
     },
     "b2a91c40157c479bb7b2eb01236cdc68": {
      "model_module": "jupyter-divewidgets",
      "model_module_version": "^0.1.5",
      "model_name": "OPTWidgetModel",
      "state": {
       "_model_module_version": "^0.1.5",
       "_model_name": "OPTWidgetModel",
       "_view_module_version": "^0.1.5",
       "_view_name": "OPTWidgetView",
       "height": 100,
       "layout": "IPY_MODEL_688d5c03c76d4e2aafc3ac6c4ea19d8f",
       "script": "print('Hello, World!')\n",
       "srcprefix": "https://dive4dec.github.io/optlite/live.html#code=",
       "width": 1100
      }
     },
     "b3f1613b89e24519bacd588633b4b883": {
      "model_module": "jupyter-divewidgets",
      "model_module_version": "^0.1.5",
      "model_name": "OPTWidgetModel",
      "state": {
       "_model_module_version": "^0.1.5",
       "_model_name": "OPTWidgetModel",
       "_view_module_version": "^0.1.5",
       "_view_name": "OPTWidgetView",
       "height": 400,
       "layout": "IPY_MODEL_7c283f73027043b9803b2cd9a759fb38",
       "script": "def f(n):\n    return n*f(n-1) if n>1 else 1\n\nf(3)\n",
       "srcprefix": "https://dive4dec.github.io/optlite/live.html#code=",
       "width": 1100
      }
     },
     "b9b2ab31aaf84dd8b0b375d17d1c1456": {
      "model_module": "@jupyter-widgets/base",
      "model_module_version": "1.2.0",
      "model_name": "LayoutModel",
      "state": {}
     },
     "e285cbaeee76461b8b7e2107f7172a91": {
      "model_module": "@jupyter-widgets/base",
      "model_module_version": "1.2.0",
      "model_name": "LayoutModel",
      "state": {}
     },
     "e792ca2ddef34797bff0e7e27d6be5a7": {
      "model_module": "jupyter-divewidgets",
      "model_module_version": "^0.1.5",
      "model_name": "OPTWidgetModel",
      "state": {
       "_model_module_version": "^0.1.5",
       "_model_name": "OPTWidgetModel",
       "_view_module_version": "^0.1.5",
       "_view_name": "OPTWidgetView",
       "height": 400,
       "layout": "IPY_MODEL_8da23602bc5a490fb48bcd36e5747e87",
       "script": "def f(n):\n    return n*f(n-1) if n>1 else 1\n\nf(3)\n",
       "srcprefix": "https://dive4dec.github.io/optlite/live.html#code=",
       "width": 1100
      }
     },
     "fa0d611d823946458d0b5ac8b2b1fd1c": {
      "model_module": "jupyter-divewidgets",
      "model_module_version": "^0.1.5",
      "model_name": "OPTWidgetModel",
      "state": {
       "_model_module_version": "^0.1.5",
       "_model_name": "OPTWidgetModel",
       "_view_module_version": "^0.1.5",
       "_view_name": "OPTWidgetView",
       "height": 400,
       "layout": "IPY_MODEL_e285cbaeee76461b8b7e2107f7172a91",
       "script": "def f(n):\n    return n*f(n-1) if n>1 else 1\n\nf(3)\n",
       "srcprefix": "https://dive4dec.github.io/optlite/live.html#code=",
       "width": 1100
      }
     },
     "fde01e0bf2a34f02a23e524e7a83d609": {
      "model_module": "jupyter-divewidgets",
      "model_module_version": "^0.1.5",
      "model_name": "OPTWidgetModel",
      "state": {
       "_model_module_version": "^0.1.5",
       "_model_name": "OPTWidgetModel",
       "_view_module_version": "^0.1.5",
       "_view_name": "OPTWidgetView",
       "height": 400,
       "layout": "IPY_MODEL_30d3051fce6b4752a000d4043b6f833a",
       "script": "def f(n):\n    return n*f(n-1) if n>1 else 1\n\nf(3)\n",
       "srcprefix": "https://dive4dec.github.io/optlite/live.html#code=",
       "width": 1100
      }
     }
    },
    "version_major": 2,
    "version_minor": 0
   }
  }
 },
 "nbformat": 4,
 "nbformat_minor": 4
}
