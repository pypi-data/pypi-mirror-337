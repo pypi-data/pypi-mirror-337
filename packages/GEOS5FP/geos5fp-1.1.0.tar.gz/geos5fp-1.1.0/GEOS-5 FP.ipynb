{
 "cells": [
  {
   "cell_type": "code",
   "execution_count": null,
   "metadata": {},
   "outputs": [],
   "source": [
    "from GEOS5FP import GEOS5FP\n",
    "from sentinel_tiles import sentinel_tiles"
   ]
  },
  {
   "cell_type": "code",
   "execution_count": 2,
   "metadata": {},
   "outputs": [
    {
     "name": "stdout",
     "output_type": "stream",
     "text": [
      "[2025-03-27 16:56:47 INFO] GEOS-5 FP working directory: \u001b[34m/Users/gregoryhalverson/data/GEOS5FP\u001b[0m\n",
      "[2025-03-27 16:56:47 INFO] GEOS-5 FP download directory: \u001b[34m~/data/GEOS5FP\u001b[0m\n"
     ]
    },
    {
     "data": {
      "text/plain": [
       "{\n",
       "  \"URL\": \"https://portal.nccs.nasa.gov/datashare/gmao/geos-fp/das\",\n",
       "  \"download_directory\": \"~/data/GEOS5FP\"\n",
       "}"
      ]
     },
     "execution_count": 2,
     "metadata": {},
     "output_type": "execute_result"
    }
   ],
   "source": [
    "geos5fp = GEOS5FP()\n",
    "geos5fp"
   ]
  },
  {
   "cell_type": "code",
   "execution_count": 3,
   "metadata": {},
   "outputs": [
    {
     "data": {
      "text/plain": [
       "{\n",
       "  \"dimensions\": {\n",
       "    \"rows\": 3660,\n",
       "    \"cols\": 3660\n",
       "  },\n",
       "  \"bbox\": {\n",
       "    \"xmin\": 600000.0,\n",
       "    \"ymin\": 3590220.0,\n",
       "    \"xmax\": 709800.0,\n",
       "    \"ymax\": 3700020.0\n",
       "  },\n",
       "  \"crs\": \"EPSG:32611\",\n",
       "  \"resolution\": {\n",
       "    \"cell_width\": 30.0,\n",
       "    \"cell_height\": -30.0\n",
       "  }\n",
       "}"
      ]
     },
     "execution_count": 3,
     "metadata": {},
     "output_type": "execute_result"
    }
   ],
   "source": [
    "geometry = sentinel_tiles.grid(\"11SPS\")\n",
    "geometry"
   ]
  },
  {
   "cell_type": "code",
   "execution_count": null,
   "metadata": {},
   "outputs": [],
   "source": [
    "Ta_C = geos5fp.Ta_C(time_UTC=\"2025-02-14 12:00:00\", geometry=geometry)\n",
    "Ta_C"
   ]
  },
  {
   "cell_type": "code",
   "execution_count": null,
   "metadata": {},
   "outputs": [],
   "source": []
  }
 ],
 "metadata": {
  "kernelspec": {
   "display_name": "geos5fp",
   "language": "python",
   "name": "python3"
  },
  "language_info": {
   "codemirror_mode": {
    "name": "ipython",
    "version": 3
   },
   "file_extension": ".py",
   "mimetype": "text/x-python",
   "name": "python",
   "nbconvert_exporter": "python",
   "pygments_lexer": "ipython3",
   "version": "3.10.16"
  }
 },
 "nbformat": 4,
 "nbformat_minor": 2
}
