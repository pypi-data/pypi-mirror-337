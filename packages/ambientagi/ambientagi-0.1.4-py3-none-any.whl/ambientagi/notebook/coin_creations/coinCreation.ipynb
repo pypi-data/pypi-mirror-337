{
 "cells": [
  {
   "cell_type": "code",
   "execution_count": 2,
   "metadata": {},
   "outputs": [],
   "source": [
    "#pip install ambientagi\n",
    "from ambientagi.services.agent_service import AmbientAgentService\n",
    "import json\n",
    "\n"
   ]
  },
  {
   "cell_type": "code",
   "execution_count": 3,
   "metadata": {},
   "outputs": [
    {
     "name": "stdout",
     "output_type": "stream",
     "text": [
      "Create Agent Response:\n",
      "{\n",
      "    \"agent\": {\n",
      "        \"name\": \"DeFi Watcher\",\n",
      "        \"role\": \"Assistant for DeFi Monitoring\",\n",
      "        \"specialty\": \"Decentralized Finance Analysis\",\n",
      "        \"style\": \"Informative and supportive\",\n",
      "        \"features\": [\n",
      "            \"Real-time monitoring of DeFi protocols\",\n",
      "            \"Alerts for significant price changes\",\n",
      "            \"Portfolio tracking and performance analysis\",\n",
      "            \"Risk assessment tools for DeFi investments\",\n",
      "            \"Educational resources on DeFi strategies\",\n",
      "            \"Integration with popular DeFi platforms\"\n",
      "        ],\n",
      "        \"personality\": \"The DeFi Watcher is analytical and detail-oriented, providing users with comprehensive insights into their DeFi investments. It maintains a friendly demeanor, encouraging users to ask questions and learn more about the DeFi landscape. The agent is patient, ensuring that even complex financial concepts are explained clearly.\",\n",
      "        \"avatar\": null,\n",
      "        \"wallet_address\": \"0x123456789ABCDEF\",\n",
      "        \"agent_id\": \"9151add0-245d-44cc-b5ba-06e940b01fa1\",\n",
      "        \"system_prompt\": \"You are DeFi Watcher, an AI assistant dedicated to helping users monitor and understand decentralized finance. Your primary focus is to provide real-time insights, alerts, and educational resources related to DeFi protocols and investments. Maintain a supportive and informative tone, always encouraging users to engage and learn.\",\n",
      "        \"task\": null,\n",
      "        \"knowledge_base\": null,\n",
      "        \"token_data\": null,\n",
      "        \"twitter_handle\": null,\n",
      "        \"browser_provider\": null,\n",
      "        \"fireclawer_provider\": null,\n",
      "        \"email_provider\": null,\n",
      "        \"telegram_provider\": null,\n",
      "        \"twitter_id\": null,\n",
      "        \"bearer_token\": null,\n",
      "        \"api_key\": null,\n",
      "        \"api_secret\": null,\n",
      "        \"access_token\": null,\n",
      "        \"access_secret\": null\n",
      "    },\n",
      "    \"message\": \"Ambient agent created successfully\"\n",
      "}\n"
     ]
    }
   ],
   "source": [
    "# Initialize the service\n",
    "service = AmbientAgentService()\n",
    "\n",
    "# Create an agent\n",
    "response = service.create_agent(\n",
    "    prompt=\"Assistant for DeFi monitoring Assistant for DeFi monitoring\",\n",
    "    wallet_address=\"0x123456789ABCDEF\",\n",
    "\n",
    ")\n",
    "print(\"Create Agent Response:\")\n",
    "print(json.dumps(response, indent=4))"
   ]
  },
  {
   "cell_type": "code",
   "execution_count": 3,
   "metadata": {},
   "outputs": [
    {
     "name": "stdout",
     "output_type": "stream",
     "text": [
      "Update Agent Response: {'agent': {'name': 'DeFi Sentinel', 'role': 'DeFi Monitoring Assistant', 'specialty': 'Updated DeFi monitoring', 'style': 'Informative and active', 'features': ['Real-time market data tracking', 'Portfolio performance analysis', 'Alerts for significant market changes', 'Risk assessment tools', 'Transaction history monitoring', 'Integration with multiple DeFi platforms'], 'personality': 'The DeFi Sentinel is analytical and meticulous, always striving to provide the most accurate information. It engages users with a calm and reassuring tone, ensuring that even complex financial concepts are presented in an understandable manner. It values transparency and encourages users to make informed decisions.', 'avatar': None, 'wallet_address': '0x123456789ABCDEF', 'agent_id': '6e62aece-630b-4596-a9a9-5ed896ff4bbd', 'system_prompt': 'You are DeFi Sentinel, an AI assistant designed to monitor and analyze decentralized finance activities. Your main goal is to provide users with up-to-date information and alerts about their DeFi investments. Communicate clearly and concisely, helping users understand complex financial data. Always prioritize user security and data privacy.', 'task': None, 'knowledge_base': None, 'token_data': None, 'twitter_handle': None, 'browser_provider': None, 'fireclawer_provider': None, 'email_provider': None, 'telegram_provider': None, 'twitter_id': None, 'bearer_token': None, 'api_key': None, 'api_secret': None, 'access_token': None, 'access_secret': None}, 'message': 'Agent attributes updated successfully'}\n"
     ]
    }
   ],
   "source": [
    "# Update the agent\n",
    "agent_id = response['agent']['agent_id']\n",
    "update_response = service.update_agent(\n",
    "    agent_id=agent_id,\n",
    "    data={\"specialty\": \"Updated DeFi monitoring\", \"style\": \"Informative and active\"}\n",
    ")\n",
    "\n",
    "print(\"Update Agent Response:\", update_response)\n"
   ]
  },
  {
   "cell_type": "code",
   "execution_count": 4,
   "metadata": {},
   "outputs": [
    {
     "name": "stdout",
     "output_type": "stream",
     "text": [
      "INFO     [root] 📤 Sending request to /createSale with data: {\n",
      "    \"privateKey\": \"bf4e9ec8a9de4ab9c37c4d8566f31dcd681656e7c4cfaa00e718c49599df6302\",\n",
      "    \"tokenName\": \"aa45\",\n",
      "    \"tokenSymbol\": \"app\",\n",
      "    \"description\": \"Created by agent 6e62aece-630b-4596-a9a9-5ed896ff4bbd\",\n",
      "    \"buyValue\": \"0.001000\",\n",
      "    \"websiteUrl\": \"https://example.com\",\n",
      "    \"twitterUrl\": \"https://twitter.com/MyEtherFunToken\",\n",
      "    \"telegramUrl\": \"https://t.me/MyEtherFunToken\"\n",
      "}\n",
      "INFO     [root] 📂 Sending file with name: ['logoUrl'] -> mytoken.png\n",
      "INFO     [root] ✅ Status Code: 200\n",
      "INFO     [root] ✅ Response Text: {\"message\":\"Sale creation transaction successful\",\"txHash\":\"0x143ae7a215abfd851eb1656ee4343b62a98bc4249ca84ee914a4dd0f3c1f92a2\",\"blockNumber\":21756238,\"logs\":[{\"_type\":\"log\",\"address\":\"0xdD218BD2B591Ce02782a1028dad9d314A5e1e7eA\",\"blockHash\":\"0x89f3b6adf665f53dc4fff1da2c63d09e98d873ada32bff71290e88f8c38ac16e\",\"blockNumber\":21756238,\"data\":\"0x0000000000000000000000000000000000000000000000000000000000000100000000000000000000000000000000000000000000000000000000000000014000000000000000000000000000000000000000000000000014d1120d7b160000000000000000000000000000000000000000000000000000000000000000018000000000000000000000000000000000000000000000000000000000000001e00000000000000000000000000000000000000000000000000000000000000220000000000000000000000000000000000000000000000000000000000000028000000000000000000000000000000000000000000000000000000000000002c00000000000000000000000000000000000000000000000000000000000000004616134350000000000000000000000000000000000000000000000000000000000000000000000000000000000000000000000000000000000000000000000036170700000000000000000000000000000000000000000000000000000000000000000000000000000000000000000000000000000000000000000000000002875706c6f6164732f6461393737303263353364306630353139636639386665373330613737393131000000000000000000000000000000000000000000000000000000000000000000000000000000000000000000000000000000000000001368747470733a2f2f6578616d706c652e636f6d00000000000000000000000000000000000000000000000000000000000000000000000000000000000000002368747470733a2f2f747769747465722e636f6d2f4d79457468657246756e546f6b656e0000000000000000000000000000000000000000000000000000000000000000000000000000000000000000000000000000000000000000000000001c68747470733a2f2f742e6d652f4d79457468657246756e546f6b656e00000000000000000000000000000000000000000000000000000000000000000000003543726561746564206279206167656e742036653632616563652d363330622d343539362d613961392d3565643839366666346262640000000000000000000000\",\"index\":249,\"topics\":[\"0x2774c5ef278ece0f55fc83cefaf68456c85739bf6af6f14b231b2a3bbbdb0de0\",\"0x000000000000000000000000112759012aded6abebe47cc1500530d55639cc03\",\"0x00000000000000000000000058d605bfda2a2a1e141afefe5b3c8c093bef81b9\"],\"transactionHash\":\"0x143ae7a215abfd851eb1656ee4343b62a98bc4249ca84ee914a4dd0f3c1f92a2\",\"transactionIndex\":131},{\"_type\":\"log\",\"address\":\"0x112759012ADEd6abEbe47cC1500530D55639Cc03\",\"blockHash\":\"0x89f3b6adf665f53dc4fff1da2c63d09e98d873ada32bff71290e88f8c38ac16e\",\"blockNumber\":21756238,\"data\":\"0x0000000000000000000000000000000000000000033b2e3c9fd0803ce8000000\",\"index\":250,\"topics\":[\"0xddf252ad1be2c89b69c2b068fc378daa952ba7f163c4a11628f55a4df523b3ef\",\"0x0000000000000000000000000000000000000000000000000000000000000000\",\"0x000000000000000000000000112759012aded6abebe47cc1500530d55639cc03\"],\"transactionHash\":\"0x143ae7a215abfd851eb1656ee4343b62a98bc4249ca84ee914a4dd0f3c1f92a2\",\"transactionIndex\":131},{\"_type\":\"log\",\"address\":\"0x112759012ADEd6abEbe47cC1500530D55639Cc03\",\"blockHash\":\"0x89f3b6adf665f53dc4fff1da2c63d09e98d873ada32bff71290e88f8c38ac16e\",\"blockNumber\":21756238,\"data\":\"0x00000000000000000000000000000000000000000000000000037b4e07e1400000000000000000000000000000000000000000000001441712baff0001fc577000000000000000000000000000000000000000000000000000000000679eea77\",\"index\":251,\"topics\":[\"0x0d1a0d5e3d583a0e92588799dd06e50fd78c07daf05f0cc06d7b848b1ca445f1\",\"0x00000000000000000000000058d605bfda2a2a1e141afefe5b3c8c093bef81b9\"],\"transactionHash\":\"0x143ae7a215abfd851eb1656ee4343b62a98bc4249ca84ee914a4dd0f3c1f92a2\",\"transactionIndex\":131},{\"_type\":\"log\",\"address\":\"0xdD218BD2B591Ce02782a1028dad9d314A5e1e7eA\",\"blockHash\":\"0x89f3b6adf665f53dc4fff1da2c63d09e98d873ada32bff71290e88f8c38ac16e\",\"blockNumber\":21756238,\"data\":\"0x00000000000000000000000000000000000000000000000000037b4e07e1400000000000000000000000000000000000000000000001441712baff0001fc5770\",\"index\":252,\"topics\":[\"0xc244d500136edffae7025aaf7fbd7a07193ac544a1d0cc3132cf2a32452d340c\",\"0x000000000000000000000000112759012aded6abebe47cc1500530d55639cc03\",\"0x00000000000000000000000058d605bfda2a2a1e141afefe5b3c8c093bef81b9\"],\"transactionHash\":\"0x143ae7a215abfd851eb1656ee4343b62a98bc4249ca84ee914a4dd0f3c1f92a2\",\"transactionIndex\":131}],\"logoUrl\":\"uploads/da97702c53d0f0519cf98fe730a77911\"}\n"
     ]
    }
   ],
   "source": [
    "# Attach token to agent \n",
    "import os \n",
    "agent_id = response['agent']['agent_id']\n",
    "attach_token = service.add_blockchain(agent_id)\n",
    "\n",
    "creds_resp = attach_token.create_eth_token(\n",
    "        privateKey=os.getenv(\"MY-PRIVATE-KEY\"),\n",
    "        token_name=\"aa45\",\n",
    "        symbol=\"app\",\n",
    "        buy_value_eth=0.001,\n",
    "        image_path=\"mytoken.png\"\n",
    ")\n"
   ]
  },
  {
   "cell_type": "code",
   "execution_count": 4,
   "metadata": {},
   "outputs": [
    {
     "name": "stdout",
     "output_type": "stream",
     "text": [
      "INFO     [root] 🛠️ Starting to create Solana token...\n",
      "INFO     [root] 📸 Uploading image from mytoken.png...\n",
      "INFO     [root] 🚀 Sending request to http://solana-toolkit-env.eba-mxurdvra.eu-west-1.elasticbeanstalk.com/pump/funder-create to create token aa49 (APP) with 0.001 SOL...\n",
      "INFO     [root] 🎉 Token aa49 created successfully with mint address BuC6srgq9KmEr1TqdwBPjZDWCVJNN3W3HUzf8eGRRstf.\n"
     ]
    }
   ],
   "source": [
    "# Attach solana token to agent \n",
    "import os \n",
    "agent_id = response['agent']['agent_id']\n",
    "attach_token = service.add_blockchain(agent_id)\n",
    "\n",
    "creds_resp = attach_token.create_solana_token(\n",
    "        funder_private_key=os.getenv(\"SOLANA_API_KEY\"),\n",
    "        amount_sol=0.001,  # Required only if using a new wallet\n",
    "        token_name=\"aa49\",\n",
    "        token_symbol=\"APP\",  # 🔥 Use 'token_symbol' instead of 'symbol'\n",
    "        token_description=\"This is a test token\",\n",
    "        twitter=\"https://twitter.com/myproject\",\n",
    "        telegram=\"https://t.me/myproject\",\n",
    "        website=\"https://myproject.com\",\n",
    "        image_path=\"mytoken.png\",\n",
    "        dev_buy=0.001,  # Amount of SOL for dev buy\n",
    "        use_new_wallet=False\n",
    ")"
   ]
  },
  {
   "cell_type": "code",
   "execution_count": null,
   "metadata": {},
   "outputs": [],
   "source": [
    "creds_resp = attach_token.create_eth_token(\n",
    "    privateKey=os.getenv(\"MY-PRIVATE-KEY\"),\n",
    "    token_name=\"aa45\",\n",
    "    symbol=\"app\",\n",
    "    buy_value_eth=0.001,\n",
    "    image_path=\"mytoken.png\",\n",
    ")"
   ]
  }
 ],
 "metadata": {
  "kernelspec": {
   "display_name": "newvenv",
   "language": "python",
   "name": "python3"
  },
  "language_info": {
   "codemirror_mode": {
    "name": "ipython",
    "version": 3
   },
   "file_extension": ".py",
   "mimetype": "text/x-python",
   "name": "python",
   "nbconvert_exporter": "python",
   "pygments_lexer": "ipython3",
   "version": "3.11.9"
  }
 },
 "nbformat": 4,
 "nbformat_minor": 2
}
