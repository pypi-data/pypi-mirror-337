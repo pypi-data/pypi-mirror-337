{
 "cells": [
  {
   "cell_type": "code",
   "id": "initial_id",
   "metadata": {
    "collapsed": true,
    "ExecuteTime": {
     "end_time": "2025-03-21T08:12:08.419629Z",
     "start_time": "2025-03-21T08:12:08.290829Z"
    }
   },
   "source": [
    "import pandas as pd\n",
    "import io\n",
    "import sys\n",
    "from sequenzo import *\n",
    "import time"
   ],
   "outputs": [],
   "execution_count": 2
  },
  {
   "metadata": {
    "ExecuteTime": {
     "end_time": "2025-03-21T08:12:10.198067Z",
     "start_time": "2025-03-21T08:12:10.114446Z"
    }
   },
   "cell_type": "code",
   "source": [
    "# 随机取样得到 detailed 的子数据集\n",
    "df = pd.read_csv('D:/college/research/QiQi/sequenzo/files/orignal data/detailed_sequence_10_work_years_df.csv')\n",
    "\n",
    "count = 5000\n",
    "while count < 39000:\n",
    "    sampled_df = df.sample(n=count, random_state=42)\n",
    "    sampled_df.to_csv(f\"D:/college/research/QiQi/sequenzo/files/sampled_datasets/detailded_data/sampled_{count}_data.csv\",\n",
    "                  index=False)\n",
    "    count += 5000"
   ],
   "id": "266eab517ae25536",
   "outputs": [],
   "execution_count": 3
  },
  {
   "metadata": {},
   "cell_type": "markdown",
   "source": "# Broad_Data",
   "id": "6480cc77ba7e7f62"
  },
  {
   "metadata": {},
   "cell_type": "code",
   "outputs": [],
   "execution_count": null,
   "source": [
    "# 计算时间\n",
    "def getTimesBroad(file):\n",
    "    df = pd.read_csv(file)\n",
    "    df = df[['worker_id', 'C1', 'C2', 'C3', 'C4', 'C5']]\n",
    "    _time = list(df.columns)[4:]\n",
    "    states = ['Non-computing', 'Non-technical computing', 'Technical computing']\n",
    "    \n",
    "    # get distance matrix\n",
    "    original_stdout = sys.stdout\n",
    "    sys.stdout = io.StringIO()\n",
    "    \n",
    "    data = SequenceData(df, time=_time, time_type=\"age\", id_col=\"worker_id\", states=states)\n",
    "    \n",
    "    start = time.time()\n",
    "    diss = get_distance_matrix(seqdata=data, method=\"OMspell\", sm=\"TRATE\", indel=\"auto\")\n",
    "    end = time.time()\n",
    "    print(f\"Time taken: {end - start}\")\n",
    "    \n",
    "    sys.stdout = original_stdout\n"
   ],
   "id": "2c0243f2bae11c9f"
  },
  {
   "metadata": {},
   "cell_type": "code",
   "outputs": [],
   "execution_count": null,
   "source": [
    "df = pd.read_csv('D:/college/research/QiQi/sequenzo/files/sampled_datasets/broad_data/sampled_5000_data.csv')\n",
    "\n",
    "getTimesBroad(df)"
   ],
   "id": "6eab4c1504dac889"
  },
  {
   "metadata": {},
   "cell_type": "markdown",
   "source": "# Detailed_Data",
   "id": "4de1116902344899"
  },
  {
   "metadata": {},
   "cell_type": "code",
   "outputs": [],
   "execution_count": null,
   "source": [
    "# 计算时间\n",
    "def getTimesDetailed(file):\n",
    "    df = pd.read_csv(file)\n",
    "    df = df[['worker_id', 'C1', 'C2', 'C3', 'C4', 'C5', 'C6', 'C7', 'C8', 'C9', 'C10']]\n",
    "    _time = list(df.columns)[4:]\n",
    "    states = ['data', 'data & intensive math', 'hardware', 'research', 'software', 'software & hardware', 'support & test']\n",
    "    \n",
    "    # get distance matrix\n",
    "    original_stdout = sys.stdout\n",
    "    sys.stdout = io.StringIO()\n",
    "        \n",
    "    data = SequenceData(df, time=_time, time_type=\"age\", id_col=\"worker_id\", states=states)\n",
    "    diss = get_distance_matrix(seqdata=data, method=\"OMspell\", sm=\"TRATE\", indel=\"auto\")\n",
    "        \n",
    "    sys.stdout = original_stdout"
   ],
   "id": "4403dd0cf6a69c04"
  },
  {
   "metadata": {},
   "cell_type": "code",
   "outputs": [],
   "execution_count": null,
   "source": [
    "df = pd.read_csv('D:/college/research/QiQi/sequenzo/files/sampled_datasets/detailded_data/sampled_1000_data.csv')\n",
    "\n",
    "getTimesDetailed(df)"
   ],
   "id": "13a20a0af006115a"
  },
  {
   "metadata": {},
   "cell_type": "markdown",
   "source": "# Plot",
   "id": "4069d73f3e7b5e04"
  },
  {
   "metadata": {},
   "cell_type": "code",
   "outputs": [],
   "execution_count": null,
   "source": "",
   "id": "9dfd1ab125aecde5"
  }
 ],
 "metadata": {
  "kernelspec": {
   "display_name": "Python 3",
   "language": "python",
   "name": "python3"
  },
  "language_info": {
   "codemirror_mode": {
    "name": "ipython",
    "version": 2
   },
   "file_extension": ".py",
   "mimetype": "text/x-python",
   "name": "python",
   "nbconvert_exporter": "python",
   "pygments_lexer": "ipython2",
   "version": "2.7.6"
  }
 },
 "nbformat": 4,
 "nbformat_minor": 5
}
