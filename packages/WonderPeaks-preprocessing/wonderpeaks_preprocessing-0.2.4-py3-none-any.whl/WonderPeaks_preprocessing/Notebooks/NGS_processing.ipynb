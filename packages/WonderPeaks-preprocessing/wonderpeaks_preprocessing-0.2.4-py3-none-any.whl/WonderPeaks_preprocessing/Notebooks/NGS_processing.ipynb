{
 "cells": [
  {
   "cell_type": "markdown",
   "metadata": {},
   "source": [
    "# Run code to process NGS reads"
   ]
  },
  {
   "cell_type": "code",
   "execution_count": 4,
   "metadata": {},
   "outputs": [],
   "source": [
    "# Imports\n",
    "import os\n",
    "import shutil\n",
    "import sys\n",
    "\n",
    "# adding modules to the system path\n",
    "\n",
    "# # --> directory points to directory for user_inputs.py\n",
    "# user_inputs_dir= os.path.join(\"/data/Megan/NGS_processing/preprocessing\")\n",
    "# print(user_inputs_dir)\n",
    "# sys.path.insert(0, user_inputs_dir)\n",
    "import WonderPeaks_preprocessing as WP\n",
    "from WonderPeaks_preprocessing.user_inputs import *\n",
    "from WonderPeaks_preprocessing.fastp import *\n",
    "from WonderPeaks_preprocessing.split_directories import *\n",
    "from WonderPeaks_preprocessing.QC import *\n",
    "from WonderPeaks_preprocessing.STAR_alignment import *\n",
    "from WonderPeaks_preprocessing.bamCoverage import *\n",
    "from WonderPeaks_preprocessing.feature_counts import *\n",
    "# import pandas as pd\n",
    "# import csv"
   ]
  },
  {
   "cell_type": "markdown",
   "metadata": {},
   "source": [
    "#### Example **quantseq** (RNA-seq by Poly-A priming)\n",
    "*Candida albicans* grown in BHI under hypoxic conditions"
   ]
  },
  {
   "cell_type": "code",
   "execution_count": 7,
   "metadata": {},
   "outputs": [
    {
     "name": "stdout",
     "output_type": "stream",
     "text": [
      "File already processed: /data/Megan/NGS_processing/Example_RNAseq_quant/fastp_output/data_R1/sample13_SC5314_1_S114_L004_R1_001_fastp_output.fastq.gz\n",
      "File already processed: /data/Megan/NGS_processing/Example_RNAseq_quant/fastp_output/data_R1/sample15_SC5314_3_S116_L004_R1_001_fastp_output.fastq.gz\n",
      "File already processed: /data/Megan/NGS_processing/Example_RNAseq_quant/fastp_output/data_R1/sample14_SC5314_2_S115_L004_R1_001_fastp_output.fastq.gz\n",
      "Star genome directory already created:  /data/Megan/NGS_processing/Example_RNAseq_quant/STAR_genome_directory\n",
      "Alignment file already processed: /data/Megan/NGS_processing/Example_RNAseq_quant/starout/sample15_SC5314_3_S116_L004_R1_001_fastp_output.fastq.gz_Aligned.sortedByCoord.out.bam\n",
      "Alignment file already processed: /data/Megan/NGS_processing/Example_RNAseq_quant/starout/sample13_SC5314_1_S114_L004_R1_001_fastp_output.fastq.gz_Aligned.sortedByCoord.out.bam\n",
      "Alignment file already processed: /data/Megan/NGS_processing/Example_RNAseq_quant/starout/sample14_SC5314_2_S115_L004_R1_001_fastp_output.fastq.gz_Aligned.sortedByCoord.out.bam\n",
      "Filtered file already processed: /data/Megan/NGS_processing/Example_RNAseq_quant/starout/sample15_SC5314_3_S116_L004_R1_001_fastp_output.fastq.gz_Aligned.sortedByCoord.out_above30.bam\n",
      "Index file already processed: /data/Megan/NGS_processing/Example_RNAseq_quant/starout/sample15_SC5314_3_S116_L004_R1_001_fastp_output.fastq.gz_Aligned.sortedByCoord.out_above30.bam.bai\n",
      "Filtered file already processed: /data/Megan/NGS_processing/Example_RNAseq_quant/starout/sample14_SC5314_2_S115_L004_R1_001_fastp_output.fastq.gz_Aligned.sortedByCoord.out_above30.bam\n",
      "Index file already processed: /data/Megan/NGS_processing/Example_RNAseq_quant/starout/sample14_SC5314_2_S115_L004_R1_001_fastp_output.fastq.gz_Aligned.sortedByCoord.out_above30.bam.bai\n",
      "Filtered file already processed: /data/Megan/NGS_processing/Example_RNAseq_quant/starout/sample13_SC5314_1_S114_L004_R1_001_fastp_output.fastq.gz_Aligned.sortedByCoord.out_above30.bam\n",
      "Index file already processed: /data/Megan/NGS_processing/Example_RNAseq_quant/starout/sample13_SC5314_1_S114_L004_R1_001_fastp_output.fastq.gz_Aligned.sortedByCoord.out_above30.bam.bai\n"
     ]
    }
   ],
   "source": [
    "# alignments and QC from fastq files\n",
    "directory = \"/data/Megan/NGS_processing/Example_RNAseq_quant\"\n",
    "User_inputs_dict = initiate_user_inputs(directory)\n",
    "User_inputs_dict\n",
    "split_files_by_suffix(directory, reads = User_inputs_dict[\"reads\"] )\n",
    "\n",
    "Run_fastp(directory, librarykit= User_inputs_dict[\"librarykit\"], \n",
    "    adapter_sequence=User_inputs_dict[\"adapter_sequence\"], \n",
    "    rerun=False, \n",
    "    reads = User_inputs_dict['reads']\n",
    "    )\n",
    "\n",
    "FastQC(directory, reads = User_inputs_dict[\"reads\"], rerun=False)\n",
    "multiQC(directory, rerun=False)\n",
    "STAR(directory, User_inputs_dict, \n",
    "       ).STAR_alignment()\n"
   ]
  },
  {
   "cell_type": "code",
   "execution_count": 3,
   "metadata": {},
   "outputs": [
    {
     "name": "stdout",
     "output_type": "stream",
     "text": [
      "File already processed: /data/Megan/NGS_processing/Example_RNAseq_quant_WOR1/bedgraphout/sample14_SC5314_2_S115_L004_R1_001_fastp_output.fastq.gz_Aligned.sortedByCoord.out_above30_rev.bedgraph\n",
      "File already processed: /data/Megan/NGS_processing/Example_RNAseq_quant_WOR1/bedgraphout/sample9_yHG113_3_S110_L004_R1_001_fastp_output.fastq.gz_Aligned.sortedByCoord.out_above30_rev.bedgraph\n",
      "File already processed: /data/Megan/NGS_processing/Example_RNAseq_quant_WOR1/bedgraphout/sample8_yHG112_2_S109_L004_R1_001_fastp_output.fastq.gz_Aligned.sortedByCoord.out_above30_rev.bedgraph\n",
      "File already processed: /data/Megan/NGS_processing/Example_RNAseq_quant_WOR1/bedgraphout/sample15_SC5314_3_S116_L004_R1_001_fastp_output.fastq.gz_Aligned.sortedByCoord.out_above30_rev.bedgraph\n",
      "File already processed: /data/Megan/NGS_processing/Example_RNAseq_quant_WOR1/bedgraphout/sample7_yHG112_1_S108_L004_R1_001_fastp_output.fastq.gz_Aligned.sortedByCoord.out_above30_rev.bedgraph\n",
      "File already processed: /data/Megan/NGS_processing/Example_RNAseq_quant_WOR1/bedgraphout/sample13_SC5314_1_S114_L004_R1_001_fastp_output.fastq.gz_Aligned.sortedByCoord.out_above30_rev.bedgraph\n",
      "File already processed: /data/Megan/NGS_processing/Example_RNAseq_quant_WOR1/bedgraphout/sample14_SC5314_2_S115_L004_R1_001_fastp_output.fastq.gz_Aligned.sortedByCoord.out_above30_fwd.bedgraph\n",
      "File already processed: /data/Megan/NGS_processing/Example_RNAseq_quant_WOR1/bedgraphout/sample9_yHG113_3_S110_L004_R1_001_fastp_output.fastq.gz_Aligned.sortedByCoord.out_above30_fwd.bedgraph\n",
      "File already processed: /data/Megan/NGS_processing/Example_RNAseq_quant_WOR1/bedgraphout/sample8_yHG112_2_S109_L004_R1_001_fastp_output.fastq.gz_Aligned.sortedByCoord.out_above30_fwd.bedgraph\n",
      "File already processed: /data/Megan/NGS_processing/Example_RNAseq_quant_WOR1/bedgraphout/sample15_SC5314_3_S116_L004_R1_001_fastp_output.fastq.gz_Aligned.sortedByCoord.out_above30_fwd.bedgraph\n",
      "File already processed: /data/Megan/NGS_processing/Example_RNAseq_quant_WOR1/bedgraphout/sample7_yHG112_1_S108_L004_R1_001_fastp_output.fastq.gz_Aligned.sortedByCoord.out_above30_fwd.bedgraph\n",
      "File already processed: /data/Megan/NGS_processing/Example_RNAseq_quant_WOR1/bedgraphout/sample13_SC5314_1_S114_L004_R1_001_fastp_output.fastq.gz_Aligned.sortedByCoord.out_above30_fwd.bedgraph\n"
     ]
    },
    {
     "name": "stderr",
     "output_type": "stream",
     "text": [
      "/data/Megan/NGS_processing/preprocessing/bamCoverage.py:20: FutureWarning: The 'delim_whitespace' keyword in pd.read_csv is deprecated and will be removed in a future version. Use ``sep='\\s+'`` instead\n",
      "  metadata = pd.read_csv(meta_file_path,\n",
      "/data/Megan/NGS_processing/preprocessing/bamCoverage.py:20: FutureWarning: The 'delim_whitespace' keyword in pd.read_csv is deprecated and will be removed in a future version. Use ``sep='\\s+'`` instead\n",
      "  metadata = pd.read_csv(meta_file_path,\n"
     ]
    }
   ],
   "source": [
    "directory = \"/data/Megan/NGS_processing/Example_RNAseq_quant_WOR1\"\n",
    "User_inputs_dict = initiate_user_inputs(directory)\n",
    "# For quantseq, run bamCoverage for PeakStream usage\n",
    "if User_inputs_dict[\"librarykit\"] == \"QuantSeq\":\n",
    "    for strand in [\"forward\", \"reverse\"]:\n",
    "        bamCoverage(\n",
    "            directory, \n",
    "            outfileformat=\"bedgraph\", \n",
    "            User_inputs_dict=User_inputs_dict, \n",
    "            strand=strand, \n",
    "            binSize=20, \n",
    "            smoothLength=None, \n",
    "            minMappingQuality=255, \n",
    "            normalizeUsing=None, \n",
    "            staroutDir=None\n",
    "        )"
   ]
  },
  {
   "cell_type": "code",
   "execution_count": 9,
   "metadata": {},
   "outputs": [
    {
     "name": "stdout",
     "output_type": "stream",
     "text": [
      "File already processed: /data/Megan/NGS_processing/Example_RNAseq_quant/bedgraphout/sample14_SC5314_2_S115_L004_R1_001_fastp_output.fastq.gz_Aligned.sortedByCoord.out_above30_rev.bedgraph\n",
      "File already processed: /data/Megan/NGS_processing/Example_RNAseq_quant/bedgraphout/sample15_SC5314_3_S116_L004_R1_001_fastp_output.fastq.gz_Aligned.sortedByCoord.out_above30_rev.bedgraph\n",
      "File already processed: /data/Megan/NGS_processing/Example_RNAseq_quant/bedgraphout/sample13_SC5314_1_S114_L004_R1_001_fastp_output.fastq.gz_Aligned.sortedByCoord.out_above30_rev.bedgraph\n",
      "File already processed: /data/Megan/NGS_processing/Example_RNAseq_quant/bedgraphout/sample14_SC5314_2_S115_L004_R1_001_fastp_output.fastq.gz_Aligned.sortedByCoord.out_above30_fwd.bedgraph\n",
      "File already processed: /data/Megan/NGS_processing/Example_RNAseq_quant/bedgraphout/sample15_SC5314_3_S116_L004_R1_001_fastp_output.fastq.gz_Aligned.sortedByCoord.out_above30_fwd.bedgraph\n",
      "File already processed: /data/Megan/NGS_processing/Example_RNAseq_quant/bedgraphout/sample13_SC5314_1_S114_L004_R1_001_fastp_output.fastq.gz_Aligned.sortedByCoord.out_above30_fwd.bedgraph\n"
     ]
    }
   ],
   "source": [
    "directory = \"/data/Megan/NGS_processing/Example_RNAseq_quant\"\n",
    "User_inputs_dict = initiate_user_inputs(directory)\n",
    "# For quantseq, run bamCoverage for PeakStream usage\n",
    "if User_inputs_dict[\"librarykit\"] == \"QuantSeq\":\n",
    "    for strand in [\"forward\", \"reverse\"]:\n",
    "        bamCoverage(\n",
    "            directory, \n",
    "            outfileformat=\"bedgraph\", \n",
    "            User_inputs_dict=User_inputs_dict, \n",
    "            strand=strand, \n",
    "            binSize=20, \n",
    "            smoothLength=None, \n",
    "            minMappingQuality=255, \n",
    "            normalizeUsing=None, \n",
    "            staroutDir=None\n",
    "        )"
   ]
  },
  {
   "cell_type": "markdown",
   "metadata": {},
   "source": [
    "###  Example **Corrall** (total RNA-seq)\n",
    "*Candida albicans* grown in BHI under hypoxic conditions"
   ]
  },
  {
   "cell_type": "code",
   "execution_count": 5,
   "metadata": {},
   "outputs": [
    {
     "name": "stdout",
     "output_type": "stream",
     "text": [
      "File already processed: /data/Megan/NGS_processing/Example_RNAseq_total/fastp_output/data_R1/sample14_SC5314_2_S133_L007_R1_001_fastp_output.fastq.gz\n",
      "File already processed: /data/Megan/NGS_processing/Example_RNAseq_total/fastp_output/data_R1/sample15_SC5314_3_S134_L007_R1_001_fastp_output.fastq.gz\n",
      "File already processed: /data/Megan/NGS_processing/Example_RNAseq_total/fastp_output/data_R1/sample13_SC5314_1_S132_L007_R1_001_fastp_output.fastq.gz\n",
      "Star genome directory already created:  /data/Megan/NGS_processing/Example_RNAseq_total/STAR_genome_directory\n",
      "Alignment file already processed: /data/Megan/NGS_processing/Example_RNAseq_total/starout/sample14_SC5314_2_S133_L007_R1_001_fastp_output.fastq.gz_Aligned.sortedByCoord.out.bam\n",
      "Alignment file already processed: /data/Megan/NGS_processing/Example_RNAseq_total/starout/sample15_SC5314_3_S134_L007_R1_001_fastp_output.fastq.gz_Aligned.sortedByCoord.out.bam\n",
      "Alignment file already processed: /data/Megan/NGS_processing/Example_RNAseq_total/starout/sample13_SC5314_1_S132_L007_R1_001_fastp_output.fastq.gz_Aligned.sortedByCoord.out.bam\n"
     ]
    },
    {
     "data": {
      "text/plain": [
       "'/data/Megan/NGS_processing/Example_RNAseq_total/featurecounts/gene_STAR_counts-protein_coding.txt'"
      ]
     },
     "execution_count": 5,
     "metadata": {},
     "output_type": "execute_result"
    }
   ],
   "source": [
    "directory = os.path.join(os.getcwd(), \"Example_RNAseq_total\")\n",
    "User_inputs_dict = initiate_user_inputs(directory)\n",
    "split_files_by_suffix(directory, reads = User_inputs_dict[\"reads\"] )\n",
    "\n",
    "Run_fastp(directory, librarykit= User_inputs_dict[\"librarykit\"], \n",
    "    adapter_sequence=User_inputs_dict[\"adapter_sequence\"], \n",
    "    rerun=False, \n",
    "    reads = User_inputs_dict['reads']\n",
    "    )\n",
    "\n",
    "FastQC(directory, reads = User_inputs_dict[\"reads\"], rerun=False)\n",
    "multiQC(directory, rerun=False)\n",
    "STAR(directory, User_inputs_dict, \n",
    "       ).STAR_alignment()\n",
    "\n",
    "featurecounts_file = featurecounts(directory, User_inputs_dict, s=1, t=\"gene\", T=20, \n",
    "                  stardir=\"starout\", featurecounts_subDir=\"featurecounts\")\n",
    "featurecounts_biotype(featurecounts_file, gene_biotypes = \"protein_coding\", t=\"gene\")\n"
   ]
  },
  {
   "cell_type": "code",
   "execution_count": 5,
   "metadata": {},
   "outputs": [
    {
     "name": "stdout",
     "output_type": "stream",
     "text": [
      "File already processed: /data/Megan/NGS_processing/Example_RNAseq_total/bedgraphout/sample14_SC5314_2_S133_L007_R1_001_fastp_output.fastq.gz_Aligned.sortedByCoord.out_rev.bedgraph\n",
      "File already processed: /data/Megan/NGS_processing/Example_RNAseq_total/bedgraphout/sample13_SC5314_1_S132_L007_R1_001_fastp_output.fastq.gz_Aligned.sortedByCoord.out_rev.bedgraph\n",
      "File already processed: /data/Megan/NGS_processing/Example_RNAseq_total/bedgraphout/sample15_SC5314_3_S134_L007_R1_001_fastp_output.fastq.gz_Aligned.sortedByCoord.out_rev.bedgraph\n",
      "File already processed: /data/Megan/NGS_processing/Example_RNAseq_total/bedgraphout/sample14_SC5314_2_S133_L007_R1_001_fastp_output.fastq.gz_Aligned.sortedByCoord.out_fwd.bedgraph\n",
      "File already processed: /data/Megan/NGS_processing/Example_RNAseq_total/bedgraphout/sample13_SC5314_1_S132_L007_R1_001_fastp_output.fastq.gz_Aligned.sortedByCoord.out_fwd.bedgraph\n",
      "File already processed: /data/Megan/NGS_processing/Example_RNAseq_total/bedgraphout/sample15_SC5314_3_S134_L007_R1_001_fastp_output.fastq.gz_Aligned.sortedByCoord.out_fwd.bedgraph\n"
     ]
    }
   ],
   "source": [
    "directory = \"/data/Megan/NGS_processing/Example_RNAseq_total\"\n",
    "User_inputs_dict = initiate_user_inputs(directory)\n",
    "# For quantseq, run bamCoverage for PeakStream usage\n",
    "for strand in [\"forward\", \"reverse\"]:\n",
    "    bamCoverage(\n",
    "        directory, \n",
    "        outfileformat=\"bedgraph\", \n",
    "        User_inputs_dict=User_inputs_dict, \n",
    "        strand=strand, \n",
    "        binSize=20, \n",
    "        smoothLength=None, \n",
    "        minMappingQuality=255, \n",
    "        normalizeUsing=None, \n",
    "        staroutDir=None\n",
    "    )"
   ]
  },
  {
   "cell_type": "markdown",
   "metadata": {},
   "source": [
    "### Example **ChIPseq**\n",
    "\n",
    "| Field                 | Value                                                         |\n",
    "|-----------------------|---------------------------------------------------------------|\n",
    "| BioProject            | PRJNA302905                                                  |\n",
    "| Consent               | public                                                       |\n",
    "| Assay Type            | ChIP-Seq                                                     |\n",
    "| AvgSpotLen            | 51                                                           |\n",
    "| Center Name           | GEO                                                          |\n",
    "| chip_antibody         | Living Colors Full-Length GFP Polyclonal                     |\n",
    "| DATASTORE filetype    | fastq, run.zq, sra                                           |\n",
    "| DATASTORE provider    | gs, ncbi, s3                                                 |\n",
    "| DATASTORE region      | gs.us-east1, ncbi.public, s3.us-east-1                       |\n",
    "| Instrument            | Illumina HiSeq 2500                                          |\n",
    "| LibraryLayout         | SINGLE                                                       |\n",
    "| LibrarySelection      | ChIP                                                        |\n",
    "| LibrarySource         | GENOMIC                                                      |\n",
    "| media_condition       | SD+aa+Uri, 25°C                                              |\n",
    "| Organism              | Candida albicans                                             |\n",
    "| Platform              | ILLUMINA                                                    |\n",
    "| ReleaseDate           | 2016-01-11                                                  |\n",
    "| version               | 1                                                            |\n",
    "| SRA Study             | SRP066491                                                   |\n",
    "\n",
    "\n",
    "#### Data from:\n",
    "Lohse, Matthew B, and Alexander D Johnson. “Identification and Characterization of Wor4, a New Transcriptional Regulator of White-Opaque Switching.” G3 (Bethesda, Md.) vol. 6,3 721-9. 15 Jan. 2016, doi:10.1534/g3.115.024885\n",
    "\n",
    "\n",
    "***Note**: For the purposes of proof of concpet, we are using one of the untagged samples as an input control. Always prepare an input for this type of experiment*"
   ]
  },
  {
   "cell_type": "code",
   "execution_count": 6,
   "metadata": {},
   "outputs": [
    {
     "data": {
      "text/plain": [
       "'/data/Megan/NGS_processing'"
      ]
     },
     "execution_count": 6,
     "metadata": {},
     "output_type": "execute_result"
    }
   ],
   "source": [
    "pwd"
   ]
  },
  {
   "cell_type": "code",
   "execution_count": 6,
   "metadata": {},
   "outputs": [],
   "source": [
    "directory = os.path.join(os.getcwd(), \"Example_ChIPseq\")\n",
    "\n",
    "# data downloaded from using faserqdump\n",
    "\n",
    "# use this code to generate commands.\n",
    "# do not run commands through this loop\n",
    "# run commands one at a time!\n",
    "# take breaks between commands bc fasterq-dump is taxing on computer\n",
    "\n",
    "ChiP_meta_data = pd.read_csv(os.path.join(directory, \"SraRunTable_SRP066491.csv\"), index_col =False)\n",
    "\n",
    "raw_data_directory= os.path.join(directory, \"raw_data\") \n",
    "rawdata_filenames = []\n",
    "for Run, Sample_Name, Cell_type in zip(ChiP_meta_data[\"Run\"], ChiP_meta_data[\"Sample_Name\"], ChiP_meta_data[\"Cell_type\"]):\n",
    "\n",
    "    fasterqdump_cmd = [\n",
    "        \"fasterq-dump\", Run,\n",
    "        \"-O\", raw_data_directory,\n",
    "        \"-p\"\n",
    "    ]\n",
    "    fasterqdump_cmd\n",
    "    \n",
    "    \n",
    "\n",
    "    file_name = os.path.join(raw_data_directory, f\"{Run}.fastq\")\n",
    "    updated_file_name = os.path.join(raw_data_directory, f\"{Run}_{Cell_type}_{Sample_Name}_R1.fastq\")\n",
    "    rawdata_filenames.append(updated_file_name)\n",
    "    if os.path.isfile(updated_file_name):\n",
    "        \n",
    "        \n",
    "        continue\n",
    "ChiP_meta_data[\"rawdata_filename\"] = rawdata_filenames\n",
    "ChiP_meta_data.to_csv(os.path.join(directory, \"NGS_user_metadata.csv\"), index=False)\n",
    "    # print(\"Running command:\", \" \".join(fasterqdump_cmd))\n",
    "    # print(file_name, updated_file_name)\n",
    "    # os.rename(file_name, updated_file_name)\n",
    "\n"
   ]
  },
  {
   "cell_type": "code",
   "execution_count": 5,
   "metadata": {},
   "outputs": [
    {
     "name": "stdout",
     "output_type": "stream",
     "text": [
      "/data/Megan/NGS_processing\n"
     ]
    }
   ],
   "source": [
    "!pwd"
   ]
  },
  {
   "cell_type": "code",
   "execution_count": 8,
   "metadata": {},
   "outputs": [
    {
     "name": "stdout",
     "output_type": "stream",
     "text": [
      "File already processed: /data/Megan/NGS_processing/Example_ChIPseq/fastp_output/data_R1/SRR2939038_Op_tagged_2_R1_fastp_output.fastq\n",
      "File already processed: /data/Megan/NGS_processing/Example_ChIPseq/fastp_output/data_R1/SRR2939035_Wh_tagged_2_R1_fastp_output.fastq\n",
      "File already processed: /data/Megan/NGS_processing/Example_ChIPseq/fastp_output/data_R1/SRR2939031_Op_untagged_control_1_R1_fastp_output.fastq\n",
      "File already processed: /data/Megan/NGS_processing/Example_ChIPseq/fastp_output/data_R1/SRR2939037_Op_tagged_1_R1_fastp_output.fastq\n",
      "File already processed: /data/Megan/NGS_processing/Example_ChIPseq/fastp_output/data_R1/SRR2939028_Wh_untagged_control_1_R1_fastp_output.fastq\n",
      "File already processed: /data/Megan/NGS_processing/Example_ChIPseq/fastp_output/data_R1/SRR2939039_Op_tagged_3_R1_fastp_output.fastq\n",
      "File already processed: /data/Megan/NGS_processing/Example_ChIPseq/fastp_output/data_R1/SRR2939029_Wh_untagged_control_2_R1_fastp_output.fastq\n",
      "File already processed: /data/Megan/NGS_processing/Example_ChIPseq/fastp_output/data_R1/SRR2939033_Op_untagged_control_3_R1_fastp_output.fastq\n",
      "File already processed: /data/Megan/NGS_processing/Example_ChIPseq/fastp_output/data_R1/SRR2939030_Wh_untagged_control_3_R1_fastp_output.fastq\n",
      "File already processed: /data/Megan/NGS_processing/Example_ChIPseq/fastp_output/data_R1/SRR2939034_Wh_tagged_1_R1_fastp_output.fastq\n",
      "File already processed: /data/Megan/NGS_processing/Example_ChIPseq/fastp_output/data_R1/SRR2939032_Op_untagged_control_2_R1_fastp_output.fastq\n",
      "File already processed: /data/Megan/NGS_processing/Example_ChIPseq/fastp_output/data_R1/SRR2939036_Wh_tagged_3_R1_fastp_output.fastq\n",
      "Star genome directory already created:  /data/Megan/NGS_processing/Example_ChIPseq/STAR_genome_directory\n",
      "Alignment file already processed: /data/Megan/NGS_processing/Example_ChIPseq/starout/SRR2939032_Op_untagged_control_2_R1_fastp_output.fastq_Aligned.sortedByCoord.out.bam\n",
      "Alignment file already processed: /data/Megan/NGS_processing/Example_ChIPseq/starout/SRR2939031_Op_untagged_control_1_R1_fastp_output.fastq_Aligned.sortedByCoord.out.bam\n",
      "Alignment file already processed: /data/Megan/NGS_processing/Example_ChIPseq/starout/SRR2939033_Op_untagged_control_3_R1_fastp_output.fastq_Aligned.sortedByCoord.out.bam\n",
      "Alignment file already processed: /data/Megan/NGS_processing/Example_ChIPseq/starout/SRR2939028_Wh_untagged_control_1_R1_fastp_output.fastq_Aligned.sortedByCoord.out.bam\n",
      "Alignment file already processed: /data/Megan/NGS_processing/Example_ChIPseq/starout/SRR2939030_Wh_untagged_control_3_R1_fastp_output.fastq_Aligned.sortedByCoord.out.bam\n",
      "Alignment file already processed: /data/Megan/NGS_processing/Example_ChIPseq/starout/SRR2939035_Wh_tagged_2_R1_fastp_output.fastq_Aligned.sortedByCoord.out.bam\n",
      "Alignment file already processed: /data/Megan/NGS_processing/Example_ChIPseq/starout/SRR2939029_Wh_untagged_control_2_R1_fastp_output.fastq_Aligned.sortedByCoord.out.bam\n",
      "Alignment file already processed: /data/Megan/NGS_processing/Example_ChIPseq/starout/SRR2939039_Op_tagged_3_R1_fastp_output.fastq_Aligned.sortedByCoord.out.bam\n",
      "Alignment file already processed: /data/Megan/NGS_processing/Example_ChIPseq/starout/SRR2939034_Wh_tagged_1_R1_fastp_output.fastq_Aligned.sortedByCoord.out.bam\n",
      "Alignment file already processed: /data/Megan/NGS_processing/Example_ChIPseq/starout/SRR2939038_Op_tagged_2_R1_fastp_output.fastq_Aligned.sortedByCoord.out.bam\n",
      "Alignment file already processed: /data/Megan/NGS_processing/Example_ChIPseq/starout/SRR2939037_Op_tagged_1_R1_fastp_output.fastq_Aligned.sortedByCoord.out.bam\n",
      "Alignment file already processed: /data/Megan/NGS_processing/Example_ChIPseq/starout/SRR2939036_Wh_tagged_3_R1_fastp_output.fastq_Aligned.sortedByCoord.out.bam\n"
     ]
    }
   ],
   "source": [
    "\n",
    "\n",
    "User_inputs_dict = initiate_user_inputs(directory)\n",
    "split_files_by_suffix(directory, reads = User_inputs_dict[\"reads\"] )\n",
    "\n",
    "Run_fastp(directory, librarykit= User_inputs_dict[\"librarykit\"], \n",
    "    adapter_sequence=User_inputs_dict[\"adapter_sequence\"], \n",
    "    rerun=False, \n",
    "    reads = User_inputs_dict['reads']\n",
    "    )\n",
    "\n",
    "FastQC(directory, reads = User_inputs_dict[\"reads\"], \n",
    "       rerun=False\n",
    "       )\n",
    "multiQC(directory, \n",
    "        rerun=False\n",
    "        )\n",
    "STAR(directory, User_inputs_dict, \n",
    "       ).STAR_alignment()\n"
   ]
  },
  {
   "cell_type": "code",
   "execution_count": 9,
   "metadata": {},
   "outputs": [
    {
     "name": "stdout",
     "output_type": "stream",
     "text": [
      "File already processed: /data/Megan/NGS_processing/Example_ChIPseq/bedgraphout/normalizeUsingCPM/SRR2939032_Op_untagged_control_2_R1_fastp_output.fastq_Aligned.sortedByCoord.out_CPM.bedgraph\n",
      "File already processed: /data/Megan/NGS_processing/Example_ChIPseq/bedgraphout/normalizeUsingCPM/SRR2939029_Wh_untagged_control_2_R1_fastp_output.fastq_Aligned.sortedByCoord.out_CPM.bedgraph\n",
      "File already processed: /data/Megan/NGS_processing/Example_ChIPseq/bedgraphout/normalizeUsingCPM/SRR2939028_Wh_untagged_control_1_R1_fastp_output.fastq_Aligned.sortedByCoord.out_CPM.bedgraph\n",
      "File already processed: /data/Megan/NGS_processing/Example_ChIPseq/bedgraphout/normalizeUsingCPM/SRR2939031_Op_untagged_control_1_R1_fastp_output.fastq_Aligned.sortedByCoord.out_CPM.bedgraph\n",
      "File already processed: /data/Megan/NGS_processing/Example_ChIPseq/bedgraphout/normalizeUsingCPM/SRR2939034_Wh_tagged_1_R1_fastp_output.fastq_Aligned.sortedByCoord.out_CPM.bedgraph\n",
      "File already processed: /data/Megan/NGS_processing/Example_ChIPseq/bedgraphout/normalizeUsingCPM/SRR2939038_Op_tagged_2_R1_fastp_output.fastq_Aligned.sortedByCoord.out_CPM.bedgraph\n",
      "File already processed: /data/Megan/NGS_processing/Example_ChIPseq/bedgraphout/normalizeUsingCPM/SRR2939037_Op_tagged_1_R1_fastp_output.fastq_Aligned.sortedByCoord.out_CPM.bedgraph\n",
      "File already processed: /data/Megan/NGS_processing/Example_ChIPseq/bedgraphout/normalizeUsingCPM/SRR2939035_Wh_tagged_2_R1_fastp_output.fastq_Aligned.sortedByCoord.out_CPM.bedgraph\n",
      "File already processed: /data/Megan/NGS_processing/Example_ChIPseq/bedgraphout/normalizeUsingCPM/SRR2939033_Op_untagged_control_3_R1_fastp_output.fastq_Aligned.sortedByCoord.out_CPM.bedgraph\n",
      "File already processed: /data/Megan/NGS_processing/Example_ChIPseq/bedgraphout/normalizeUsingCPM/SRR2939030_Wh_untagged_control_3_R1_fastp_output.fastq_Aligned.sortedByCoord.out_CPM.bedgraph\n",
      "File already processed: /data/Megan/NGS_processing/Example_ChIPseq/bedgraphout/normalizeUsingCPM/SRR2939036_Wh_tagged_3_R1_fastp_output.fastq_Aligned.sortedByCoord.out_CPM.bedgraph\n",
      "File already processed: /data/Megan/NGS_processing/Example_ChIPseq/bedgraphout/normalizeUsingCPM/SRR2939039_Op_tagged_3_R1_fastp_output.fastq_Aligned.sortedByCoord.out_CPM.bedgraph\n"
     ]
    }
   ],
   "source": [
    "# run bamCoverage using CPM normalization on each file\n",
    "bamCoverage(\n",
    "            directory, \n",
    "            outfileformat=\"bedgraph\", \n",
    "            User_inputs_dict=User_inputs_dict, \n",
    "            strand=None, \n",
    "            binSize=20, \n",
    "            smoothLength=60, \n",
    "            minMappingQuality=255, \n",
    "            normalizeUsing=\"CPM\", \n",
    "            staroutDir=None\n",
    "        )"
   ]
  },
  {
   "cell_type": "code",
   "execution_count": null,
   "metadata": {},
   "outputs": [],
   "source": []
  }
 ],
 "metadata": {
  "kernelspec": {
   "display_name": "test_package_install",
   "language": "python",
   "name": "python3"
  },
  "language_info": {
   "codemirror_mode": {
    "name": "ipython",
    "version": 3
   },
   "file_extension": ".py",
   "mimetype": "text/x-python",
   "name": "python",
   "nbconvert_exporter": "python",
   "pygments_lexer": "ipython3",
   "version": "3.13.1"
  }
 },
 "nbformat": 4,
 "nbformat_minor": 2
}
