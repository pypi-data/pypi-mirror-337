{
 "cells": [
  {
   "cell_type": "markdown",
   "metadata": {},
   "source": [
    "# [Feature Name]\n",
    "***TRY DB Extraction***"
   ]
  },
  {
   "cell_type": "code",
   "execution_count": null,
   "metadata": {},
   "outputs": [],
   "source": [
    "# IMPORTS\n",
    "import TRYpros\n",
    "import numpy as np\n",
    "import pandas as pd\n",
    "# Set pandas to show all columns.\n",
    "pd.set_option(\"display.max_columns\", None) "
   ]
  },
  {
   "cell_type": "code",
   "execution_count": 2,
   "metadata": {},
   "outputs": [],
   "source": [
    "# EXTENSIONS\n",
    "# Automatically reload external imported files \n",
    "# when their content changes.\n",
    "%load_ext autoreload\n",
    "%autoreload 2"
   ]
  },
  {
   "cell_type": "markdown",
   "metadata": {},
   "source": [
    "## 1. Prepare Environment"
   ]
  },
  {
   "cell_type": "code",
   "execution_count": 3,
   "metadata": {},
   "outputs": [],
   "source": [
    "# SETTINGS\n",
    "pd.set_option(\"display.max_columns\", None) # Set pandas to show all columns."
   ]
  },
  {
   "cell_type": "code",
   "execution_count": null,
   "metadata": {},
   "outputs": [],
   "source": [
    "# CONSTANTS\n",
    "DATA_DIR = \"/path/to/directory/containing/raw/try/data\"\n",
    "PATH_SRC = f\"{DATA_DIR}/path/to/specific/file.txt\"\n",
    "PATH_DST = f\"/path/to/directory/in/which/to/save/extracted/data\"\n",
    "FEATURE_NAME = \"a_suitable_name_for_file_contents\"\n",
    "FEATURE_TYPE = \"str\" # also may be \"float\" or \"int\"\n",
    "PATH_REF = \"./dataset_ids.txt\"\n",
    "DROP_COLS = [\"LastName\", \"FirstName\", \"Dataset\", \"Reference\", \n",
    "             \"Replicates\", \"SpeciesName\", \"ValueKindName\",\n",
    "             \"OrigUncertaintyStr\", \"UncertaintyName\",\n",
    "             \"RelUncertaintyPercent\"] # Columns to ignore from the TRY DB.\n",
    "\n",
    "# DEFINE FEATURE HANDLER\n",
    "FH = TRYpros.FeatureHandler(\n",
    "    path_src=PATH_SRC, path_ref=PATH_REF,\n",
    "    feature_name=FEATURE_NAME, d_type=FEATURE_TYPE)"
   ]
  },
  {
   "cell_type": "markdown",
   "metadata": {},
   "source": [
    "## 2. Load Data"
   ]
  },
  {
   "cell_type": "code",
   "execution_count": null,
   "metadata": {},
   "outputs": [],
   "source": [
    "# LOAD DATA\n",
    "FH.load_big_data(drop_cols=DROP_COLS)"
   ]
  },
  {
   "cell_type": "markdown",
   "metadata": {},
   "source": [
    "## 3. Process Trait Data"
   ]
  },
  {
   "cell_type": "markdown",
   "metadata": {},
   "source": [
    "### 2.1. ID Review"
   ]
  },
  {
   "cell_type": "code",
   "execution_count": null,
   "metadata": {},
   "outputs": [],
   "source": [
    "# VIEW KNOWN IDS\n",
    "print(f\"Keep IDs = {FH.keep_ids[\"trait\"]}\")\n",
    "FH.known_ids[\"trait\"]"
   ]
  },
  {
   "cell_type": "markdown",
   "metadata": {},
   "source": [
    "### 2.2. Extract Data"
   ]
  },
  {
   "cell_type": "code",
   "execution_count": null,
   "metadata": {},
   "outputs": [],
   "source": [
    "# EXTRACT TRAIT DATA & COVARIATE DATA (METADATA)\n",
    "FH.extract_trait_covariate_data()"
   ]
  },
  {
   "cell_type": "markdown",
   "metadata": {},
   "source": [
    "### 2.3. Manual Investigation"
   ]
  },
  {
   "cell_type": "code",
   "execution_count": null,
   "metadata": {},
   "outputs": [],
   "source": [
    "# QUESTION: Are values numeric/categorical? What forms are they in?\n",
    "FH.view_units_value_forms(data_type=\"trait\")"
   ]
  },
  {
   "cell_type": "code",
   "execution_count": null,
   "metadata": {},
   "outputs": [],
   "source": [
    "# QUESTION: What contextual information is available?\n",
    "FH.get_context(FH.data_trait[\"non_std\"])"
   ]
  },
  {
   "cell_type": "code",
   "execution_count": null,
   "metadata": {},
   "outputs": [],
   "source": [
    "# QUESTION: What does data associated with specific value forms look like?\n",
    "FH.get_unique_matches(\n",
    "    data=FH.data_trait[\"non_std\"],\n",
    "    match_col='value_form',\n",
    "    to_match=[\"na\", \"/\", \".\", \"-\"])"
   ]
  },
  {
   "cell_type": "code",
   "execution_count": null,
   "metadata": {},
   "outputs": [],
   "source": [
    "# ASK YOUR QUESTIONS ..."
   ]
  },
  {
   "cell_type": "markdown",
   "metadata": {},
   "source": [
    "### 2.4. Define & Apply Transformation Functions"
   ]
  },
  {
   "cell_type": "code",
   "execution_count": null,
   "metadata": {},
   "outputs": [],
   "source": [
    "# DEFINE DATA TRANSFORMATIONS\n",
    "def example_unit_standardization_function(r):\n",
    "    \"\"\" Maps alternate unit notations to one standard notation. \"\"\"\n",
    "    unit = r.OrigUnitStr\n",
    "    if unit == unit: # Not NaN.\n",
    "        if unit in [\"mm2 mg-1\", \"mm2/mg\"]: \n",
    "            return \"mm^{2}mg^{-1}\"\n",
    "        if unit in ['m2/kg', 'm2 kg-1']:\n",
    "            return \"m^{1}kg^{-1}\"\n",
    "        if unit in ['cm2/g']:\n",
    "            return 'cm^{2}g^{-1}'\n",
    "        if unit in ['g/cm2', \"(g/cm2)\"]:\n",
    "            return 'g^{1}cm^{-2}'\n",
    "    return unit\n",
    "\n",
    "# WRAP EACH TRANSFORMATION FUNCTION IN \n",
    "# ONE DFColValTransformation OBJECT\n",
    "t_unit_std = TRYpros.DFColValTransformation(\n",
    "    f=example_unit_standardization_function, \n",
    "    col=\"OrigUnitStr\")"
   ]
  },
  {
   "cell_type": "code",
   "execution_count": null,
   "metadata": {},
   "outputs": [],
   "source": [
    "# TEST TRANSFORMATIONS BEFORE APPLICATION\n",
    "res_t = FH.data_trait[\"non_std\"]\n",
    "res_t = t_unit_std(res_t)\n",
    "print(res_t.value_form.unique())"
   ]
  },
  {
   "cell_type": "code",
   "execution_count": null,
   "metadata": {},
   "outputs": [],
   "source": [
    "# CONFIGURE TRANSFORMATIONS\n",
    "# Add each transformation object to list of transformations to be \n",
    "# applied to each data type and standardization type.\n",
    "FH.transforms[\"non_std\"][\"trait\"] = [t_unit_std]"
   ]
  },
  {
   "cell_type": "code",
   "execution_count": null,
   "metadata": {},
   "outputs": [],
   "source": [
    "# APPLY CONFIGURED TRANSFORMATIONS\n",
    "FH.apply_transformations(\"trait\")"
   ]
  },
  {
   "cell_type": "code",
   "execution_count": null,
   "metadata": {},
   "outputs": [],
   "source": [
    "# CHECK SUCCESSFUL APPLICATION\n",
    "FH.data_trait[\"non_std\"].OrigValueStr.unique()"
   ]
  },
  {
   "cell_type": "markdown",
   "metadata": {},
   "source": [
    "## 4. Process Lon Lat Data"
   ]
  },
  {
   "cell_type": "markdown",
   "metadata": {},
   "source": [
    "### 4.1. ID Review"
   ]
  },
  {
   "cell_type": "code",
   "execution_count": null,
   "metadata": {},
   "outputs": [],
   "source": [
    "# VIEW KNOWN IDS\n",
    "print(f\"Keep IDs = {FH.keep_ids[\"lonlat\"]}\")\n",
    "FH.known_ids[\"lonlat\"]"
   ]
  },
  {
   "cell_type": "markdown",
   "metadata": {},
   "source": [
    "### 4.2. Extract Data"
   ]
  },
  {
   "cell_type": "code",
   "execution_count": null,
   "metadata": {},
   "outputs": [],
   "source": [
    "# EXTRACT LON LAT DATA\n",
    "FH.extract_lonlat_data()"
   ]
  },
  {
   "cell_type": "markdown",
   "metadata": {},
   "source": [
    "### 4.3. Manual Investigation"
   ]
  },
  {
   "cell_type": "code",
   "execution_count": null,
   "metadata": {},
   "outputs": [],
   "source": [
    "# CONSIDER COMBINING LON LAT DATA FOR EASIER INVESTIGATION\n",
    "data_latlon_std = FH.get_combine_lonlat(\"std\")\n",
    "data_latlon_non_std = FH.get_combine_lonlat(\"non_std\")"
   ]
  },
  {
   "cell_type": "code",
   "execution_count": null,
   "metadata": {},
   "outputs": [],
   "source": [
    "# QUESTION: What do value units and forms look like?\n",
    "FH.view_units_value_forms(data_type=\"lonlat\")"
   ]
  },
  {
   "cell_type": "code",
   "execution_count": null,
   "metadata": {},
   "outputs": [],
   "source": [
    "# QUESTION: Do some columns provide useful context information?\n",
    "FH.get_context(data_latlon_non_std)"
   ]
  },
  {
   "cell_type": "code",
   "execution_count": null,
   "metadata": {},
   "outputs": [],
   "source": [
    "# QUESTION: What are all the different forms of value expression?\n",
    "data_latlon_non_std.value_form.unique()"
   ]
  },
  {
   "cell_type": "code",
   "execution_count": null,
   "metadata": {},
   "outputs": [],
   "source": [
    "# QUESTION: What data is available in the UTM format?\n",
    "data_utm = FH.get_utm_data()\n",
    "data_utm"
   ]
  },
  {
   "cell_type": "code",
   "execution_count": null,
   "metadata": {},
   "outputs": [],
   "source": [
    "# QUESTION: What data is available in the NZTM format?\n",
    "data_nztm = FH.get_nztm_data()\n",
    "FH.get_context(data_nztm)"
   ]
  },
  {
   "cell_type": "code",
   "execution_count": null,
   "metadata": {},
   "outputs": [],
   "source": [
    "# ASK YOUR QUESTIONS ..."
   ]
  },
  {
   "cell_type": "markdown",
   "metadata": {},
   "source": [
    "### 4.4. Define & Apply Transformation Functions"
   ]
  },
  {
   "cell_type": "code",
   "execution_count": null,
   "metadata": {},
   "outputs": [],
   "source": [
    "# DEFINE FUNCTIONS\n",
    "\n",
    "# TRYpros provides few pre-defined transformation objects like:\n",
    "\n",
    "# 1. A transformation object for mapping \n",
    "# alternate notations of latitude/longitude \n",
    "# decimal degrees into the standard numeric notation with values\n",
    "# in the range ([-180, 180], [-90, 90]).\n",
    "ll_val_std_deg = TRYpros.get_transformation_lonlat_std()\n",
    "\n",
    "# 2. A transformation object to recompute value form column intended\n",
    "# to be used after some other value transformation so that the value\n",
    "# form column reflect latest form of values.\n",
    "ll_form_recompute = TRYpros.get_transformation_get_value_form(\"OrigValueStr\")"
   ]
  },
  {
   "cell_type": "code",
   "execution_count": null,
   "metadata": {},
   "outputs": [],
   "source": [
    "# TEST TRANSFORMATIONS PRIOR TO APPLICATION\n",
    "print(\"Unique Value Forms (Before):\", \n",
    "      data_latlon_non_std.value_form.unique())\n",
    "res_ll = data_latlon_non_std\n",
    "res_ll = ll_val_std_deg(res_ll)\n",
    "res_ll = ll_form_recompute(res_ll)\n",
    "print(\"Unique Value Forms (After):\", \n",
    "      res_ll.value_form.unique())"
   ]
  },
  {
   "cell_type": "code",
   "execution_count": null,
   "metadata": {},
   "outputs": [],
   "source": [
    "# CONFIGURE TRANSFORMATIONS\n",
    "FH.transforms[\"non_std\"][\"lonlat\"] = [ll_val_std_deg, ll_form_recompute]"
   ]
  },
  {
   "cell_type": "code",
   "execution_count": null,
   "metadata": {},
   "outputs": [],
   "source": [
    "# APPLY TRANSFORMATIONS\n",
    "FH.apply_transformations(\"lonlat\")"
   ]
  },
  {
   "cell_type": "code",
   "execution_count": null,
   "metadata": {},
   "outputs": [],
   "source": [
    "# OPTIONALLY PERFORM OTHER PROCESSING STEPS\n",
    "# TRYpros provides the following functions to convert\n",
    "# UTM / NZTM values into decimal degrees.\n",
    "\n",
    "# CONVERT UTM VALUES\n",
    "FH.lonlat_utm_to_decimal_degrees()\n",
    "\n",
    "# CONVERT NZTM VALUES\n",
    "FH.lonlat_nztm_to_decimal_degrees()\n",
    "\n",
    "# AVG TRAIT VALUES\n",
    "FH.avg_trait_values(data_type=\"lonlat\", id1=4710, id2=4711)"
   ]
  },
  {
   "cell_type": "code",
   "execution_count": null,
   "metadata": {},
   "outputs": [],
   "source": [
    "# CHECK SUCCESSFUL APPLICATION\n",
    "FH.view_range(data_type=\"lonlat\", std_type=\"std\")\n",
    "FH.view_range(data_type=\"lonlat\", std_type=\"non_std\")\n",
    "# If there are abnormal values, then something may be wrong."
   ]
  },
  {
   "cell_type": "markdown",
   "metadata": {},
   "source": [
    "## 5. Process Year Data"
   ]
  },
  {
   "cell_type": "markdown",
   "metadata": {},
   "source": [
    "### 4.1. ID Review"
   ]
  },
  {
   "cell_type": "code",
   "execution_count": null,
   "metadata": {},
   "outputs": [],
   "source": [
    "# VIEW KNOWN IDS\n",
    "print(f\"Keep IDs = {FH.keep_ids[\"year\"]}\")\n",
    "FH.known_ids[\"year\"]"
   ]
  },
  {
   "cell_type": "code",
   "execution_count": null,
   "metadata": {},
   "outputs": [],
   "source": [
    "# UPDATE KEEP LIST\n",
    "# Only data corresponding to Trait/Data IDs in the keep list are loaded\n",
    "# into the FeatureHandler's attribute (data_trait, data_lonlat, or data_year).\n",
    "FH.keep_ids[\"year\"] = [241, 212, 696, 2254, 2255, 6601, 8571, 8737, 9732]\n",
    "FH.get_considered_traits(\"year\")"
   ]
  },
  {
   "cell_type": "markdown",
   "metadata": {},
   "source": [
    "### 4.2. Extract Data"
   ]
  },
  {
   "cell_type": "code",
   "execution_count": null,
   "metadata": {},
   "outputs": [],
   "source": [
    "# EXTRACT YEAR/DATE RELATED DATA\n",
    "FH.extract_year_data()"
   ]
  },
  {
   "cell_type": "markdown",
   "metadata": {},
   "source": [
    "### 4.3. Manual Investigation"
   ]
  },
  {
   "cell_type": "code",
   "execution_count": null,
   "metadata": {},
   "outputs": [],
   "source": [
    "# QUESTION: What do value units and forms look like?\n",
    "FH.view_units_value_forms(data_type=\"year\")"
   ]
  },
  {
   "cell_type": "code",
   "execution_count": null,
   "metadata": {},
   "outputs": [],
   "source": [
    "# QUESTION: What context information is available?\n",
    "FH.get_context(FH.data_year[\"non_std\"], context_cols=[\n",
    "    \"OriglName\"])[\"OriglName\"].tolist()"
   ]
  },
  {
   "cell_type": "code",
   "execution_count": null,
   "metadata": {},
   "outputs": [],
   "source": [
    "# QUESTION: What data is associated with specific DatasetIDs?\n",
    "display(FH.get_unique_matches(\n",
    "    data=FH.data_year[\"non_std\"], match_col=\"DatasetID\",\n",
    "    to_match=[1], keep=[\"DataID\", \"OrigValueStr\", \"value_form\"]))\n",
    "display(FH.get_unique_matches(\n",
    "    data=FH.data_year[\"non_std\"], match_col=\"DataID\",\n",
    "    to_match=[241], keep=[\"DataID\", \"OrigValueStr\", \"value_form\"]))"
   ]
  },
  {
   "cell_type": "code",
   "execution_count": null,
   "metadata": {},
   "outputs": [],
   "source": [
    "# ASK YOUR QUESTIONS ..."
   ]
  },
  {
   "cell_type": "markdown",
   "metadata": {},
   "source": [
    "### 4.4. Define & Apply Transformation Functions"
   ]
  },
  {
   "cell_type": "code",
   "execution_count": null,
   "metadata": {},
   "outputs": [],
   "source": [
    "# DEFINE TRANSFORMATIONS\n",
    "# TRYpros also provides a function that gets a transformation\n",
    "# object that extracts year from various date notations in the TRY DB.\n",
    "y_ext_year_std = TRYpros.get_transformation_get_year(\"StdValue\")\n",
    "y_ext_year_non_std = TRYpros.get_transformation_get_year(\"OrigValueStr\")\n",
    "\n",
    "y_get_val_form_non_std = TRYpros.get_transformation_get_value_form(\"StdValue\")\n",
    "y_get_val_form_std = TRYpros.get_transformation_get_value_form(\"OrigValueStr\")"
   ]
  },
  {
   "cell_type": "code",
   "execution_count": null,
   "metadata": {},
   "outputs": [],
   "source": [
    "# TEST TRANSFORMATIONS PRIOR TO APPLICATION\n",
    "res_y = FH.data_year[\"non_std\"]\n",
    "print(\"before:\", res_y[\"value_form\"].unique())\n",
    "res_y = y_ext_year_non_std(res_y)\n",
    "res_y = y_get_val_form_non_std(res_y)\n",
    "print(\"after:\", res_y[\"value_form\"].unique())"
   ]
  },
  {
   "cell_type": "code",
   "execution_count": null,
   "metadata": {},
   "outputs": [],
   "source": [
    "# CONFIGURE TRANSFORMATIONS\n",
    "FH.transforms[\"std\"][\"year\"] = [y_ext_year_std, y_get_val_form_std]\n",
    "FH.transforms[\"non_std\"][\"year\"] = [y_ext_year_non_std, y_get_val_form_non_std]"
   ]
  },
  {
   "cell_type": "code",
   "execution_count": null,
   "metadata": {},
   "outputs": [],
   "source": [
    "# APPLY CONFIGURED TRANSFORMATIONS\n",
    "FH.apply_transformations(data_type=\"year\")"
   ]
  },
  {
   "cell_type": "code",
   "execution_count": null,
   "metadata": {},
   "outputs": [],
   "source": [
    "# CHECK TO ENSURE TRANSFORMATION SUCCESS\n",
    "FH.view_range(\"year\", \"non_std\")\n",
    "FH.view_range(\"year\", \"std\")"
   ]
  },
  {
   "cell_type": "markdown",
   "metadata": {},
   "source": [
    "## 6. Combine Data"
   ]
  },
  {
   "cell_type": "code",
   "execution_count": null,
   "metadata": {},
   "outputs": [],
   "source": [
    "# COMBINE TRAIT, LONLAT AND YEAR DATA\n",
    "data_extracted = FH.combine_data()\n",
    "\n",
    "# VIEW ON MAP\n",
    "TRYpros.map_plot(data_extracted, \n",
    "                 title=f\"TRY Data Distribution: {FH.feature_name}\")"
   ]
  },
  {
   "cell_type": "markdown",
   "metadata": {},
   "source": [
    "## 7. Save Extracted Data"
   ]
  },
  {
   "cell_type": "code",
   "execution_count": null,
   "metadata": {},
   "outputs": [],
   "source": [
    "# SAVE PROCESSED EXTRACTED DATA\n",
    "TRYpros.save_data(\n",
    "    data = data_extracted, \n",
    "    dest_fold = PATH_DST,\n",
    "    feature_name = FH.feature_name,\n",
    "    feature_unit = FH.get_feature_unit())"
   ]
  }
 ],
 "metadata": {
  "kernelspec": {
   "display_name": "python3.13.0-da",
   "language": "python",
   "name": "python3"
  },
  "language_info": {
   "codemirror_mode": {
    "name": "ipython",
    "version": 3
   },
   "file_extension": ".py",
   "mimetype": "text/x-python",
   "name": "python",
   "nbconvert_exporter": "python",
   "pygments_lexer": "ipython3",
   "version": "3.13.0"
  }
 },
 "nbformat": 4,
 "nbformat_minor": 2
}
