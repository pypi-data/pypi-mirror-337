{
 "cells": [
  {
   "cell_type": "markdown",
   "metadata": {},
   "source": [
    "# Running FLiES for an ECOSTRESS Scene\n",
    "\n",
    "This is an example of running the artificial neural network emulator of the Forest Light Environmental Simulator (FLiES) corresponding to an ECOsystem Spaceborne Thermal Radiometer Experiment on Space Station (ECOSTRESS) scene."
   ]
  },
  {
   "cell_type": "code",
   "execution_count": null,
   "metadata": {},
   "outputs": [],
   "source": [
    "from os.path import join\n",
    "from datetime import datetime, date, time\n",
    "from dateutil import parser\n",
    "import rasters as rt\n",
    "from geos5fp import GEOS5FP\n",
    "from koppengeiger import load_koppen_geiger\n",
    "from solar_apparent_time import UTC_to_solar\n",
    "import sun_angles\n",
    "from FLiESANN import process_FLiES_ANN\n",
    "from matplotlib.colors import LinearSegmentedColormap\n",
    "import logging\n",
    "logging.disable(logging.CRITICAL)"
   ]
  },
  {
   "cell_type": "markdown",
   "metadata": {},
   "source": [
    "Here's an example ECOSTRESS albedo scene."
   ]
  },
  {
   "cell_type": "code",
   "execution_count": null,
   "metadata": {},
   "outputs": [],
   "source": [
    "albedo_filename = \"ECOv002_L2T_STARS_11SPS_20240728_0712_01_albedo.tif\"\n",
    "albedo_cmap = LinearSegmentedColormap.from_list(name=\"albedo\", colors=[\"black\", \"white\"])\n",
    "albedo = rt.Raster.open(albedo_filename, cmap=albedo_cmap)\n",
    "albedo"
   ]
  },
  {
   "cell_type": "markdown",
   "metadata": {},
   "source": [
    "Let's get the acquisition time of the scene."
   ]
  },
  {
   "cell_type": "code",
   "execution_count": null,
   "metadata": {},
   "outputs": [],
   "source": [
    "time_UTC = parser.parse(albedo_filename.split(\"_\")[6])\n",
    "longitude = albedo.geometry.centroid_latlon.x\n",
    "latitude = albedo.geometry.centroid_latlon.y\n",
    "time_solar = UTC_to_solar(time_UTC, longitude)\n",
    "doy_solar = time_solar.timetuple().tm_yday\n",
    "hour_of_day_solar = time_solar.hour + time_solar.minute / 60 + time_solar.second / 3600\n",
    "print(f\"{time_UTC:%Y-%m-%d %H:%M:%S} UTC\")\n",
    "print(f\"{time_solar:%Y-%m-%d %H:%M:%S} solar apparent time at longitude {longitude}\")\n",
    "print(f\"day of year {doy_solar} at longitude {longitude}\")\n",
    "print(f\"hour of day {hour_of_day_solar} at longitude {longitude}\")\n"
   ]
  },
  {
   "cell_type": "code",
   "execution_count": null,
   "metadata": {},
   "outputs": [],
   "source": [
    "geometry = albedo.geometry\n",
    "geometry"
   ]
  },
  {
   "cell_type": "code",
   "execution_count": null,
   "metadata": {},
   "outputs": [],
   "source": [
    "FLiES_results = process_FLiES_ANN(\n",
    "    geometry=geometry,\n",
    "    time_UTC=time_UTC,\n",
    "    albedo=albedo\n",
    ")"
   ]
  },
  {
   "cell_type": "code",
   "execution_count": null,
   "metadata": {},
   "outputs": [],
   "source": [
    "Rg = FLiES_results[\"Rg\"]\n",
    "Rg.cmap = \"bwr\"\n",
    "Rg"
   ]
  },
  {
   "cell_type": "code",
   "execution_count": null,
   "metadata": {},
   "outputs": [],
   "source": []
  }
 ],
 "metadata": {
  "kernelspec": {
   "display_name": "FLiESANN",
   "language": "python",
   "name": "python3"
  },
  "language_info": {
   "codemirror_mode": {
    "name": "ipython",
    "version": 3
   },
   "file_extension": ".py",
   "mimetype": "text/x-python",
   "name": "python",
   "nbconvert_exporter": "python",
   "pygments_lexer": "ipython3",
   "version": "3.10.16"
  }
 },
 "nbformat": 4,
 "nbformat_minor": 2
}
