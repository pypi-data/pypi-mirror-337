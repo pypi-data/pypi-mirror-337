{
 "cells": [
  {
   "cell_type": "code",
   "execution_count": 1,
   "metadata": {},
   "outputs": [
    {
     "name": "stdout",
     "output_type": "stream",
     "text": [
      "Not running in Google Colab. Using local environment.\n"
     ]
    }
   ],
   "source": [
    "import os\n",
    "import sys\n",
    "\n",
    "# Detect if running in Google Colab\n",
    "IN_COLAB = 'google.colab' in sys.modules\n",
    "\n",
    "if IN_COLAB:\n",
    "    print(\"Running in Google Colab. Setting up virtual environment from project repository...\")\n",
    "\n",
    "    # Mount Google Drive for persistent storage\n",
    "    from google.colab import drive\n",
    "    drive.mount('/content/drive')\n",
    "\n",
    "    # Create a project directory in Google Drive\n",
    "    PROJECT_DIR = '/content/drive/MyDrive/toxy-bot'\n",
    "    os.makedirs(PROJECT_DIR, exist_ok=True)\n",
    "    os.chdir(PROJECT_DIR)\n",
    "\n",
    "    # Install uv package manager if not already installed\n",
    "    !pip install uv\n",
    "\n",
    "    # Clone the repository if not already cloned\n",
    "    if not os.path.exists('pyproject.toml'):\n",
    "        !git clone https://github.com/anitamaxvim/toxy-bot.git .\n",
    "\n",
    "    # Verify the files exist\n",
    "    if os.path.exists('pyproject.toml'):\n",
    "        print(\"Found pyproject.toml file.\")\n",
    "    else:\n",
    "        print(\"Warning: pyproject.toml not found. Virtual environment setup may be incomplete.\")\n",
    "\n",
    "    if os.path.exists('uv.lock'):\n",
    "        print(\"Found uv.lock file.\")\n",
    "    else:\n",
    "        print(\"Warning: uv.lock file not found. Will rely on pyproject.toml for dependencies.\")\n",
    "\n",
    "    # Create and activate virtual environment\n",
    "    !uv venv\n",
    "\n",
    "    # Install dependencies from pyproject.toml (and uv.lock if available)\n",
    "    !uv pip install -e .\n",
    "\n",
    "    # Check installation\n",
    "    !uv pip list\n",
    "\n",
    "    print(\"\\nVirtual environment setup complete. You can now import your project packages.\")\n",
    "    print(f\"\\nProject directory: {PROJECT_DIR}\")\n",
    "else:\n",
    "    print(\"Not running in Google Colab. Using local environment.\")"
   ]
  },
  {
   "cell_type": "code",
   "execution_count": 2,
   "metadata": {},
   "outputs": [
    {
     "name": "stderr",
     "output_type": "stream",
     "text": [
      "/Users/dbozbay/developer/toxy-bot/.venv/lib/python3.11/site-packages/tqdm/auto.py:21: TqdmWarning: IProgress not found. Please update jupyter and ipywidgets. See https://ipywidgets.readthedocs.io/en/stable/user_install.html\n",
      "  from .autonotebook import tqdm as notebook_tqdm\n"
     ]
    }
   ],
   "source": [
    "from toxy_bot.ml.config import Config, DataModuleConfig\n",
    "from toxy_bot.ml.trainer import train"
   ]
  },
  {
   "cell_type": "code",
   "execution_count": 3,
   "metadata": {},
   "outputs": [
    {
     "name": "stdout",
     "output_type": "stream",
     "text": [
      "Cache dir: /Users/dbozbay/developer/toxy-bot/data\n",
      "Log dir: /Users/dbozbay/developer/toxy-bot/logs\n",
      "Checkpoint dir: /Users/dbozbay/developer/toxy-bot/checkpoints\n",
      "Perf dir: /Users/dbozbay/developer/toxy-bot/logs/perf\n"
     ]
    }
   ],
   "source": [
    "cache_dir = Config.cache_dir\n",
    "log_dir = Config.log_dir\n",
    "ckpt_dir = Config.ckpt_dir\n",
    "perf_dir = Config.perf_dir\n",
    "\n",
    "print(f\"Cache dir: {cache_dir}\")\n",
    "print(f\"Log dir: {log_dir}\")\n",
    "print(f\"Checkpoint dir: {ckpt_dir}\")\n",
    "print(f\"Perf dir: {perf_dir}\")"
   ]
  },
  {
   "cell_type": "code",
   "execution_count": 4,
   "metadata": {},
   "outputs": [
    {
     "name": "stdout",
     "output_type": "stream",
     "text": [
      "Datastet: anitamaxvim/jigsaw-toxic-comments\n",
      "Train size: 0.85\n"
     ]
    }
   ],
   "source": [
    "dataset_name = DataModuleConfig.dataset_name\n",
    "train_size = DataModuleConfig.train_size\n",
    "\n",
    "print(f\"Datastet: {dataset_name}\")\n",
    "print(f\"Train size: {train_size}\")"
   ]
  },
  {
   "cell_type": "code",
   "execution_count": 5,
   "metadata": {},
   "outputs": [],
   "source": [
    "# Hyperparameters\n",
    "MAX_LENGTH = 256\n",
    "BATCH_SIZE = 64\n",
    "LR = 3e-5\n",
    "MAX_EPOCHS = 5\n",
    "\n",
    "# Turn on peformance monitoring\n",
    "PERF = True\n",
    "\n",
    "# Models\n",
    "models = [\n",
    "    \"google/bert_uncased_L-4_H-512_A-8\", # BertSmall (29M)\n",
    "    \"google/bert_uncased_L-8_H-512_A-8\", # BertMedium (42M)\n",
    "    \"google/bert_uncased_L-12_H-768_A-12\", # BertBase (108M)\n",
    "]"
   ]
  },
  {
   "cell_type": "code",
   "execution_count": null,
   "metadata": {},
   "outputs": [
    {
     "name": "stderr",
     "output_type": "stream",
     "text": [
      "Some weights of BertForSequenceClassification were not initialized from the model checkpoint at google/bert_uncased_L-4_H-512_A-8 and are newly initialized: ['classifier.bias', 'classifier.weight']\n",
      "You should probably TRAIN this model on a down-stream task to be able to use it for predictions and inference.\n",
      "/Users/dbozbay/developer/toxy-bot/.venv/lib/python3.11/site-packages/lightning/pytorch/trainer/connectors/accelerator_connector.py:513: You passed `Trainer(accelerator='cpu', precision='16-mixed')` but AMP with fp16 is not supported on CPU. Using `precision='bf16-mixed'` instead.\n",
      "Using bfloat16 Automatic Mixed Precision (AMP)\n",
      "GPU available: False, used: False\n",
      "TPU available: False, using: 0 TPU cores\n",
      "HPU available: False, using: 0 HPUs\n",
      "Seed set to 42\n",
      "[2025-03-31 14:22:05.141561] Dataset anitamaxvim/jigsaw-toxic-comments exists in cache. Loading from cache.\n",
      "Map: 100%|██████████| 135635/135635 [01:10<00:00, 1929.00 examples/s]\n",
      "Map: 100%|██████████| 23936/23936 [00:12<00:00, 1872.85 examples/s]\n",
      "\n",
      "  | Name      | Type                          | Params | Mode \n",
      "--------------------------------------------------------------------\n",
      "0 | model     | BertForSequenceClassification | 28.8 M | eval \n",
      "1 | accuracy  | MultilabelAccuracy            | 0      | train\n",
      "2 | f1_score  | MultilabelF1Score             | 0      | train\n",
      "3 | precision | MultilabelPrecision           | 0      | train\n",
      "4 | recall    | MultilabelRecall              | 0      | train\n",
      "--------------------------------------------------------------------\n",
      "28.8 M    Trainable params\n",
      "0         Non-trainable params\n",
      "28.8 M    Total params\n",
      "115.067   Total estimated model params size (MB)\n",
      "4         Modules in train mode\n",
      "87        Modules in eval mode\n",
      "/Users/dbozbay/developer/toxy-bot/.venv/lib/python3.11/site-packages/lightning/pytorch/trainer/connectors/data_connector.py:420: Consider setting `persistent_workers=True` in 'train_dataloader' to speed up the dataloader worker initialization.\n",
      "/Users/dbozbay/developer/toxy-bot/.venv/lib/python3.11/site-packages/lightning/pytorch/trainer/connectors/data_connector.py:420: Consider setting `persistent_workers=True` in 'val_dataloader' to speed up the dataloader worker initialization.\n"
     ]
    },
    {
     "name": "stdout",
     "output_type": "stream",
     "text": [
      "Epoch 0:   0%|          | 0/2120 [00:00<?, ?it/s] "
     ]
    }
   ],
   "source": [
    "for m in models:\n",
    "    train(\n",
    "        model_name=m,\n",
    "        max_length=MAX_LENGTH,\n",
    "        batch_size=BATCH_SIZE,\n",
    "        lr=LR,\n",
    "        max_epochs=MAX_EPOCHS,\n",
    "        perf=PERF,\n",
    "    )"
   ]
  },
  {
   "cell_type": "code",
   "execution_count": null,
   "metadata": {},
   "outputs": [],
   "source": []
  }
 ],
 "metadata": {
  "kernelspec": {
   "display_name": ".venv",
   "language": "python",
   "name": "python3"
  },
  "language_info": {
   "codemirror_mode": {
    "name": "ipython",
    "version": 3
   },
   "file_extension": ".py",
   "mimetype": "text/x-python",
   "name": "python",
   "nbconvert_exporter": "python",
   "pygments_lexer": "ipython3",
   "version": "3.11.11"
  }
 },
 "nbformat": 4,
 "nbformat_minor": 2
}
