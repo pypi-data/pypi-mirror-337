{
 "cells": [
  {
   "cell_type": "code",
   "execution_count": 19,
   "id": "a06c5b69-9606-4812-beb4-28a241b501cb",
   "metadata": {},
   "outputs": [
    {
     "name": "stdout",
     "output_type": "stream",
     "text": [
      "Defaulting to user installation because normal site-packages is not writeable\n",
      "Requirement already satisfied: xaif in ./.local/lib/python3.8/site-packages (0.3.3)\n",
      "Note: you may need to restart the kernel to use updated packages.\n"
     ]
    }
   ],
   "source": [
    "pip install xaif\n"
   ]
  },
  {
   "cell_type": "code",
   "execution_count": null,
   "id": "5f4ce4b5-3c78-4a50-b28f-e9462cb4c7e7",
   "metadata": {},
   "outputs": [],
   "source": []
  },
  {
   "cell_type": "code",
   "execution_count": 69,
   "id": "d3ba8fa4-0d13-4573-a84f-21aa4ee10543",
   "metadata": {},
   "outputs": [
    {
     "name": "stdout",
     "output_type": "stream",
     "text": [
      "Defaulting to user installation because normal site-packages is not writeable\n",
      "Requirement already satisfied: oamf in ./.local/lib/python3.8/site-packages (1.0.0.6)\n",
      "Requirement already satisfied: networkx in ./.local/lib/python3.8/site-packages (from oamf) (3.1)\n",
      "Requirement already satisfied: pandas in ./.local/lib/python3.8/site-packages (from oamf) (2.0.3)\n",
      "Requirement already satisfied: pyyaml in /usr/local/lib/python3.8/site-packages (from oamf) (6.0.2)\n",
      "Requirement already satisfied: python-dateutil>=2.8.2 in /usr/local/lib/python3.8/site-packages (from pandas->oamf) (2.9.0.post0)\n",
      "Requirement already satisfied: pytz>=2020.1 in /usr/local/lib/python3.8/site-packages (from pandas->oamf) (2024.2)\n",
      "Requirement already satisfied: tzdata>=2022.1 in ./.local/lib/python3.8/site-packages (from pandas->oamf) (2025.1)\n",
      "Requirement already satisfied: numpy>=1.20.3 in ./.local/lib/python3.8/site-packages (from pandas->oamf) (1.24.4)\n",
      "Requirement already satisfied: six>=1.5 in /usr/local/lib/python3.8/site-packages (from python-dateutil>=2.8.2->pandas->oamf) (1.17.0)\n",
      "Note: you may need to restart the kernel to use updated packages.\n"
     ]
    }
   ],
   "source": [
    "pip install oamf\n"
   ]
  },
  {
   "cell_type": "markdown",
   "id": "7069a9d7-0ebf-471e-8c42-d6f3b7e5daa6",
   "metadata": {},
   "source": [
    "# oAMF Pipeline Execution with xAIF Data\n",
    "\n",
    "This notebook demonstrates how to use `oAMF` for executing a pipeline and manipulating xAIF data. It includes the following steps:\n",
    "\n",
    "1. **Importing Required Libraries**\n",
    "2. **Initializing the oAMF Library**\n",
    "3. **Defining File Paths**\n",
    "4. **(Optional) Initializing AIF with Free Text**\n",
    "5. **Defining Modules to Load**\n",
    "6. **Defining Pipeline Structure**\n",
    "7. **Loading and Deploying Modules**\n",
    "8. **Executing the Pipeline**\n",
    "9. **Extracting the Path from the Output**\n",
    "10. **Reading and Loading the Predicted xAIF Output**\n",
    "11. **Converting xAIF Data to DataFrame**\n",
    "12. **Optional Workflow Execution**\n",
    "\n"
   ]
  },
  {
   "cell_type": "markdown",
   "id": "39bb7ba3-dc42-4b4b-9d6f-2f378ed70160",
   "metadata": {},
   "source": [
    "\n",
    "\n",
    "### 1. **Import Required Libraries**\n",
    "\n",
    "\n"
   ]
  },
  {
   "cell_type": "code",
   "execution_count": 2,
   "id": "2c73b161-463b-45f3-b6ac-b020b6d7efaf",
   "metadata": {},
   "outputs": [],
   "source": [
    "# Import necessary libraries for pipeline execution and data manipulation\n",
    "from oamf import oAMF  # Import oAMF for pipeline execution\n",
    "from xaif import AIF   # Import xaif for manipulating xAIF data"
   ]
  },
  {
   "cell_type": "markdown",
   "id": "6b0dc71d-9a07-4fe1-9b6a-259d05ad5184",
   "metadata": {},
   "source": [
    "### 2. **Initialize oAMF Library**"
   ]
  },
  {
   "cell_type": "code",
   "execution_count": 3,
   "id": "69a70d35-516b-4b8f-b040-a5396c5f3541",
   "metadata": {},
   "outputs": [],
   "source": [
    "# Initialize the oAMF library\n",
    "oamf = oAMF()\n",
    "\n"
   ]
  },
  {
   "cell_type": "markdown",
   "id": "1b977ff8-eadf-4d7a-a7a3-832a8c0dbd09",
   "metadata": {},
   "source": [
    "### **5. Define Modules to Load**"
   ]
  },
  {
   "cell_type": "code",
   "execution_count": 4,
   "id": "47110249-ea79-4dae-822d-41fd53ca52c0",
   "metadata": {},
   "outputs": [],
   "source": [
    "# Define the modules to load, specifying the following for each module:\n",
    "# (URL, type ['repo' or 'ws'], deployment route, tag)\n",
    "# - \"type\" indicates whether the deployment is local (\"repo\") or uses an already deployed web service (\"ws\").\n",
    "# - \"repo\" refers to local deployment, while \"ws\" refers to using an existing web service.\n",
    "\n",
    "# List of workflow modules to load\n",
    "modules_to_load = [\n",
    "    (\"http://default-turninator.amfws.arg.tech/turninator-01\", \"ws\", \"turninator-01\", \"turninator\"),\n",
    "    (\"http://default-segmenter.amfws.arg.tech/segmenter-01\", \"ws\", \"segmenter-01\", \"segmenter\"),\n",
    "    (\"http://targer.amfws.arg.tech/targer-segmenter\", \"ws\", \"targer-segmenter\", \"targer\"),\n",
    "    (\"http://default-proposition-unitiser.amfws.arg.tech/propositionUnitizer-01\", \"ws\", \"propositionUnitizer-01\", \"propositionUnitizer\"),\n",
    "    (\"http://vanilla-caasr.amfws.arg.tech/caasra\", \"ws\", \"caasra\", \"caasra\"),\n",
    "    (\"http://cascading-propositionUnitiser.amfws.arg.tech/propositionalizer-cascading\", \"ws\", \"propositionalizer-cascading\", \"cascading\"),\n",
    "    (\"http://amfws-ari.arg.tech/\", \"ws\", \"ari\", \"ari\"),\n",
    "    (\"http://bert-te.amfws.arg.tech/bert-te\", \"ws\", \"bert-te\", \"bert-te\")\n",
    "]\n"
   ]
  },
  {
   "cell_type": "markdown",
   "id": "87bef1b6-bbf6-412f-aea6-3d819c4495c1",
   "metadata": {},
   "source": [
    "### **6. Define Pipeline Structure**"
   ]
  },
  {
   "cell_type": "code",
   "execution_count": 5,
   "id": "cdf72d1f-83bf-4ebe-8cf5-4a86cfedd372",
   "metadata": {},
   "outputs": [],
   "source": [
    "# Define the pipeline structure as a directed graph.\n",
    "# The pipeline graph is constructed based on the tags associated with each module\n",
    "# when loading the modules. Each tuple in the graph represents a sequence of \n",
    "# module execution, where the first element is the source module and the second \n",
    "# element is the destination module. This creates a flow of data through the pipeline.\n",
    "\n",
    "pipeline_graph = [\n",
    "    (\"turninator\", \"targer\"),        # Data flows from 'turninator' to 'targer'\n",
    "    (\"targer\", \"segmenter\"),         # Data flows from 'targer' to 'segmenter'\n",
    "    (\"segmenter\", \"propositionUnitizer\"), # Data flows from 'segmenter' to 'propositionUnitizer'\n",
    "    (\"propositionUnitizer\", \"cascading\"),  # Data flows from 'propositionUnitizer' to 'cascading'\n",
    "    (\"cascading\", \"bert-te\")         # Data flows from 'cascading' to 'bert-te'\n",
    "]\n"
   ]
  },
  {
   "cell_type": "markdown",
   "id": "5b893d35-38e2-4d00-9824-c1486758a6d7",
   "metadata": {},
   "source": [
    "## **7. Load and Deploy Modules**"
   ]
  },
  {
   "cell_type": "code",
   "execution_count": 6,
   "id": "be3f1b61-850e-46a8-b7d1-e1eb6322600f",
   "metadata": {},
   "outputs": [
    {
     "name": "stdout",
     "output_type": "stream",
     "text": [
      "Module 'turninator-01' of type 'ws' loaded from http://default-turninator.amfws.arg.tech/turninator-01.\n",
      "Module 'segmenter-01' of type 'ws' loaded from http://default-segmenter.amfws.arg.tech/segmenter-01.\n",
      "Module 'targer-segmenter' of type 'ws' loaded from http://targer.amfws.arg.tech/targer-segmenter.\n",
      "Module 'propositionUnitizer-01' of type 'ws' loaded from http://default-proposition-unitiser.amfws.arg.tech/propositionUnitizer-01.\n",
      "Module 'caasra' of type 'ws' loaded from http://vanilla-caasr.amfws.arg.tech/caasra.\n",
      "Module 'propositionalizer-cascading' of type 'ws' loaded from http://cascading-propositionUnitiser.amfws.arg.tech/propositionalizer-cascading.\n",
      "Module '' of type 'ws' loaded from http://amfws-ari.arg.tech/.\n",
      "Module 'bert-te' of type 'ws' loaded from http://bert-te.amfws.arg.tech/bert-te.\n"
     ]
    },
    {
     "data": {
      "text/plain": [
       "{'turninator': 'turninator-01',\n",
       " 'segmenter': 'segmenter-01',\n",
       " 'targer': 'targer-segmenter',\n",
       " 'propositionUnitizer': 'propositionUnitizer-01',\n",
       " 'caasra': 'caasra',\n",
       " 'cascading': 'propositionalizer-cascading',\n",
       " 'ari': '',\n",
       " 'bert-te': 'bert-te'}"
      ]
     },
     "execution_count": 6,
     "metadata": {},
     "output_type": "execute_result"
    }
   ],
   "source": [
    "# Load and deploy only the specified modules used in constructing the pipeline.\n",
    "# The modules to be loaded are determined based on the pipeline graph, which defines\n",
    "# the sequence of module execution. Each module in the pipeline is automatically\n",
    "# loaded and deployed for execution.\n",
    "\n",
    "oamf.load_modules(modules_to_load)\n"
   ]
  },
  {
   "cell_type": "markdown",
   "id": "9735b726-f285-4f9e-ac5f-2a8b9c3c37ea",
   "metadata": {},
   "source": [
    "## **8. Execute the Pipeline**"
   ]
  },
  {
   "cell_type": "code",
   "execution_count": 23,
   "id": "babd85ed-9fb1-41d3-9a85-1ec65075b54c",
   "metadata": {},
   "outputs": [
    {
     "name": "stdout",
     "output_type": "stream",
     "text": [
      "Processing module 'turninator' and its dependencies...\n",
      "Processing module with tag 'turninator' -> Repo: 'turninator-01'\n",
      "Module 'turninator-01' is of type 'ws'. No local setup needed.\n",
      "Processing module with tag 'targer' -> Repo: 'targer-segmenter'\n",
      "Module 'targer-segmenter' is of type 'ws'. No local setup needed.\n",
      "Processing module 'segmenter' and its dependencies...\n",
      "Processing module with tag 'segmenter' -> Repo: 'segmenter-01'\n",
      "Module 'segmenter-01' is of type 'ws'. No local setup needed.\n",
      "Processing module with tag 'propositionUnitizer' -> Repo: 'propositionUnitizer-01'\n",
      "Module 'propositionUnitizer-01' is of type 'ws'. No local setup needed.\n",
      "Processing module 'targer' and its dependencies...\n",
      "Processing module 'propositionUnitizer' and its dependencies...\n",
      "Processing module with tag 'cascading' -> Repo: 'propositionalizer-cascading'\n",
      "Module 'propositionalizer-cascading' is of type 'ws'. No local setup needed.\n",
      "Processing module 'cascading' and its dependencies...\n",
      "Processing module with tag 'bert-te' -> Repo: 'bert-te'\n",
      "Module 'bert-te' is of type 'ws'. No local setup needed.\n",
      "Processing module 'bert-te' and its dependencies...\n",
      "Final Execution Pipeline: {'turninator': {'name': 'turninator', 'url': 'http://default-turninator.amfws.arg.tech/turninator-01', 'dependencies': ['targer'], 'tag': 'turninator'}, 'targer': {'name': 'targer', 'url': 'http://targer.amfws.arg.tech/targer-segmenter', 'dependencies': ['segmenter'], 'tag': 'targer'}, 'segmenter': {'name': 'segmenter', 'url': 'http://default-segmenter.amfws.arg.tech/segmenter-01', 'dependencies': ['propositionUnitizer'], 'tag': 'segmenter'}, 'propositionUnitizer': {'name': 'propositionUnitizer', 'url': 'http://default-proposition-unitiser.amfws.arg.tech/propositionUnitizer-01', 'dependencies': ['cascading'], 'tag': 'propositionUnitizer'}, 'cascading': {'name': 'cascading', 'url': 'http://cascading-propositionUnitiser.amfws.arg.tech/propositionalizer-cascading', 'dependencies': ['bert-te'], 'tag': 'cascading'}, 'bert-te': {'name': 'bert-te', 'url': 'http://bert-te.amfws.arg.tech/bert-te', 'dependencies': [], 'tag': 'bert-te'}}\n",
      "Reverse dependency graph: {'cascading': ['propositionUnitizer'], 'propositionUnitizer': ['segmenter'], 'segmenter': ['targer'], 'targer': ['turninator'], 'turninator': [], 'bert-te': ['cascading']}\n",
      "Executing module 'turninator' (tag: turninator)\n",
      "Service at http://default-turninator.amfws.arg.tech/turninator-01 is up and running!\n",
      "Successfully processed 'turninator'. Output saved at /tmp/tmpl8s5tw6j.json\n",
      "Executing module 'targer' (tag: targer)\n",
      "Service at http://targer.amfws.arg.tech/targer-segmenter is up and running!\n",
      "Successfully processed 'targer'. Output saved at /tmp/tmpkpy99mfi.json\n",
      "Executing module 'segmenter' (tag: segmenter)\n",
      "Service at http://default-segmenter.amfws.arg.tech/segmenter-01 is up and running!\n",
      "Successfully processed 'segmenter'. Output saved at /tmp/tmp4_4j_s_y.json\n",
      "Executing module 'propositionUnitizer' (tag: propositionUnitizer)\n",
      "Service at http://default-proposition-unitiser.amfws.arg.tech/propositionUnitizer-01 is up and running!\n",
      "Successfully processed 'propositionUnitizer'. Output saved at /tmp/tmpzn8hpidr.json\n",
      "Executing module 'cascading' (tag: cascading)\n",
      "Service at http://cascading-propositionUnitiser.amfws.arg.tech/propositionalizer-cascading is up and running!\n",
      "Successfully processed 'cascading'. Output saved at /tmp/tmpucp95bux.json\n",
      "Executing module 'bert-te' (tag: bert-te)\n",
      "Service at http://bert-te.amfws.arg.tech/bert-te is up and running!\n",
      "Successfully processed 'bert-te'. Output saved at /tmp/tmppb965h_t.json\n",
      "{'AIF': {'descriptorfulfillments': None, 'edges': [{'edgeID': 3, 'fromID': 4, 'toID': 3}, {'edgeID': 4, 'fromID': 3, 'toID': 6}, {'edgeID': 5, 'fromID': 6, 'toID': 5}], 'locutions': [{'nodeID': 1, 'personID': 1}, {'nodeID': 3, 'personID': 1}], 'nodes': [{'nodeID': 3, 'text': 'people feel that they have been treated disrespectfully', 'type': 'L'}, {'nodeID': 4, 'text': 'Default Illocuting', 'type': 'YA'}, {'nodeID': 5, 'text': 'people feel that they have been treated disrespectfully', 'type': 'I'}, {'nodeID': 6, 'text': 'Default Illocuting', 'type': 'YA'}], 'participants': [{'firstname': 'Default', 'participantID': 1, 'surname': 'Speaker'}], 'schemefulfillments': None}, 'dialog': False, 'ova': [], 'text': {'txt': ' Default Speaker <span class=\"highlighted\" id=\"0\">people feel that they have been treated disrespectfully. on all sides of the different arguments and disputes going on</span>.<br><br>'}}\n"
     ]
    }
   ],
   "source": [
    "# Execute the pipeline using the defined pipeline graph and input file.\n",
    "# The input file is in xAIF format, and the pipeline will process this file.\n",
    "# The result will  be saved to a temporary path or returned as a JSON object.\n",
    "\n",
    "# Define the input file path\n",
    "input_file = \"example.json\"  # Path to the input xAIF data file\n",
    "\n",
    "# Execute the pipeline with the specified graph and input file\n",
    "# This returns the output path (where the result is saved) and the output data as JSON\n",
    "output_path, output_json = oamf.pipelineExecutor(pipeline_graph, input_file)\n",
    "\n",
    "# Print the resulting output JSON for further inspection\n",
    "print(output_json)\n"
   ]
  },
  {
   "cell_type": "markdown",
   "id": "972a1fce-2ec5-4583-b2e5-d6a555e2d41f",
   "metadata": {},
   "source": [
    "## 3. **Alternatively, Use xaif to Construct xAIF from Text and Execute the Pipeline**"
   ]
  },
  {
   "cell_type": "code",
   "execution_count": 14,
   "id": "4058eb14-7809-4792-8dae-d834e2cf63ee",
   "metadata": {},
   "outputs": [
    {
     "name": "stdout",
     "output_type": "stream",
     "text": [
      "Temporary JSON file created at: /tmp/tmp5c0my6d8.json\n",
      "Processing module 'turninator' and its dependencies...\n",
      "Processing module with tag 'turninator' -> Repo: 'turninator-01'\n",
      "Module 'turninator-01' is of type 'ws'. No local setup needed.\n",
      "Processing module with tag 'targer' -> Repo: 'targer-segmenter'\n",
      "Module 'targer-segmenter' is of type 'ws'. No local setup needed.\n",
      "Processing module 'segmenter' and its dependencies...\n",
      "Processing module with tag 'segmenter' -> Repo: 'segmenter-01'\n",
      "Module 'segmenter-01' is of type 'ws'. No local setup needed.\n",
      "Processing module with tag 'propositionUnitizer' -> Repo: 'propositionUnitizer-01'\n",
      "Module 'propositionUnitizer-01' is of type 'ws'. No local setup needed.\n",
      "Processing module 'targer' and its dependencies...\n",
      "Processing module 'propositionUnitizer' and its dependencies...\n",
      "Processing module with tag 'cascading' -> Repo: 'propositionalizer-cascading'\n",
      "Module 'propositionalizer-cascading' is of type 'ws'. No local setup needed.\n",
      "Processing module 'cascading' and its dependencies...\n",
      "Processing module with tag 'bert-te' -> Repo: 'bert-te'\n",
      "Module 'bert-te' is of type 'ws'. No local setup needed.\n",
      "Processing module 'bert-te' and its dependencies...\n",
      "Final Execution Pipeline: {'turninator': {'name': 'turninator', 'url': 'http://default-turninator.amfws.arg.tech/turninator-01', 'dependencies': ['targer'], 'tag': 'turninator'}, 'targer': {'name': 'targer', 'url': 'http://targer.amfws.arg.tech/targer-segmenter', 'dependencies': ['segmenter'], 'tag': 'targer'}, 'segmenter': {'name': 'segmenter', 'url': 'http://default-segmenter.amfws.arg.tech/segmenter-01', 'dependencies': ['propositionUnitizer'], 'tag': 'segmenter'}, 'propositionUnitizer': {'name': 'propositionUnitizer', 'url': 'http://default-proposition-unitiser.amfws.arg.tech/propositionUnitizer-01', 'dependencies': ['cascading'], 'tag': 'propositionUnitizer'}, 'cascading': {'name': 'cascading', 'url': 'http://cascading-propositionUnitiser.amfws.arg.tech/propositionalizer-cascading', 'dependencies': ['bert-te'], 'tag': 'cascading'}, 'bert-te': {'name': 'bert-te', 'url': 'http://bert-te.amfws.arg.tech/bert-te', 'dependencies': [], 'tag': 'bert-te'}}\n",
      "Reverse dependency graph: {'cascading': ['propositionUnitizer'], 'propositionUnitizer': ['segmenter'], 'segmenter': ['targer'], 'targer': ['turninator'], 'turninator': [], 'bert-te': ['cascading']}\n",
      "Executing module 'turninator' (tag: turninator)\n",
      "Service at http://default-turninator.amfws.arg.tech/turninator-01 is up and running!\n",
      "Successfully processed 'turninator'. Output saved at /tmp/tmpr6vnhv_9.json\n",
      "Executing module 'targer' (tag: targer)\n",
      "Service at http://targer.amfws.arg.tech/targer-segmenter is up and running!\n",
      "Successfully processed 'targer'. Output saved at /tmp/tmpj9olxckp.json\n",
      "Executing module 'segmenter' (tag: segmenter)\n",
      "Service at http://default-segmenter.amfws.arg.tech/segmenter-01 is up and running!\n",
      "Successfully processed 'segmenter'. Output saved at /tmp/tmpt_s6c1a_.json\n",
      "Executing module 'propositionUnitizer' (tag: propositionUnitizer)\n",
      "Service at http://default-proposition-unitiser.amfws.arg.tech/propositionUnitizer-01 is up and running!\n",
      "Successfully processed 'propositionUnitizer'. Output saved at /tmp/tmp0z_44fmr.json\n",
      "Executing module 'cascading' (tag: cascading)\n",
      "Service at http://cascading-propositionUnitiser.amfws.arg.tech/propositionalizer-cascading is up and running!\n",
      "Successfully processed 'cascading'. Output saved at /tmp/tmpva0k3gdc.json\n",
      "Executing module 'bert-te' (tag: bert-te)\n",
      "Service at http://bert-te.amfws.arg.tech/bert-te is up and running!\n",
      "Successfully processed 'bert-te'. Output saved at /tmp/tmpc_yy7df7.json\n"
     ]
    }
   ],
   "source": [
    "# Example: Initialize AIF with free text to generate xAIF format\n",
    "import json\n",
    "import tempfile\n",
    "xaif_data = AIF(\"Sample input text.\") \n",
    "\n",
    "# Write temporary JSON\n",
    "def write_temp_json(data):\n",
    "    with tempfile.NamedTemporaryFile(mode='w+', delete=False, suffix='.json') as temp_file:\n",
    "        json.dump(data, temp_file, indent=4)\n",
    "        temp_file_path = temp_file.name\n",
    "    print(f\"Temporary JSON file created at: {temp_file_path}\")\n",
    "    return temp_file_path\n",
    "input_file_path = write_temp_json(xaif_data.xaif)  # save xAIF to a file\n",
    "\n",
    "# Execute the pipeline with the specified graph and input file\n",
    "# This returns the output path (where the result is saved) and the output data as JSON\n",
    "output_path, output_json = oamf.pipelineExecutor(pipeline_graph, input_file_path)\n"
   ]
  },
  {
   "cell_type": "markdown",
   "id": "14bc21f2-4a3b-4882-94a7-c7e5072e4bfe",
   "metadata": {},
   "source": [
    "## **Run Pipeline using n8n Workflow**"
   ]
  },
  {
   "cell_type": "code",
   "execution_count": 17,
   "id": "63149ee7-b896-49bc-a9ae-d3d9a93eb953",
   "metadata": {},
   "outputs": [
    {
     "name": "stdout",
     "output_type": "stream",
     "text": [
      "Execution Order: ['Set Dialog Text', 'Text to JSON2', 'JSON to File3', 'Turninator2', 'Segmenter2', 'Propositionalizer1', 'bert-te1']\n",
      "Dependencies: [('Text to JSON2', 'JSON to File3'), ('JSON to File3', 'Turninator2'), ('Set Dialog Text', 'Text to JSON2'), ('Turninator2', 'Segmenter2'), ('Segmenter2', 'Propositionalizer1'), ('Propositionalizer1', 'bert-te1')]\n",
      "Response from Turninator2 (HTTP POST http://default-turninator.amfws.arg.tech/turninator-01): 200\n",
      "{\"AIF\": {\"nodes\": [{\"text\": \" Sample input text..\", \"type\": \"L\", \"nodeID\": 0}], \"edges\": [], \"locutions\": [{\"personID\": 1, \"nodeID\": 0}], \"schemefulfillments\": [], \"descriptorfulfillments\": [], \"participants\": [{\"participantID\": 1, \"firstname\": \"Default\", \"surname\": \"Speaker\"}]}, \"ova\": [], \"dialog\": {}, \"text\": {\"txt\": \" Default Speaker <span class=\\\"highlighted\\\" id=\\\"0\\\"> Sample input text..</span>.<br><br>\"}}\n",
      "Response from Segmenter2 (HTTP POST http://default-segmenter.amfws.arg.tech/segmenter-01): 200\n",
      "{\"AIF\":{\"descriptorfulfillments\":[],\"edges\":[],\"locutions\":[{\"nodeID\":0,\"personID\":1}],\"nodes\":[{\"nodeID\":0,\"text\":\" Sample input text..\",\"type\":\"L\"}],\"participants\":[{\"firstname\":\"Default\",\"participantID\":1,\"surname\":\"Speaker\"}],\"schemefulfillments\":[]},\"dialog\":{},\"ova\":[],\"text\":{\"txt\":\" Default Speaker <span class=\\\"highlighted\\\" id=\\\"0\\\"> Sample input text..</span>.<br><br>\"}}\n",
      "\n",
      "Response from Propositionalizer1 (HTTP POST http://default-proposition-unitiser.amfws.arg.tech/propositionUnitizer-01): 200\n",
      "{\"AIF\":{\"descriptorfulfillments\":[],\"edges\":[{\"edgeID\":0,\"fromID\":0,\"toID\":2},{\"edgeID\":1,\"fromID\":2,\"toID\":1}],\"locutions\":[{\"nodeID\":0,\"personID\":1}],\"nodes\":[{\"nodeID\":0,\"text\":\" Sample input text..\",\"type\":\"L\"},{\"nodeID\":1,\"text\":\" Sample input text..\",\"type\":\"I\"},{\"nodeID\":2,\"text\":\"Default Illocuting\",\"type\":\"YA\"}],\"participants\":[{\"firstname\":\"Default\",\"participantID\":1,\"surname\":\"Speaker\"}],\"schemefulfillments\":[]},\"dialog\":{},\"ova\":[],\"text\":{\"txt\":\" Default Speaker <span class=\\\"highlighted\\\" id=\\\"0\\\"> Sample input text..</span>.<br><br>\"}}\n",
      "\n",
      "Response from bert-te1 (HTTP POST http://bert-te.amfws.arg.tech/bert-te): 200\n",
      "{\"AIF\":{\"descriptorfulfillments\":[],\"edges\":[{\"edgeID\":0,\"fromID\":0,\"toID\":2},{\"edgeID\":1,\"fromID\":2,\"toID\":1}],\"locutions\":[{\"nodeID\":0,\"personID\":1}],\"nodes\":[{\"nodeID\":0,\"text\":\" Sample input text..\",\"type\":\"L\"},{\"nodeID\":1,\"text\":\" Sample input text..\",\"type\":\"I\"},{\"nodeID\":2,\"text\":\"Default Illocuting\",\"type\":\"YA\"}],\"participants\":[{\"firstname\":\"Default\",\"participantID\":1,\"surname\":\"Speaker\"}],\"schemefulfillments\":[]},\"dialog\":{},\"ova\":[],\"text\":{\"txt\":\" Default Speaker <span class=\\\"highlighted\\\" id=\\\"0\\\"> Sample input text..</span>.<br><br>\"}}\n",
      "\n"
     ]
    },
    {
     "data": {
      "text/plain": [
       "\"Pipeline execution completed. Final result: {'Turninator2': {'file': ('response.json', <_io.BufferedReader name='/tmp/tmpemf7fp38'>)}, 'Segmenter2': {'file': ('response.json', <_io.BufferedReader name='/tmp/tmp_a2y4bkc'>)}, 'Propositionalizer1': {'file': ('response.json', <_io.BufferedReader name='/tmp/tmpy9_2n7qm'>)}, 'bert-te1': {'file': ('response.json', <_io.BufferedReader name='/tmp/tmpau6zteia'>)}}\""
      ]
     },
     "execution_count": 17,
     "metadata": {},
     "output_type": "execute_result"
    }
   ],
   "source": [
    "# Override the manually defined pipeline with one built using n8n (if applicable). Build workflow on n8n and download it and excute throught the oAMF API\n",
    "# Define the workflow file path\n",
    "workflow_file = \"workflow.json\"  # Path to the input xAIF data file\n",
    "oamf.pipelineExecutor(pipeline_graph, input_file_path, workflow_file)"
   ]
  },
  {
   "cell_type": "markdown",
   "id": "c331a96d-5faa-4a33-a461-9fa237572476",
   "metadata": {},
   "source": [
    "## **Use xaif library to extract and export the xaif to csv**"
   ]
  },
  {
   "cell_type": "code",
   "execution_count": 22,
   "id": "d3a47a74-bde9-4577-8c44-84f93a79da1c",
   "metadata": {},
   "outputs": [
    {
     "name": "stdout",
     "output_type": "stream",
     "text": [
      "Empty DataFrame\n",
      "Columns: [proposition1_id, proposition1_text, proposition2_id, proposition2_text, relation]\n",
      "Index: []\n"
     ]
    }
   ],
   "source": [
    "# Export to dataframe in CSV format\n",
    "xaif = AIF(output_json) # initialise xaif kibrary with xaif data obtained from the pipeline output\n",
    "predection_dataframe = xaif.get_csv(\"argument-relation\")\n",
    "print(predection_dataframe)\n"
   ]
  },
  {
   "cell_type": "code",
   "execution_count": null,
   "id": "8ff02343-1854-4f23-8dae-7020f6b1d00f",
   "metadata": {},
   "outputs": [],
   "source": []
  },
  {
   "cell_type": "code",
   "execution_count": null,
   "id": "94e6b75a-916b-47de-b93f-1a8b651938b4",
   "metadata": {},
   "outputs": [],
   "source": []
  },
  {
   "cell_type": "code",
   "execution_count": null,
   "id": "ed0c6a8d-5b56-4050-a7d6-e0892eb571e2",
   "metadata": {},
   "outputs": [],
   "source": []
  },
  {
   "cell_type": "code",
   "execution_count": null,
   "id": "fc199060-247d-4ebf-aa24-1e5e1fd1e4fe",
   "metadata": {},
   "outputs": [],
   "source": []
  }
 ],
 "metadata": {
  "kernelspec": {
   "display_name": "Python 3 (ipykernel)",
   "language": "python",
   "name": "python3"
  },
  "language_info": {
   "codemirror_mode": {
    "name": "ipython",
    "version": 3
   },
   "file_extension": ".py",
   "mimetype": "text/x-python",
   "name": "python",
   "nbconvert_exporter": "python",
   "pygments_lexer": "ipython3",
   "version": "3.8.16"
  }
 },
 "nbformat": 4,
 "nbformat_minor": 5
}
