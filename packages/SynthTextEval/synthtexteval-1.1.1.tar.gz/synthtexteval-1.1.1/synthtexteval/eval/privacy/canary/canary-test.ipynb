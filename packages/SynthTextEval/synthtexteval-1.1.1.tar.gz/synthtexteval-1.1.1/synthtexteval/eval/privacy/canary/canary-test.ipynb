{
 "cells": [
  {
   "cell_type": "code",
   "execution_count": 1,
   "metadata": {},
   "outputs": [
    {
     "name": "stderr",
     "output_type": "stream",
     "text": [
      "/data/kramesh3/envs/sdg-env/lib/python3.9/site-packages/torch/utils/_pytree.py:185: FutureWarning: optree is installed but the version is too old to support PyTorch Dynamo in C++ pytree. C++ pytree support is disabled. Please consider upgrading optree using `python3 -m pip install --upgrade 'optree>=0.13.0'`.\n",
      "  warnings.warn(\n"
     ]
    }
   ],
   "source": [
    "from synthtexteval.eval.privacy.canary.generate_candidates import read_candidate_data, generate_candidates\n",
    "from synthtexteval.eval.privacy.canary.canary import Canary, CanaryArguments"
   ]
  },
  {
   "cell_type": "code",
   "execution_count": 2,
   "metadata": {},
   "outputs": [],
   "source": [
    "candidate_dict = read_candidate_data(file_path = 'canaries.txt')\n",
    "generate_candidates('candidates.csv', candidate_dict, n_candidates = 2)"
   ]
  },
  {
   "cell_type": "code",
   "execution_count": 2,
   "metadata": {},
   "outputs": [],
   "source": [
    "args = CanaryArguments()\n",
    "args.create_dataset = False\n",
    "args.insertion_N = 10\n",
    "args.path_to_dataset = '/data/kramesh3/diff-synth-data/private-synth-data/models-final/princeton_cps_T1_data/eval.csv'\n",
    "args.path_to_save_dataset = 'temp_eval.csv'\n",
    "args.canary_file_path = 'canaries.txt'\n",
    "args.candidates_file_path = 'candidates.csv'\n",
    "args.text_column = 'CMNT_TXT'\n",
    "args.model_name = 'princeton-nlp/Sheared-LLaMA-1.3B'\n",
    "args.path_to_model = '/data/kramesh3/diff-synth-data/private-synth-data/models-final/princeton_cps_T1_DP_inf'\n"
   ]
  },
  {
   "cell_type": "code",
   "execution_count": 3,
   "metadata": {},
   "outputs": [
    {
     "name": "stdout",
     "output_type": "stream",
     "text": [
      "Privacy evaluation\n",
      "CPU:  0.1\n",
      "Model:  princeton-nlp/Sheared-LLaMA-1.3B\n"
     ]
    },
    {
     "name": "stderr",
     "output_type": "stream",
     "text": [
      "You are using the default legacy behaviour of the <class 'transformers.models.llama.tokenization_llama_fast.LlamaTokenizerFast'>. This is expected, and simply means that the `legacy` (previous) behavior will be used so nothing changes for you. If you want to use the new behaviour, set `legacy=False`. This should only be set if you understand what it means, and thoroughly read the reason why this was added as explained in https://github.com/huggingface/transformers/pull/24565 - if you loaded a llama tokenizer from a GGUF file you can ignore this message.\n",
      "  0%|          | 0/3 [00:00<?, ?it/s]Starting from v4.46, the `logits` model output will have the same type as the model (except at train time, where it will always be FP32)\n",
      "100%|██████████| 3/3 [00:00<00:00,  3.89it/s]\n"
     ]
    },
    {
     "name": "stdout",
     "output_type": "stream",
     "text": [
      "Exposure: 1.0\n",
      "Rank: 1\n",
      "Perplexity 97.11317523726238\n",
      "\n",
      "\n",
      "\n"
     ]
    },
    {
     "name": "stderr",
     "output_type": "stream",
     "text": [
      "100%|██████████| 3/3 [00:01<00:00,  2.64it/s]\n"
     ]
    },
    {
     "name": "stdout",
     "output_type": "stream",
     "text": [
      "Exposure: 0.0\n",
      "Rank: 2\n",
      "Perplexity 57.3038330103238\n",
      "\n",
      "\n",
      "\n"
     ]
    },
    {
     "name": "stderr",
     "output_type": "stream",
     "text": [
      "100%|██████████| 3/3 [00:01<00:00,  2.09it/s]\n"
     ]
    },
    {
     "name": "stdout",
     "output_type": "stream",
     "text": [
      "Exposure: 1.0\n",
      "Rank: 1\n",
      "Perplexity 20.810272028068354\n",
      "\n",
      "\n",
      "\n"
     ]
    },
    {
     "name": "stderr",
     "output_type": "stream",
     "text": [
      "100%|██████████| 3/3 [00:01<00:00,  2.29it/s]"
     ]
    },
    {
     "name": "stdout",
     "output_type": "stream",
     "text": [
      "Exposure: 1.0\n",
      "Rank: 1\n",
      "Perplexity 17.255226693436427\n",
      "\n",
      "\n",
      "\n"
     ]
    },
    {
     "name": "stderr",
     "output_type": "stream",
     "text": [
      "\n"
     ]
    }
   ],
   "source": [
    "if(args.create_dataset):\n",
    "    obj = Canary(args)\n",
    "    obj.create_dataset_training()\n",
    "else:\n",
    "    print(\"Privacy evaluation\")\n",
    "    obj = Canary(args)\n",
    "    obj.canary_attack_eval('results.csv')\n"
   ]
  }
 ],
 "metadata": {
  "kernelspec": {
   "display_name": "Python 3",
   "language": "python",
   "name": "python3"
  },
  "language_info": {
   "codemirror_mode": {
    "name": "ipython",
    "version": 3
   },
   "file_extension": ".py",
   "mimetype": "text/x-python",
   "name": "python",
   "nbconvert_exporter": "python",
   "pygments_lexer": "ipython3",
   "version": "3.9.18"
  }
 },
 "nbformat": 4,
 "nbformat_minor": 2
}
