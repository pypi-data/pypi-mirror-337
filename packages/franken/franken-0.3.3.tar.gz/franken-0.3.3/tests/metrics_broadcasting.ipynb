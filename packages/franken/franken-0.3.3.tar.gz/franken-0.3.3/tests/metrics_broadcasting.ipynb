{
 "cells": [
  {
   "cell_type": "code",
   "execution_count": 1,
   "metadata": {},
   "outputs": [],
   "source": [
    "%load_ext autoreload\n",
    "%autoreload 2"
   ]
  },
  {
   "cell_type": "code",
   "execution_count": 2,
   "metadata": {},
   "outputs": [],
   "source": [
    "\n",
    "import torch\n",
    "from franken.backbones.utils import CacheDir\n",
    "from franken.rf.model import FrankenPotential, GaussianRFParams"
   ]
  },
  {
   "cell_type": "code",
   "execution_count": 3,
   "metadata": {},
   "outputs": [
    {
     "data": {
      "application/vnd.jupyter.widget-view+json": {
       "model_id": "d316bd562e2647f89489b927f670c0cf",
       "version_major": 2,
       "version_minor": 0
      },
      "text/plain": [
       "converting ASE atoms collection to graphs:   0%|          | 0/32 [00:00<?, ? systems/s]"
      ]
     },
     "metadata": {},
     "output_type": "display_data"
    }
   ],
   "source": [
    "# It is a bit weird that to initialize a FrankenPotential we need to initialize a rather obscure CacheDir first. Make it easier.\n",
    "device = torch.device('cuda:0')\n",
    "CacheDir.initialize()\n",
    "model = FrankenPotential(\"SchNet-S2EF-OC20-200k\", \"gaussian\", GaussianRFParams()).to(device)\n",
    "\n",
    "num_solver_params = 121\n",
    "all_weights = torch.zeros(\n",
    "    num_solver_params,\n",
    "    model.rf.total_random_features,\n",
    "    dtype=torch.float32,\n",
    "    device=device,\n",
    ")\n",
    "\n",
    "# Dataset init.\n",
    "from franken.data import BaseAtomsDataset, Target\n",
    "from franken.data.utils import get_dataloader\n",
    "\n",
    "dset = BaseAtomsDataset.from_path(\n",
    "    \"/home/novelli/franken/datasets/test/32/train.xyz\",\n",
    "    split=\"train\",\n",
    "    gnn_backbone_id=\"SchNet-S2EF-OC20-200k\",\n",
    ")\n",
    "dloader = get_dataloader(dset, distributed=False)"
   ]
  },
  {
   "cell_type": "code",
   "execution_count": 8,
   "metadata": {},
   "outputs": [],
   "source": [
    "import franken.metrics\n",
    "\n",
    "metrics = {k: franken.metrics.spawn(k, device=device) for k in franken.metrics.available_metrics()}\n",
    "for data, targets in dloader:\n",
    "    data = data.to(device=device)\n",
    "    targets = targets.to(device=device)\n",
    "    predictions = Target(*model.energy_and_forces(\n",
    "        data, weights=all_weights, forces_mode=\"torch.func\"\n",
    "    ))\n",
    "    for m in metrics.values():\n",
    "        m.update(predictions, targets)"
   ]
  },
  {
   "cell_type": "code",
   "execution_count": 12,
   "metadata": {},
   "outputs": [],
   "source": [
    "metric_values = {\n",
    "    k: metrics[k].compute() for k in metrics\n",
    "}"
   ]
  },
  {
   "cell_type": "code",
   "execution_count": 14,
   "metadata": {},
   "outputs": [
    {
     "data": {
      "text/plain": [
       "{'energy_MAE': tensor([7.5233, 7.5233, 7.5233, 7.5233, 7.5233, 7.5233, 7.5233, 7.5233, 7.5233,\n",
       "         7.5233, 7.5233, 7.5233, 7.5233, 7.5233, 7.5233, 7.5233, 7.5233, 7.5233,\n",
       "         7.5233, 7.5233, 7.5233, 7.5233, 7.5233, 7.5233, 7.5233, 7.5233, 7.5233,\n",
       "         7.5233, 7.5233, 7.5233, 7.5233, 7.5233, 7.5233, 7.5233, 7.5233, 7.5233,\n",
       "         7.5233, 7.5233, 7.5233, 7.5233, 7.5233, 7.5233, 7.5233, 7.5233, 7.5233,\n",
       "         7.5233, 7.5233, 7.5233, 7.5233, 7.5233, 7.5233, 7.5233, 7.5233, 7.5233,\n",
       "         7.5233, 7.5233, 7.5233, 7.5233, 7.5233, 7.5233, 7.5233, 7.5233, 7.5233,\n",
       "         7.5233, 7.5233, 7.5233, 7.5233, 7.5233, 7.5233, 7.5233, 7.5233, 7.5233,\n",
       "         7.5233, 7.5233, 7.5233, 7.5233, 7.5233, 7.5233, 7.5233, 7.5233, 7.5233,\n",
       "         7.5233, 7.5233, 7.5233, 7.5233, 7.5233, 7.5233, 7.5233, 7.5233, 7.5233,\n",
       "         7.5233, 7.5233, 7.5233, 7.5233, 7.5233, 7.5233, 7.5233, 7.5233, 7.5233,\n",
       "         7.5233, 7.5233, 7.5233, 7.5233, 7.5233, 7.5233, 7.5233, 7.5233, 7.5233,\n",
       "         7.5233, 7.5233, 7.5233, 7.5233, 7.5233, 7.5233, 7.5233, 7.5233, 7.5233,\n",
       "         7.5233, 7.5233, 7.5233, 7.5233], device='cuda:0'),\n",
       " 'forces_MAE': tensor([488.5473, 488.5473, 488.5473, 488.5473, 488.5473, 488.5473, 488.5473,\n",
       "         488.5473, 488.5473, 488.5473, 488.5473, 488.5473, 488.5473, 488.5473,\n",
       "         488.5473, 488.5473, 488.5473, 488.5473, 488.5473, 488.5473, 488.5473,\n",
       "         488.5473, 488.5473, 488.5473, 488.5473, 488.5473, 488.5473, 488.5473,\n",
       "         488.5473, 488.5473, 488.5473, 488.5473, 488.5473, 488.5473, 488.5473,\n",
       "         488.5473, 488.5473, 488.5473, 488.5473, 488.5473, 488.5473, 488.5473,\n",
       "         488.5473, 488.5473, 488.5473, 488.5473, 488.5473, 488.5473, 488.5473,\n",
       "         488.5473, 488.5473, 488.5473, 488.5473, 488.5473, 488.5473, 488.5473,\n",
       "         488.5473, 488.5473, 488.5473, 488.5473, 488.5473, 488.5473, 488.5473,\n",
       "         488.5473, 488.5473, 488.5473, 488.5473, 488.5473, 488.5473, 488.5473,\n",
       "         488.5473, 488.5473, 488.5473, 488.5473, 488.5473, 488.5473, 488.5473,\n",
       "         488.5473, 488.5473, 488.5473, 488.5473, 488.5473, 488.5473, 488.5473,\n",
       "         488.5473, 488.5473, 488.5473, 488.5473, 488.5473, 488.5473, 488.5473,\n",
       "         488.5473, 488.5473, 488.5473, 488.5473, 488.5473, 488.5473, 488.5473,\n",
       "         488.5473, 488.5473, 488.5473, 488.5473, 488.5473, 488.5473, 488.5473,\n",
       "         488.5473, 488.5473, 488.5473, 488.5473, 488.5473, 488.5473, 488.5473,\n",
       "         488.5473, 488.5473, 488.5473, 488.5473, 488.5473, 488.5473, 488.5473,\n",
       "         488.5473, 488.5473], device='cuda:0'),\n",
       " 'forces_cosim': tensor([0., 0., 0., 0., 0., 0., 0., 0., 0., 0., 0., 0., 0., 0., 0., 0., 0., 0., 0., 0., 0., 0., 0., 0.,\n",
       "         0., 0., 0., 0., 0., 0., 0., 0., 0., 0., 0., 0., 0., 0., 0., 0., 0., 0., 0., 0., 0., 0., 0., 0.,\n",
       "         0., 0., 0., 0., 0., 0., 0., 0., 0., 0., 0., 0., 0., 0., 0., 0., 0., 0., 0., 0., 0., 0., 0., 0.,\n",
       "         0., 0., 0., 0., 0., 0., 0., 0., 0., 0., 0., 0., 0., 0., 0., 0., 0., 0., 0., 0., 0., 0., 0., 0.,\n",
       "         0., 0., 0., 0., 0., 0., 0., 0., 0., 0., 0., 0., 0., 0., 0., 0., 0., 0., 0., 0., 0., 0., 0., 0.,\n",
       "         0.], device='cuda:0')}"
      ]
     },
     "execution_count": 14,
     "metadata": {},
     "output_type": "execute_result"
    }
   ],
   "source": [
    "metric_values"
   ]
  },
  {
   "cell_type": "code",
   "execution_count": 13,
   "metadata": {},
   "outputs": [
    {
     "ename": "AttributeError",
     "evalue": "'NoneType' object has no attribute 'shape'",
     "output_type": "error",
     "traceback": [
      "\u001b[0;31m---------------------------------------------------------------------------\u001b[0m",
      "\u001b[0;31mAttributeError\u001b[0m                            Traceback (most recent call last)",
      "Cell \u001b[0;32mIn[13], line 1\u001b[0m\n\u001b[0;32m----> 1\u001b[0m \u001b[43mmetrics\u001b[49m\u001b[43m[\u001b[49m\u001b[38;5;124;43m'\u001b[39;49m\u001b[38;5;124;43menergy_MAE\u001b[39;49m\u001b[38;5;124;43m'\u001b[39;49m\u001b[43m]\u001b[49m\u001b[38;5;241;43m.\u001b[39;49m\u001b[43mbuffer\u001b[49m\u001b[38;5;241;43m.\u001b[39;49m\u001b[43mshape\u001b[49m\n",
      "\u001b[0;31mAttributeError\u001b[0m: 'NoneType' object has no attribute 'shape'"
     ]
    }
   ],
   "source": [
    "metrics['energy_MAE'].buffer.shape"
   ]
  },
  {
   "cell_type": "code",
   "execution_count": 11,
   "metadata": {},
   "outputs": [
    {
     "data": {
      "text/plain": [
       "torch.Size([121])"
      ]
     },
     "execution_count": 11,
     "metadata": {},
     "output_type": "execute_result"
    }
   ],
   "source": [
    "metrics['forces_MAE'].buffer.shape"
   ]
  },
  {
   "cell_type": "code",
   "execution_count": 10,
   "metadata": {},
   "outputs": [
    {
     "data": {
      "text/plain": [
       "torch.Size([121])"
      ]
     },
     "execution_count": 10,
     "metadata": {},
     "output_type": "execute_result"
    }
   ],
   "source": [
    "metrics['forces_cosim'].buffer.shape"
   ]
  },
  {
   "cell_type": "code",
   "execution_count": null,
   "metadata": {},
   "outputs": [],
   "source": []
  }
 ],
 "metadata": {
  "kernelspec": {
   "display_name": "franken",
   "language": "python",
   "name": "python3"
  },
  "language_info": {
   "codemirror_mode": {
    "name": "ipython",
    "version": 3
   },
   "file_extension": ".py",
   "mimetype": "text/x-python",
   "name": "python",
   "nbconvert_exporter": "python",
   "pygments_lexer": "ipython3",
   "version": "3.11.10"
  }
 },
 "nbformat": 4,
 "nbformat_minor": 2
}
