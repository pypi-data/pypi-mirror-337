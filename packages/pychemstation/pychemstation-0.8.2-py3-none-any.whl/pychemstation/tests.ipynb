{
 "cells": [
  {
   "cell_type": "code",
   "execution_count": 6,
   "metadata": {},
   "outputs": [
    {
     "name": "stdout",
     "output_type": "stream",
     "text": [
      "parsed_response = 'testing.M'\n",
      "switch method\n",
      "sample_name = 'run_0_test'\n",
      "check_hplc_is_running\n",
      "(<queue.Queue object at 0x000001D5B606D790>, False)\n",
      "check_hplc_is_running\n",
      "check_hplc_done_running\n",
      "done run\n",
      "done running\n",
      "No data at channel: G\n",
      "No data at channel: H\n",
      "got data\n"
     ]
    },
    {
     "data": {
      "text/plain": [
       "'C:\\\\Program Files (x86)\\\\Agilent Technologies\\\\ChemStation\\\\CORE'"
      ]
     },
     "execution_count": 6,
     "metadata": {},
     "output_type": "execute_result"
    }
   ],
   "source": [
    "from pychemstation.control import HPLCController\n",
    "import pandas as pd\n",
    "\n",
    "# C:\\Users\\Public\\Documents\\ChemStation\\1\n",
    "# these paths will be unique to your Chemstation setup\n",
    "\n",
    "DEFAULT_COMMAND_PATH = r\"C:\\Users\\User\\Finn\\code\\turbo_iroh\\sub_modules\\pychemstation\\letterbox\"\n",
    "DEFAULT_METHOD = \"testing\"\n",
    "DEFAULT_METHOD_DIR = r\"C:\\\\Users\\\\Public\\\\Documents\\\\ChemStation\\\\1\\\\Methods\\\\\"\n",
    "DATA_DIR = \"C:\\\\Users\\\\Public\\\\Documents\\\\ChemStation\\\\1\\\\data\\\\\" \n",
    "SEQUENCE_DIR = r\"C:\\\\Users\\\\Public\\\\Documents\\\\ChemStation\\\\1\\\\Sequence\\\\\"\n",
    "\n",
    "hplc_controller = HPLCController(data_dirs=[DATA_DIR],\n",
    "                                 comm_dir=DEFAULT_COMMAND_PATH,\n",
    "                                 sequence_dir=SEQUENCE_DIR,\n",
    "                                 method_dir=DEFAULT_METHOD_DIR)\n",
    "\n",
    "# hplc_controller.preprun()\n",
    "\n",
    "hplc_controller.switch_method(method_name=DEFAULT_METHOD)\n",
    "print(\"switch method\")\n",
    "\n",
    "i = 0\n",
    "sample_name = f\"run_{i}_test\"\n",
    "print(f\"{sample_name = }\")\n",
    "\n",
    "hplc_controller.run_method(experiment_name=\"run_test\")\n",
    "print(\"done running\")\n",
    "\n",
    "input(\"is done?\")\n",
    "chrom = hplc_controller.get_last_run_method_data()\n",
    "print(\"got data\")\n",
    "\n",
    "\n",
    "\n",
    "\n",
    "# RunMethod \"C:\\Users\\Public\\Documents\\ChemStation\\1\\data\\\",, \"testingaaal\"\n",
    "# RunMethod \"C:\\Users\\Public\\Documents\\ChemStation\\1\\data\\\",, \"testingaaal\"\n",
    "\n",
    "\"C:\\\\program files (X86)\\\\Agilent Technologies\\\\chemstation\\\\core\"\n",
    "\"C:\\\\Program Files (x86)\\\\Agilent Technologies\\\\ChemStation\\\\CORE\""
   ]
  },
  {
   "cell_type": "code",
   "execution_count": null,
   "metadata": {},
   "outputs": [],
   "source": [
    "values = {\"x\": chrom.A.x, \"y\": chrom.A.y}\n",
    "chromatogram_data = pd.DataFrame.from_dict(values)\n",
    "chromatogram_data.to_csv(\"Run 10.csv\", index=False) "
   ]
  },
  {
   "cell_type": "code",
   "execution_count": 4,
   "metadata": {},
   "outputs": [
    {
     "data": {
      "text/plain": [
       "<pychemstation.utils.chromatogram.AgilentHPLCChromatogram at 0x1d584cef390>"
      ]
     },
     "execution_count": 4,
     "metadata": {},
     "output_type": "execute_result"
    }
   ],
   "source": [
    "chrom.A"
   ]
  },
  {
   "cell_type": "code",
   "execution_count": 7,
   "metadata": {},
   "outputs": [
    {
     "data": {
      "image/png": "[encoded data removed]",
      "text/plain": [
       "<Figure size 640x480 with 1 Axes>"
      ]
     },
     "metadata": {},
     "output_type": "display_data"
    }
   ],
   "source": [
    "import matplotlib.pyplot as plt\n",
    "\n",
    "# plt.scatter(chrom.A.x, chrom.A.y, label=\"A\")\n",
    "plt.scatter(chrom.D.x, chrom.D.y, label=\"D\")\n",
    "plt.scatter(chrom.F.x, chrom.F.y, label=\"F\")\n",
    "plt.show()\n"
   ]
  },
  {
   "cell_type": "code",
   "execution_count": 1,
   "metadata": {},
   "outputs": [
    {
     "name": "stdout",
     "output_type": "stream",
     "text": [
      "sample_name = 'run_0_test'\n"
     ]
    }
   ],
   "source": [
    "from pychemstation.control import HPLCController\n",
    "import pandas as pd\n",
    "import time\n",
    "# C:\\Users\\Public\\Documents\\ChemStation\\1\n",
    "# these paths will be unique to your Chemstation setup\n",
    "\n",
    "DEFAULT_COMMAND_PATH = r\"C:\\Users\\User\\Finn\\code\\turbo_iroh\\sub_modules\\pychemstation\\letterbox\"\n",
    "DEFAULT_METHOD = \"testing\"\n",
    "DEFAULT_METHOD_DIR = r\"C:\\\\Users\\\\Public\\\\Documents\\\\ChemStation\\\\1\\\\Methods\\\\\"\n",
    "DATA_DIR = \"C:\\\\Users\\\\Public\\\\Documents\\\\ChemStation\\\\1\\\\data\\\\\" \n",
    "SEQUENCE_DIR = r\"C:\\\\Users\\\\Public\\\\Documents\\\\ChemStation\\\\1\\\\Sequence\\\\\"\n",
    "\n",
    "hplc_controller = HPLCController(data_dirs=[DATA_DIR],\n",
    "                                 comm_dir=DEFAULT_COMMAND_PATH,\n",
    "                                 sequence_dir=SEQUENCE_DIR,\n",
    "                                 method_dir=DEFAULT_METHOD_DIR)\n",
    "\n",
    "# hplc_controller.preprun()\n",
    "\n",
    "# hplc_controller.switch_method(method_name=DEFAULT_METHOD)\n",
    "# print(\"switch method\")\n",
    "\n",
    "i = 0\n",
    "sample_name = f\"run_{i}_test\"\n",
    "print(f\"{sample_name = }\")\n",
    "\n"
   ]
  },
  {
   "cell_type": "code",
   "execution_count": 6,
   "metadata": {},
   "outputs": [],
   "source": [
    "hplc_controller.run_method(experiment_name=\"run_test\", stall_while_running=False)"
   ]
  },
  {
   "cell_type": "code",
   "execution_count": 7,
   "metadata": {},
   "outputs": [
    {
     "name": "stdout",
     "output_type": "stream",
     "text": [
      "check_hplc_is_running\n"
     ]
    }
   ],
   "source": [
    "hplc_controller.wait_hplc_running()"
   ]
  },
  {
   "cell_type": "code",
   "execution_count": 8,
   "metadata": {},
   "outputs": [
    {
     "name": "stdout",
     "output_type": "stream",
     "text": [
      "Finished HPLC run: True\n",
      "Looking for:\n",
      "most_recent_folder = 'C:\\\\Users\\\\Public\\\\Documents\\\\ChemStation\\\\1\\\\data\\\\run_test_2025-03-28-00-14-53.D'\n",
      "Looking for:\n",
      "most_recent_folder = 'C:\\\\Users\\\\Public\\\\Documents\\\\ChemStation\\\\1\\\\data\\\\run_test_2025-03-28-00-14-53.D'\n"
     ]
    }
   ],
   "source": [
    "# custom wait\n",
    "hplc_controller.wait_hplc()"
   ]
  },
  {
   "cell_type": "code",
   "execution_count": 9,
   "metadata": {},
   "outputs": [
    {
     "name": "stdout",
     "output_type": "stream",
     "text": [
      "No data at channel: G\n",
      "No data at channel: H\n",
      "got data\n"
     ]
    },
    {
     "data": {
      "image/png": "[encoded data removed]",
      "text/plain": [
       "<Figure size 640x480 with 1 Axes>"
      ]
     },
     "metadata": {},
     "output_type": "display_data"
    },
    {
     "data": {
      "text/plain": [
       "'C:\\\\Program Files (x86)\\\\Agilent Technologies\\\\ChemStation\\\\CORE'"
      ]
     },
     "execution_count": 9,
     "metadata": {},
     "output_type": "execute_result"
    }
   ],
   "source": [
    "\n",
    "chrom = hplc_controller.get_last_run_method_data()\n",
    "print(\"got data\")\n",
    "\n",
    "import matplotlib.pyplot as plt\n",
    "\n",
    "# plt.scatter(chrom.A.x, chrom.A.y, label=\"A\")\n",
    "plt.scatter(chrom.D.x, chrom.D.y, label=\"D\")\n",
    "plt.scatter(chrom.F.x, chrom.F.y, label=\"F\")\n",
    "plt.show()\n",
    "\n",
    "# RunMethod \"C:\\Users\\Public\\Documents\\ChemStation\\1\\data\\\",, \"testingaaal\"\n",
    "# RunMethod \"C:\\Users\\Public\\Documents\\ChemStation\\1\\data\\\",, \"testingaaal\"\n",
    "\n",
    "\"C:\\\\program files (X86)\\\\Agilent Technologies\\\\chemstation\\\\core\"\n",
    "\"C:\\\\Program Files (x86)\\\\Agilent Technologies\\\\ChemStation\\\\CORE\""
   ]
  },
  {
   "cell_type": "code",
   "execution_count": null,
   "metadata": {},
   "outputs": [],
   "source": []
  }
 ],
 "metadata": {
  "kernelspec": {
   "display_name": "iroh_env",
   "language": "python",
   "name": "python3"
  },
  "language_info": {
   "codemirror_mode": {
    "name": "ipython",
    "version": 3
   },
   "file_extension": ".py",
   "mimetype": "text/x-python",
   "name": "python",
   "nbconvert_exporter": "python",
   "pygments_lexer": "ipython3",
   "version": "3.8.20"
  }
 },
 "nbformat": 4,
 "nbformat_minor": 2
}
