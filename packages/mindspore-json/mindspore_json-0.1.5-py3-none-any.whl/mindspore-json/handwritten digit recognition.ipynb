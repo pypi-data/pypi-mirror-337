{
 "cells": [
  {
   "cell_type": "code",
   "execution_count": 1,
   "id": "4e9f31bf-3a06-4f9a-9b54-171af093eb6c",
   "metadata": {},
   "outputs": [],
   "source": [
    "#导入相关依赖库\n",
    "import  os\n",
    "from matplotlib import pyplot as plt\n",
    "import numpy as np\n",
    "\n",
    "import mindspore as ms\n",
    "import mindspore.context as context\n",
    "import mindspore.dataset as ds\n",
    "import mindspore.dataset.transforms.c_transforms as C\n",
    "import mindspore.dataset.vision.c_transforms as CV\n",
    "from mindspore.nn.metrics import Accuracy\n",
    "\n",
    "from mindspore import nn\n",
    "from mindspore.train import Model\n",
    "from mindspore.train.callback import ModelCheckpoint, CheckpointConfig, LossMonitor, TimeMonitor\n",
    "\n",
    "context.set_context(mode=context.GRAPH_MODE, device_target='CPU')\n"
   ]
  },
  {
   "cell_type": "code",
   "execution_count": 2,
   "id": "2d741e07-55aa-4889-94da-7be02a6f6443",
   "metadata": {},
   "outputs": [
    {
     "name": "stdout",
     "output_type": "stream",
     "text": [
      "训练数据集数量： 60000\n",
      "测试数据集数量： 10000\n",
      "图像长/宽/通道数： (28, 28, 1)\n",
      "一张图像的标签样式： 9\n"
     ]
    }
   ],
   "source": [
    "DATA_DIR_TRAIN = \"MNIST/train\" # 训练集信息\n",
    "DATA_DIR_TEST = \"MNIST/test\" # 测试集信息\n",
    "#读取数据\n",
    "ds_train = ds.MnistDataset(DATA_DIR_TRAIN)\n",
    "ds_test = ds.MnistDataset(DATA_DIR_TEST ) \n",
    "#显示数据集的相关特性\n",
    "print('训练数据集数量：',ds_train.get_dataset_size())\n",
    "print('测试数据集数量：',ds_test.get_dataset_size())\n",
    "image=ds_train.create_dict_iterator().__next__()\n",
    "print('图像长/宽/通道数：',image['image'].shape)\n",
    "print('一张图像的标签样式：',image['label'])    #一共10类，用0-9的数字表达类别。\n"
   ]
  },
  {
   "cell_type": "code",
   "execution_count": 3,
   "id": "3e9257c9-3129-4040-99da-308a422beccc",
   "metadata": {},
   "outputs": [],
   "source": [
    "def create_dataset(training=True, batch_size=128, resize=(28, 28),\n",
    "                   rescale=1/255, shift=0, buffer_size=64):\n",
    "    ds = ms.dataset.MnistDataset(DATA_DIR_TRAIN if training else DATA_DIR_TEST)\n",
    "    # 定义Map操作尺寸缩放，归一化和通道变换\n",
    "    resize_op = CV.Resize(resize)\n",
    "    rescale_op = CV.Rescale(rescale,shift)\n",
    "    hwc2chw_op = CV.HWC2CHW()\n",
    "    # 对数据集进行map操作\n",
    "    ds = ds.map(input_columns=\"image\", operations=[rescale_op,resize_op, hwc2chw_op])\n",
    "    ds = ds.map(input_columns=\"label\", operations=C.TypeCast(ms.int32))\n",
    "    #设定打乱操作参数和batchsize大小\n",
    "    ds = ds.shuffle(buffer_size=buffer_size)\n",
    "    ds = ds.batch(batch_size, drop_remainder=True)\n",
    "    return ds\n"
   ]
  },
  {
   "cell_type": "code",
   "execution_count": 4,
   "id": "54bc435b-4e62-4051-9dd2-e1089f330b09",
   "metadata": {},
   "outputs": [
    {
     "name": "stderr",
     "output_type": "stream",
     "text": [
      "[WARNING] ME(41085:139958250325824,MainProcess):2024-08-14-17:30:47.882.322 [mindspore/dataset/core/validator_helpers.py:744] 'Resize' from mindspore.dataset.vision.c_transforms is deprecated from version 1.8 and will be removed in a future version. Use 'Resize' from mindspore.dataset.vision instead.\n",
      "[WARNING] ME(41085:139958250325824,MainProcess):2024-08-14-17:30:47.883.864 [mindspore/dataset/core/validator_helpers.py:744] 'Rescale' from mindspore.dataset.vision.c_transforms is deprecated from version 1.8 and will be removed in a future version. Use 'Rescale' from mindspore.dataset.vision instead.\n",
      "[WARNING] ME(41085:139958250325824,MainProcess):2024-08-14-17:30:47.884.773 [mindspore/dataset/core/validator_helpers.py:744] 'HWC2CHW' from mindspore.dataset.vision.c_transforms is deprecated from version 1.8 and will be removed in a future version. Use 'HWC2CHW' from mindspore.dataset.vision instead.\n",
      "[WARNING] ME(41085:139958250325824,MainProcess):2024-08-14-17:30:47.885.928 [mindspore/dataset/core/validator_helpers.py:744] 'TypeCast' from mindspore.dataset.transforms.c_transforms is deprecated from version 1.8 and will be removed in a future version. Use 'TypeCast' from mindspore.dataset.transforms instead.\n"
     ]
    },
    {
     "data": {
      "image/png": "[encoded data removed]",
      "text/plain": [
       "<Figure size 1500x500 with 10 Axes>"
      ]
     },
     "metadata": {},
     "output_type": "display_data"
    }
   ],
   "source": [
    "#显示前10张图片以及对应标签,检查图片是否是正确的数据集\n",
    "ds = create_dataset(training=False)\n",
    "data = ds.create_dict_iterator().__next__()\n",
    "images = data['image'].asnumpy()\n",
    "labels = data['label'].asnumpy()\n",
    "plt.figure(figsize=(15,5))\n",
    "for i in range(1,11):\n",
    "    plt.subplot(2, 5, i)\n",
    "    plt.imshow(np.squeeze(images[i]))\n",
    "    plt.title('Number: %s' % labels[i])\n",
    "    plt.xticks([])\n",
    "plt.show()\n"
   ]
  },
  {
   "cell_type": "code",
   "execution_count": 5,
   "id": "7a2901c5-58b8-4f6d-9faf-6cba228c8e2c",
   "metadata": {},
   "outputs": [],
   "source": [
    "#创建模型。模型包括3个全连接层，最后输出层使用softmax进行多分类，共分成（0-9）10类\n",
    "class ForwardNN(nn.Cell):      \n",
    "    def __init__(self):\n",
    "        super(ForwardNN, self).__init__()\n",
    "        self.flatten = nn.Flatten()\n",
    "        self.fc1 = nn.Dense(784, 512, activation='relu')  \n",
    "        self.fc2 = nn.Dense(512, 128, activation='relu')\n",
    "        self.fc3 = nn.Dense(128, 10, activation=None)\n",
    "       \n",
    "    \n",
    "    def construct(self, input_x):\n",
    "        output = self.flatten(input_x)\n",
    "        output = self.fc1(output)\n",
    "        output = self.fc2(output) \n",
    "        output = self.fc3(output)\n",
    "        return output  \n"
   ]
  },
  {
   "cell_type": "code",
   "execution_count": 6,
   "id": "e4c56557-967f-4716-9684-60b53ee6c31c",
   "metadata": {},
   "outputs": [],
   "source": [
    "#创建网络，损失函数，评估指标  优化器，设定相关超参数\n",
    "lr = 0.001\n",
    "num_epoch = 10\n",
    "momentum = 0.9\n",
    "\n",
    "net = ForwardNN()\n",
    "loss = nn.loss.SoftmaxCrossEntropyWithLogits(sparse=True, reduction='mean')\n",
    "metrics={\"Accuracy\": Accuracy()}\n",
    "opt = nn.Adam(net.trainable_params(), lr) \n"
   ]
  },
  {
   "cell_type": "code",
   "execution_count": 7,
   "id": "be50a3d2-07a9-49bd-b908-ffa73f403adc",
   "metadata": {},
   "outputs": [
    {
     "name": "stderr",
     "output_type": "stream",
     "text": [
      "[WARNING] ME(41085:139958250325824,MainProcess):2024-08-14-17:31:05.885.683 [mindspore/dataset/core/validator_helpers.py:744] 'Resize' from mindspore.dataset.vision.c_transforms is deprecated from version 1.8 and will be removed in a future version. Use 'Resize' from mindspore.dataset.vision instead.\n",
      "[WARNING] ME(41085:139958250325824,MainProcess):2024-08-14-17:31:05.886.806 [mindspore/dataset/core/validator_helpers.py:744] 'Rescale' from mindspore.dataset.vision.c_transforms is deprecated from version 1.8 and will be removed in a future version. Use 'Rescale' from mindspore.dataset.vision instead.\n",
      "[WARNING] ME(41085:139958250325824,MainProcess):2024-08-14-17:31:05.888.144 [mindspore/dataset/core/validator_helpers.py:744] 'HWC2CHW' from mindspore.dataset.vision.c_transforms is deprecated from version 1.8 and will be removed in a future version. Use 'HWC2CHW' from mindspore.dataset.vision instead.\n",
      "[WARNING] ME(41085:139958250325824,MainProcess):2024-08-14-17:31:05.889.817 [mindspore/dataset/core/validator_helpers.py:744] 'TypeCast' from mindspore.dataset.transforms.c_transforms is deprecated from version 1.8 and will be removed in a future version. Use 'TypeCast' from mindspore.dataset.transforms instead.\n",
      "[WARNING] ME(41085:139958250325824,MainProcess):2024-08-14-17:31:05.893.211 [mindspore/dataset/core/validator_helpers.py:744] 'Resize' from mindspore.dataset.vision.c_transforms is deprecated from version 1.8 and will be removed in a future version. Use 'Resize' from mindspore.dataset.vision instead.\n",
      "[WARNING] ME(41085:139958250325824,MainProcess):2024-08-14-17:31:05.894.373 [mindspore/dataset/core/validator_helpers.py:744] 'Rescale' from mindspore.dataset.vision.c_transforms is deprecated from version 1.8 and will be removed in a future version. Use 'Rescale' from mindspore.dataset.vision instead.\n",
      "[WARNING] ME(41085:139958250325824,MainProcess):2024-08-14-17:31:05.895.440 [mindspore/dataset/core/validator_helpers.py:744] 'HWC2CHW' from mindspore.dataset.vision.c_transforms is deprecated from version 1.8 and will be removed in a future version. Use 'HWC2CHW' from mindspore.dataset.vision instead.\n",
      "[WARNING] ME(41085:139958250325824,MainProcess):2024-08-14-17:31:05.896.338 [mindspore/dataset/core/validator_helpers.py:744] 'TypeCast' from mindspore.dataset.transforms.c_transforms is deprecated from version 1.8 and will be removed in a future version. Use 'TypeCast' from mindspore.dataset.transforms instead.\n"
     ]
    },
    {
     "name": "stdout",
     "output_type": "stream",
     "text": [
      "============== Starting Training ==============\n",
      "epoch: 1 step: 1875, loss is 0.01147345919162035\n",
      "Train epoch time: 7148.100 ms, per step time: 3.812 ms\n",
      "epoch: 2 step: 1875, loss is 0.023888975381851196\n",
      "Train epoch time: 6309.191 ms, per step time: 3.365 ms\n",
      "epoch: 3 step: 1875, loss is 0.11368030309677124\n",
      "Train epoch time: 6457.958 ms, per step time: 3.444 ms\n",
      "epoch: 4 step: 1875, loss is 0.017362091690301895\n",
      "Train epoch time: 7455.979 ms, per step time: 3.977 ms\n",
      "epoch: 5 step: 1875, loss is 0.0007836223230697215\n",
      "Train epoch time: 6617.086 ms, per step time: 3.529 ms\n",
      "epoch: 6 step: 1875, loss is 0.01729661412537098\n",
      "Train epoch time: 6565.260 ms, per step time: 3.501 ms\n",
      "epoch: 7 step: 1875, loss is 0.001522732782177627\n",
      "Train epoch time: 6767.596 ms, per step time: 3.609 ms\n",
      "epoch: 8 step: 1875, loss is 0.004574342165142298\n",
      "Train epoch time: 6445.516 ms, per step time: 3.438 ms\n",
      "epoch: 9 step: 1875, loss is 0.0011980949202552438\n",
      "Train epoch time: 6291.481 ms, per step time: 3.355 ms\n",
      "epoch: 10 step: 1875, loss is 0.007185689173638821\n",
      "Train epoch time: 6420.575 ms, per step time: 3.424 ms\n"
     ]
    }
   ],
   "source": [
    "#编译模型\n",
    "model = Model(net, loss, opt, metrics)\n",
    "config_ck = CheckpointConfig(save_checkpoint_steps=1875, keep_checkpoint_max=10)\n",
    "ckpoint_cb = ModelCheckpoint(prefix=\"checkpoint_net\",directory = \"./ckpt\" ,config=config_ck)\n",
    "#生成数据集\n",
    "ds_eval = create_dataset(False, batch_size=32)\n",
    "ds_train = create_dataset(batch_size=32)\n",
    "#训练模型\n",
    "loss_cb = LossMonitor(per_print_times=1875)\n",
    "time_cb = TimeMonitor(data_size=ds_train.get_dataset_size())\n",
    "print(\"============== Starting Training ==============\")\n",
    "model.train(num_epoch, ds_train,callbacks=[ckpoint_cb,loss_cb,time_cb ],dataset_sink_mode=False)\n"
   ]
  },
  {
   "cell_type": "code",
   "execution_count": 8,
   "id": "d0bbeaec-323d-4e38-9379-1123ce206ab6",
   "metadata": {},
   "outputs": [
    {
     "name": "stdout",
     "output_type": "stream",
     "text": [
      "{'Accuracy': 0.9797676282051282}\n"
     ]
    }
   ],
   "source": [
    "#使用测试集评估模型，打印总体准确率\n",
    "metrics=model.eval(ds_eval)\n",
    "print(metrics)\n",
    "\n"
   ]
  },
  {
   "cell_type": "code",
   "execution_count": null,
   "id": "4f7ee352-6cfd-423e-bd9e-e0ba5e419bf2",
   "metadata": {},
   "outputs": [],
   "source": []
  }
 ],
 "metadata": {
  "kernelspec": {
   "display_name": "PyTorch-1.8",
   "language": "python",
   "name": "pytorch-1.8"
  },
  "language_info": {
   "codemirror_mode": {
    "name": "ipython",
    "version": 3
   },
   "file_extension": ".py",
   "mimetype": "text/x-python",
   "name": "python",
   "nbconvert_exporter": "python",
   "pygments_lexer": "ipython3",
   "version": "3.7.10"
  }
 },
 "nbformat": 4,
 "nbformat_minor": 5
}
